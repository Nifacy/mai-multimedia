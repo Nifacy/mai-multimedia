{
  "nbformat": 4,
  "nbformat_minor": 0,
  "metadata": {
    "colab": {
      "provenance": [],
      "toc_visible": true
    },
    "kernelspec": {
      "name": "python3",
      "display_name": "Python 3"
    },
    "language_info": {
      "name": "python"
    }
  },
  "cells": [
    {
      "cell_type": "markdown",
      "source": [
        "# Лабораторная работа №5 \"Проведение исследований со градиентным бустингом\""
      ],
      "metadata": {
        "id": "p29rUlbdcAxO"
      }
    },
    {
      "cell_type": "markdown",
      "source": [
        "## Подключение вспомогательных библиотек"
      ],
      "metadata": {
        "id": "cKr_xS4TcKUK"
      }
    },
    {
      "cell_type": "code",
      "execution_count": 38,
      "metadata": {
        "id": "xVFwZnS9b453"
      },
      "outputs": [],
      "source": [
        "from dataclasses import dataclass\n",
        "from typing import Union\n",
        "\n",
        "import collections\n",
        "import math\n",
        "import tqdm\n",
        "\n",
        "import pandas as pd\n",
        "import matplotlib.pyplot as plt\n",
        "import seaborn as sns\n",
        "import numpy as np\n",
        "\n",
        "import sklearn.metrics\n",
        "import sklearn.model_selection\n",
        "import sklearn.ensemble\n",
        "import sklearn.utils"
      ]
    },
    {
      "cell_type": "markdown",
      "source": [
        "## Классификация"
      ],
      "metadata": {
        "id": "Zi8TdaRlcPe_"
      }
    },
    {
      "cell_type": "markdown",
      "source": [
        "### 2. Создание бейзлайна и оценка качества"
      ],
      "metadata": {
        "id": "DvGwvhsBcRGt"
      }
    },
    {
      "cell_type": "markdown",
      "source": [
        "#### Подготовка бейзлайна"
      ],
      "metadata": {
        "id": "5jyPvMP9cSmv"
      }
    },
    {
      "cell_type": "markdown",
      "source": [
        "Перед началом обучения модели сформируем бейзлайн, подобно тому, как это было выполнено в рамках лабораторной работы №1"
      ],
      "metadata": {
        "id": "ejd5qw0ucT6Q"
      }
    },
    {
      "cell_type": "code",
      "source": [
        "!kaggle datasets download -q -p dataset -d saurabhbadole/bank-customer-churn-prediction-dataset\n",
        "!unzip dataset/bank-customer-churn-prediction-dataset.zip -d dataset/\n",
        "\n",
        "ds = pd.read_csv(\"dataset/Churn_Modelling.csv\")\n",
        "ds.head()\n",
        "\n",
        "baseline_ds = ds.drop(columns=[\"RowNumber\", \"CustomerId\", \"Surname\"])\n",
        "\n",
        "baseline_ds = pd.get_dummies(baseline_ds, columns=[\"Geography\"], dtype=int)\n",
        "baseline_ds = pd.get_dummies(baseline_ds, columns=[\"Gender\"], dtype=int)\n",
        "\n",
        "baseline_ds.head()"
      ],
      "metadata": {
        "colab": {
          "base_uri": "https://localhost:8080/",
          "height": 299
        },
        "id": "DAs-dQNfcVBL",
        "outputId": "c72515aa-68f9-43ee-b522-a565868531f7"
      },
      "execution_count": 2,
      "outputs": [
        {
          "output_type": "stream",
          "name": "stdout",
          "text": [
            "Dataset URL: https://www.kaggle.com/datasets/saurabhbadole/bank-customer-churn-prediction-dataset\n",
            "License(s): Attribution-NonCommercial-NoDerivatives 4.0 International (CC BY-NC-ND 4.0)\n",
            "Archive:  dataset/bank-customer-churn-prediction-dataset.zip\n",
            "  inflating: dataset/Churn_Modelling.csv  \n"
          ]
        },
        {
          "output_type": "execute_result",
          "data": {
            "text/plain": [
              "   CreditScore  Age  Tenure    Balance  NumOfProducts  HasCrCard  \\\n",
              "0          619   42       2       0.00              1          1   \n",
              "1          608   41       1   83807.86              1          0   \n",
              "2          502   42       8  159660.80              3          1   \n",
              "3          699   39       1       0.00              2          0   \n",
              "4          850   43       2  125510.82              1          1   \n",
              "\n",
              "   IsActiveMember  EstimatedSalary  Exited  Geography_France  \\\n",
              "0               1        101348.88       1                 1   \n",
              "1               1        112542.58       0                 0   \n",
              "2               0        113931.57       1                 1   \n",
              "3               0         93826.63       0                 1   \n",
              "4               1         79084.10       0                 0   \n",
              "\n",
              "   Geography_Germany  Geography_Spain  Gender_Female  Gender_Male  \n",
              "0                  0                0              1            0  \n",
              "1                  0                1              1            0  \n",
              "2                  0                0              1            0  \n",
              "3                  0                0              1            0  \n",
              "4                  0                1              1            0  "
            ],
            "text/html": [
              "\n",
              "  <div id=\"df-d1abc217-3994-4e25-8f63-8754a4f0378c\" class=\"colab-df-container\">\n",
              "    <div>\n",
              "<style scoped>\n",
              "    .dataframe tbody tr th:only-of-type {\n",
              "        vertical-align: middle;\n",
              "    }\n",
              "\n",
              "    .dataframe tbody tr th {\n",
              "        vertical-align: top;\n",
              "    }\n",
              "\n",
              "    .dataframe thead th {\n",
              "        text-align: right;\n",
              "    }\n",
              "</style>\n",
              "<table border=\"1\" class=\"dataframe\">\n",
              "  <thead>\n",
              "    <tr style=\"text-align: right;\">\n",
              "      <th></th>\n",
              "      <th>CreditScore</th>\n",
              "      <th>Age</th>\n",
              "      <th>Tenure</th>\n",
              "      <th>Balance</th>\n",
              "      <th>NumOfProducts</th>\n",
              "      <th>HasCrCard</th>\n",
              "      <th>IsActiveMember</th>\n",
              "      <th>EstimatedSalary</th>\n",
              "      <th>Exited</th>\n",
              "      <th>Geography_France</th>\n",
              "      <th>Geography_Germany</th>\n",
              "      <th>Geography_Spain</th>\n",
              "      <th>Gender_Female</th>\n",
              "      <th>Gender_Male</th>\n",
              "    </tr>\n",
              "  </thead>\n",
              "  <tbody>\n",
              "    <tr>\n",
              "      <th>0</th>\n",
              "      <td>619</td>\n",
              "      <td>42</td>\n",
              "      <td>2</td>\n",
              "      <td>0.00</td>\n",
              "      <td>1</td>\n",
              "      <td>1</td>\n",
              "      <td>1</td>\n",
              "      <td>101348.88</td>\n",
              "      <td>1</td>\n",
              "      <td>1</td>\n",
              "      <td>0</td>\n",
              "      <td>0</td>\n",
              "      <td>1</td>\n",
              "      <td>0</td>\n",
              "    </tr>\n",
              "    <tr>\n",
              "      <th>1</th>\n",
              "      <td>608</td>\n",
              "      <td>41</td>\n",
              "      <td>1</td>\n",
              "      <td>83807.86</td>\n",
              "      <td>1</td>\n",
              "      <td>0</td>\n",
              "      <td>1</td>\n",
              "      <td>112542.58</td>\n",
              "      <td>0</td>\n",
              "      <td>0</td>\n",
              "      <td>0</td>\n",
              "      <td>1</td>\n",
              "      <td>1</td>\n",
              "      <td>0</td>\n",
              "    </tr>\n",
              "    <tr>\n",
              "      <th>2</th>\n",
              "      <td>502</td>\n",
              "      <td>42</td>\n",
              "      <td>8</td>\n",
              "      <td>159660.80</td>\n",
              "      <td>3</td>\n",
              "      <td>1</td>\n",
              "      <td>0</td>\n",
              "      <td>113931.57</td>\n",
              "      <td>1</td>\n",
              "      <td>1</td>\n",
              "      <td>0</td>\n",
              "      <td>0</td>\n",
              "      <td>1</td>\n",
              "      <td>0</td>\n",
              "    </tr>\n",
              "    <tr>\n",
              "      <th>3</th>\n",
              "      <td>699</td>\n",
              "      <td>39</td>\n",
              "      <td>1</td>\n",
              "      <td>0.00</td>\n",
              "      <td>2</td>\n",
              "      <td>0</td>\n",
              "      <td>0</td>\n",
              "      <td>93826.63</td>\n",
              "      <td>0</td>\n",
              "      <td>1</td>\n",
              "      <td>0</td>\n",
              "      <td>0</td>\n",
              "      <td>1</td>\n",
              "      <td>0</td>\n",
              "    </tr>\n",
              "    <tr>\n",
              "      <th>4</th>\n",
              "      <td>850</td>\n",
              "      <td>43</td>\n",
              "      <td>2</td>\n",
              "      <td>125510.82</td>\n",
              "      <td>1</td>\n",
              "      <td>1</td>\n",
              "      <td>1</td>\n",
              "      <td>79084.10</td>\n",
              "      <td>0</td>\n",
              "      <td>0</td>\n",
              "      <td>0</td>\n",
              "      <td>1</td>\n",
              "      <td>1</td>\n",
              "      <td>0</td>\n",
              "    </tr>\n",
              "  </tbody>\n",
              "</table>\n",
              "</div>\n",
              "    <div class=\"colab-df-buttons\">\n",
              "\n",
              "  <div class=\"colab-df-container\">\n",
              "    <button class=\"colab-df-convert\" onclick=\"convertToInteractive('df-d1abc217-3994-4e25-8f63-8754a4f0378c')\"\n",
              "            title=\"Convert this dataframe to an interactive table.\"\n",
              "            style=\"display:none;\">\n",
              "\n",
              "  <svg xmlns=\"http://www.w3.org/2000/svg\" height=\"24px\" viewBox=\"0 -960 960 960\">\n",
              "    <path d=\"M120-120v-720h720v720H120Zm60-500h600v-160H180v160Zm220 220h160v-160H400v160Zm0 220h160v-160H400v160ZM180-400h160v-160H180v160Zm440 0h160v-160H620v160ZM180-180h160v-160H180v160Zm440 0h160v-160H620v160Z\"/>\n",
              "  </svg>\n",
              "    </button>\n",
              "\n",
              "  <style>\n",
              "    .colab-df-container {\n",
              "      display:flex;\n",
              "      gap: 12px;\n",
              "    }\n",
              "\n",
              "    .colab-df-convert {\n",
              "      background-color: #E8F0FE;\n",
              "      border: none;\n",
              "      border-radius: 50%;\n",
              "      cursor: pointer;\n",
              "      display: none;\n",
              "      fill: #1967D2;\n",
              "      height: 32px;\n",
              "      padding: 0 0 0 0;\n",
              "      width: 32px;\n",
              "    }\n",
              "\n",
              "    .colab-df-convert:hover {\n",
              "      background-color: #E2EBFA;\n",
              "      box-shadow: 0px 1px 2px rgba(60, 64, 67, 0.3), 0px 1px 3px 1px rgba(60, 64, 67, 0.15);\n",
              "      fill: #174EA6;\n",
              "    }\n",
              "\n",
              "    .colab-df-buttons div {\n",
              "      margin-bottom: 4px;\n",
              "    }\n",
              "\n",
              "    [theme=dark] .colab-df-convert {\n",
              "      background-color: #3B4455;\n",
              "      fill: #D2E3FC;\n",
              "    }\n",
              "\n",
              "    [theme=dark] .colab-df-convert:hover {\n",
              "      background-color: #434B5C;\n",
              "      box-shadow: 0px 1px 3px 1px rgba(0, 0, 0, 0.15);\n",
              "      filter: drop-shadow(0px 1px 2px rgba(0, 0, 0, 0.3));\n",
              "      fill: #FFFFFF;\n",
              "    }\n",
              "  </style>\n",
              "\n",
              "    <script>\n",
              "      const buttonEl =\n",
              "        document.querySelector('#df-d1abc217-3994-4e25-8f63-8754a4f0378c button.colab-df-convert');\n",
              "      buttonEl.style.display =\n",
              "        google.colab.kernel.accessAllowed ? 'block' : 'none';\n",
              "\n",
              "      async function convertToInteractive(key) {\n",
              "        const element = document.querySelector('#df-d1abc217-3994-4e25-8f63-8754a4f0378c');\n",
              "        const dataTable =\n",
              "          await google.colab.kernel.invokeFunction('convertToInteractive',\n",
              "                                                    [key], {});\n",
              "        if (!dataTable) return;\n",
              "\n",
              "        const docLinkHtml = 'Like what you see? Visit the ' +\n",
              "          '<a target=\"_blank\" href=https://colab.research.google.com/notebooks/data_table.ipynb>data table notebook</a>'\n",
              "          + ' to learn more about interactive tables.';\n",
              "        element.innerHTML = '';\n",
              "        dataTable['output_type'] = 'display_data';\n",
              "        await google.colab.output.renderOutput(dataTable, element);\n",
              "        const docLink = document.createElement('div');\n",
              "        docLink.innerHTML = docLinkHtml;\n",
              "        element.appendChild(docLink);\n",
              "      }\n",
              "    </script>\n",
              "  </div>\n",
              "\n",
              "\n",
              "<div id=\"df-1fb0d18f-f7e0-4d74-9b26-883db56ae3bd\">\n",
              "  <button class=\"colab-df-quickchart\" onclick=\"quickchart('df-1fb0d18f-f7e0-4d74-9b26-883db56ae3bd')\"\n",
              "            title=\"Suggest charts\"\n",
              "            style=\"display:none;\">\n",
              "\n",
              "<svg xmlns=\"http://www.w3.org/2000/svg\" height=\"24px\"viewBox=\"0 0 24 24\"\n",
              "     width=\"24px\">\n",
              "    <g>\n",
              "        <path d=\"M19 3H5c-1.1 0-2 .9-2 2v14c0 1.1.9 2 2 2h14c1.1 0 2-.9 2-2V5c0-1.1-.9-2-2-2zM9 17H7v-7h2v7zm4 0h-2V7h2v10zm4 0h-2v-4h2v4z\"/>\n",
              "    </g>\n",
              "</svg>\n",
              "  </button>\n",
              "\n",
              "<style>\n",
              "  .colab-df-quickchart {\n",
              "      --bg-color: #E8F0FE;\n",
              "      --fill-color: #1967D2;\n",
              "      --hover-bg-color: #E2EBFA;\n",
              "      --hover-fill-color: #174EA6;\n",
              "      --disabled-fill-color: #AAA;\n",
              "      --disabled-bg-color: #DDD;\n",
              "  }\n",
              "\n",
              "  [theme=dark] .colab-df-quickchart {\n",
              "      --bg-color: #3B4455;\n",
              "      --fill-color: #D2E3FC;\n",
              "      --hover-bg-color: #434B5C;\n",
              "      --hover-fill-color: #FFFFFF;\n",
              "      --disabled-bg-color: #3B4455;\n",
              "      --disabled-fill-color: #666;\n",
              "  }\n",
              "\n",
              "  .colab-df-quickchart {\n",
              "    background-color: var(--bg-color);\n",
              "    border: none;\n",
              "    border-radius: 50%;\n",
              "    cursor: pointer;\n",
              "    display: none;\n",
              "    fill: var(--fill-color);\n",
              "    height: 32px;\n",
              "    padding: 0;\n",
              "    width: 32px;\n",
              "  }\n",
              "\n",
              "  .colab-df-quickchart:hover {\n",
              "    background-color: var(--hover-bg-color);\n",
              "    box-shadow: 0 1px 2px rgba(60, 64, 67, 0.3), 0 1px 3px 1px rgba(60, 64, 67, 0.15);\n",
              "    fill: var(--button-hover-fill-color);\n",
              "  }\n",
              "\n",
              "  .colab-df-quickchart-complete:disabled,\n",
              "  .colab-df-quickchart-complete:disabled:hover {\n",
              "    background-color: var(--disabled-bg-color);\n",
              "    fill: var(--disabled-fill-color);\n",
              "    box-shadow: none;\n",
              "  }\n",
              "\n",
              "  .colab-df-spinner {\n",
              "    border: 2px solid var(--fill-color);\n",
              "    border-color: transparent;\n",
              "    border-bottom-color: var(--fill-color);\n",
              "    animation:\n",
              "      spin 1s steps(1) infinite;\n",
              "  }\n",
              "\n",
              "  @keyframes spin {\n",
              "    0% {\n",
              "      border-color: transparent;\n",
              "      border-bottom-color: var(--fill-color);\n",
              "      border-left-color: var(--fill-color);\n",
              "    }\n",
              "    20% {\n",
              "      border-color: transparent;\n",
              "      border-left-color: var(--fill-color);\n",
              "      border-top-color: var(--fill-color);\n",
              "    }\n",
              "    30% {\n",
              "      border-color: transparent;\n",
              "      border-left-color: var(--fill-color);\n",
              "      border-top-color: var(--fill-color);\n",
              "      border-right-color: var(--fill-color);\n",
              "    }\n",
              "    40% {\n",
              "      border-color: transparent;\n",
              "      border-right-color: var(--fill-color);\n",
              "      border-top-color: var(--fill-color);\n",
              "    }\n",
              "    60% {\n",
              "      border-color: transparent;\n",
              "      border-right-color: var(--fill-color);\n",
              "    }\n",
              "    80% {\n",
              "      border-color: transparent;\n",
              "      border-right-color: var(--fill-color);\n",
              "      border-bottom-color: var(--fill-color);\n",
              "    }\n",
              "    90% {\n",
              "      border-color: transparent;\n",
              "      border-bottom-color: var(--fill-color);\n",
              "    }\n",
              "  }\n",
              "</style>\n",
              "\n",
              "  <script>\n",
              "    async function quickchart(key) {\n",
              "      const quickchartButtonEl =\n",
              "        document.querySelector('#' + key + ' button');\n",
              "      quickchartButtonEl.disabled = true;  // To prevent multiple clicks.\n",
              "      quickchartButtonEl.classList.add('colab-df-spinner');\n",
              "      try {\n",
              "        const charts = await google.colab.kernel.invokeFunction(\n",
              "            'suggestCharts', [key], {});\n",
              "      } catch (error) {\n",
              "        console.error('Error during call to suggestCharts:', error);\n",
              "      }\n",
              "      quickchartButtonEl.classList.remove('colab-df-spinner');\n",
              "      quickchartButtonEl.classList.add('colab-df-quickchart-complete');\n",
              "    }\n",
              "    (() => {\n",
              "      let quickchartButtonEl =\n",
              "        document.querySelector('#df-1fb0d18f-f7e0-4d74-9b26-883db56ae3bd button');\n",
              "      quickchartButtonEl.style.display =\n",
              "        google.colab.kernel.accessAllowed ? 'block' : 'none';\n",
              "    })();\n",
              "  </script>\n",
              "</div>\n",
              "    </div>\n",
              "  </div>\n"
            ],
            "application/vnd.google.colaboratory.intrinsic+json": {
              "type": "dataframe",
              "variable_name": "baseline_ds",
              "summary": "{\n  \"name\": \"baseline_ds\",\n  \"rows\": 10000,\n  \"fields\": [\n    {\n      \"column\": \"CreditScore\",\n      \"properties\": {\n        \"dtype\": \"number\",\n        \"std\": 96,\n        \"min\": 350,\n        \"max\": 850,\n        \"num_unique_values\": 460,\n        \"samples\": [\n          754,\n          533,\n          744\n        ],\n        \"semantic_type\": \"\",\n        \"description\": \"\"\n      }\n    },\n    {\n      \"column\": \"Age\",\n      \"properties\": {\n        \"dtype\": \"number\",\n        \"std\": 10,\n        \"min\": 18,\n        \"max\": 92,\n        \"num_unique_values\": 70,\n        \"samples\": [\n          61,\n          42,\n          59\n        ],\n        \"semantic_type\": \"\",\n        \"description\": \"\"\n      }\n    },\n    {\n      \"column\": \"Tenure\",\n      \"properties\": {\n        \"dtype\": \"number\",\n        \"std\": 2,\n        \"min\": 0,\n        \"max\": 10,\n        \"num_unique_values\": 11,\n        \"samples\": [\n          6,\n          2,\n          9\n        ],\n        \"semantic_type\": \"\",\n        \"description\": \"\"\n      }\n    },\n    {\n      \"column\": \"Balance\",\n      \"properties\": {\n        \"dtype\": \"number\",\n        \"std\": 62397.40520238623,\n        \"min\": 0.0,\n        \"max\": 250898.09,\n        \"num_unique_values\": 6382,\n        \"samples\": [\n          117707.18,\n          133050.97,\n          124271.26\n        ],\n        \"semantic_type\": \"\",\n        \"description\": \"\"\n      }\n    },\n    {\n      \"column\": \"NumOfProducts\",\n      \"properties\": {\n        \"dtype\": \"number\",\n        \"std\": 0,\n        \"min\": 1,\n        \"max\": 4,\n        \"num_unique_values\": 4,\n        \"samples\": [\n          3,\n          4,\n          1\n        ],\n        \"semantic_type\": \"\",\n        \"description\": \"\"\n      }\n    },\n    {\n      \"column\": \"HasCrCard\",\n      \"properties\": {\n        \"dtype\": \"number\",\n        \"std\": 0,\n        \"min\": 0,\n        \"max\": 1,\n        \"num_unique_values\": 2,\n        \"samples\": [\n          0,\n          1\n        ],\n        \"semantic_type\": \"\",\n        \"description\": \"\"\n      }\n    },\n    {\n      \"column\": \"IsActiveMember\",\n      \"properties\": {\n        \"dtype\": \"number\",\n        \"std\": 0,\n        \"min\": 0,\n        \"max\": 1,\n        \"num_unique_values\": 2,\n        \"samples\": [\n          0,\n          1\n        ],\n        \"semantic_type\": \"\",\n        \"description\": \"\"\n      }\n    },\n    {\n      \"column\": \"EstimatedSalary\",\n      \"properties\": {\n        \"dtype\": \"number\",\n        \"std\": 57510.49281769822,\n        \"min\": 11.58,\n        \"max\": 199992.48,\n        \"num_unique_values\": 9999,\n        \"samples\": [\n          100809.99,\n          95273.73\n        ],\n        \"semantic_type\": \"\",\n        \"description\": \"\"\n      }\n    },\n    {\n      \"column\": \"Exited\",\n      \"properties\": {\n        \"dtype\": \"number\",\n        \"std\": 0,\n        \"min\": 0,\n        \"max\": 1,\n        \"num_unique_values\": 2,\n        \"samples\": [\n          0,\n          1\n        ],\n        \"semantic_type\": \"\",\n        \"description\": \"\"\n      }\n    },\n    {\n      \"column\": \"Geography_France\",\n      \"properties\": {\n        \"dtype\": \"number\",\n        \"std\": 0,\n        \"min\": 0,\n        \"max\": 1,\n        \"num_unique_values\": 2,\n        \"samples\": [\n          0,\n          1\n        ],\n        \"semantic_type\": \"\",\n        \"description\": \"\"\n      }\n    },\n    {\n      \"column\": \"Geography_Germany\",\n      \"properties\": {\n        \"dtype\": \"number\",\n        \"std\": 0,\n        \"min\": 0,\n        \"max\": 1,\n        \"num_unique_values\": 2,\n        \"samples\": [\n          1,\n          0\n        ],\n        \"semantic_type\": \"\",\n        \"description\": \"\"\n      }\n    },\n    {\n      \"column\": \"Geography_Spain\",\n      \"properties\": {\n        \"dtype\": \"number\",\n        \"std\": 0,\n        \"min\": 0,\n        \"max\": 1,\n        \"num_unique_values\": 2,\n        \"samples\": [\n          1,\n          0\n        ],\n        \"semantic_type\": \"\",\n        \"description\": \"\"\n      }\n    },\n    {\n      \"column\": \"Gender_Female\",\n      \"properties\": {\n        \"dtype\": \"number\",\n        \"std\": 0,\n        \"min\": 0,\n        \"max\": 1,\n        \"num_unique_values\": 2,\n        \"samples\": [\n          0,\n          1\n        ],\n        \"semantic_type\": \"\",\n        \"description\": \"\"\n      }\n    },\n    {\n      \"column\": \"Gender_Male\",\n      \"properties\": {\n        \"dtype\": \"number\",\n        \"std\": 0,\n        \"min\": 0,\n        \"max\": 1,\n        \"num_unique_values\": 2,\n        \"samples\": [\n          1,\n          0\n        ],\n        \"semantic_type\": \"\",\n        \"description\": \"\"\n      }\n    }\n  ]\n}"
            }
          },
          "metadata": {},
          "execution_count": 2
        }
      ]
    },
    {
      "cell_type": "markdown",
      "source": [
        "#### Обучение модели"
      ],
      "metadata": {
        "id": "nEM_u2ETcYrC"
      }
    },
    {
      "cell_type": "markdown",
      "source": [
        "Перейдем теперь к этапу обучения модели. По аналогии с лабораторной работой №1, для этого создадим вспомогательные функции:\n",
        "\n",
        "- `generate_train_data` - отвечает за то, чтобы сгенерировать набор данных для тестирования и обучения на основе переданного датасета\n",
        "\n",
        "- `get_model_metrics` - отвечает за рассчет показаний метрик для уже обученной модели на основе тестовых данных\n",
        "\n",
        "- `print_model_metrics` - отвечает за отформатированный вывод показаний метрик"
      ],
      "metadata": {
        "id": "dhKRNgXycab9"
      }
    },
    {
      "cell_type": "code",
      "source": [
        "def generate_train_data(dataset, *, target_feature=\"Exited\", random_state=42, test_size=0.2):\n",
        "  X = dataset.drop(columns=[target_feature])\n",
        "  y = dataset[target_feature]\n",
        "\n",
        "  X_train, X_test, y_train, y_test = map(\n",
        "    np.array,\n",
        "    sklearn.model_selection.train_test_split(\n",
        "      X, y,\n",
        "      test_size=test_size,\n",
        "      random_state=random_state,\n",
        "    ),\n",
        "  )\n",
        "\n",
        "  return (X_train, y_train), (X_test, y_test)\n",
        "\n",
        "\n",
        "def get_model_metrics(model, X_test, y_test):\n",
        "  y_pred = model.predict(X_test)\n",
        "\n",
        "  accuracy = sklearn.metrics.accuracy_score(y_test, y_pred)\n",
        "  precision = sklearn.metrics.precision_score(y_test, y_pred)\n",
        "  recall = sklearn.metrics.recall_score(y_test, y_pred)\n",
        "  f1 = sklearn.metrics.f1_score(y_test, y_pred)\n",
        "\n",
        "  confusion_matrix = sklearn.metrics.confusion_matrix(y_test, y_pred)\n",
        "\n",
        "  return {\n",
        "    \"accuracy\": accuracy,\n",
        "    \"precision\": precision,\n",
        "    \"recall\": recall,\n",
        "    \"f1\": f1,\n",
        "    \"confusion_matrix\": confusion_matrix,\n",
        "  }\n",
        "\n",
        "\n",
        "def print_model_metrics(model, X_test, y_test):\n",
        "  metrics = get_model_metrics(model, X_test, y_test)\n",
        "\n",
        "  print(f\"Accuracy: {metrics['accuracy']:.4f}\")\n",
        "  print(f\"Precision: {metrics['precision']:.4f}\")\n",
        "  print(f\"Recall: {metrics['recall']:.4f}\")\n",
        "  print(f\"F1-Score: {metrics['f1']:.4f}\")\n",
        "\n",
        "  print(\"\\nConfusion Matrix:\")\n",
        "  print(metrics[\"confusion_matrix\"])\n"
      ],
      "metadata": {
        "id": "kC9XQnxYcccu"
      },
      "execution_count": 3,
      "outputs": []
    },
    {
      "cell_type": "markdown",
      "source": [
        "Обучим теперь модель градиентного бустинга для решения задачи классификации на бейзлайн-датасете, который мы ранее определили, и выведем на экран показатели метрик для итоговой обученной модели."
      ],
      "metadata": {
        "id": "MOg0ehKnceRy"
      }
    },
    {
      "cell_type": "code",
      "source": [
        "(X_train, y_train), (X_test, y_test) = generate_train_data(baseline_ds)\n",
        "\n",
        "model = sklearn.ensemble.GradientBoostingClassifier(random_state=42)\n",
        "model.fit(X_train, y_train)\n",
        "\n",
        "print_model_metrics(model, X_test, y_test)"
      ],
      "metadata": {
        "colab": {
          "base_uri": "https://localhost:8080/"
        },
        "id": "y-wZYogwcnEQ",
        "outputId": "bb4923a5-626e-4e92-e0c5-64311513ae14"
      },
      "execution_count": 4,
      "outputs": [
        {
          "output_type": "stream",
          "name": "stdout",
          "text": [
            "Accuracy: 0.8640\n",
            "Precision: 0.7410\n",
            "Recall: 0.4733\n",
            "F1-Score: 0.5776\n",
            "\n",
            "Confusion Matrix:\n",
            "[[1542   65]\n",
            " [ 207  186]]\n"
          ]
        }
      ]
    },
    {
      "cell_type": "markdown",
      "source": [
        "На основе полученных данных можно сделать следующие выводы о качестве обученной модели.\n",
        "\n",
        "Высокие значения метрики \"Accuracy\" говорят о том, что модель хороша справляется с проблемой ложных срабатываний. Но стоит также учитывать, что в силу несбалансированности классов в датасете, данная метрика не является слишком инфомративной.\n",
        "\n",
        "Неспособность модели работать с редким классом подчеркивается низкими показателями метрик \"F1-Score\" и \"Recall\".\n",
        "\n",
        "Итого, при дальнейшей оптимизации бейзлайна предлагается сделать упор на редкий класс для улучшения показаний метрики \"F1-Score\", как это было сделано в прошлых лабораторных работах."
      ],
      "metadata": {
        "id": "6sYcw9Aoc6OV"
      }
    },
    {
      "cell_type": "markdown",
      "source": [
        "### 3. Улучшение бейзлайна"
      ],
      "metadata": {
        "id": "7yUFyJnsddnJ"
      }
    },
    {
      "cell_type": "markdown",
      "source": [
        "#### Удаление лишних признаков"
      ],
      "metadata": {
        "id": "IAV-pA0QdfDX"
      }
    },
    {
      "cell_type": "markdown",
      "source": [
        "Аналогично с тем, как это проделано в лабораторной работе №4, применим гипотезу о наличии лишних признаков, которые мешают эффективному обучению модели, к модели градиентного бустинга.\n",
        "\n",
        "Аналогично с прошлой лабораторной работой, воспользуемся матрицей корреляции для нахождения лишних признаков."
      ],
      "metadata": {
        "id": "_wzXPTC1diWR"
      }
    },
    {
      "cell_type": "code",
      "source": [
        "corr_matrix = baseline_ds.corr().drop(\"Exited\", axis=0)\n",
        "\n",
        "plt.figure(figsize=(18, 18))\n",
        "sns.heatmap(corr_matrix, annot=True, fmt=\".2f\", cmap=\"coolwarm\")\n",
        "plt.title(\"Корреляционная матрица\")\n",
        "plt.show()"
      ],
      "metadata": {
        "colab": {
          "base_uri": "https://localhost:8080/",
          "height": 1000
        },
        "id": "UDVC58pRd2id",
        "outputId": "13e1cd8e-df5c-41b9-906e-10a90b3e2f77"
      },
      "execution_count": 5,
      "outputs": [
        {
          "output_type": "display_data",
          "data": {
            "text/plain": [
              "<Figure size 1800x1800 with 2 Axes>"
            ],
            "image/png": "[encoded data removed]"
          },
          "metadata": {}
        }
      ]
    },
    {
      "cell_type": "markdown",
      "source": [
        "Как видим, у нас есть мультиколлинеарные признаки `Gender_Male` и `Geography_Germany`. Попробуем убрать их из датасета и проверить, улучшилось ли после данной оптимизации итоговое качество модели."
      ],
      "metadata": {
        "id": "LJkwUf8ceBdU"
      }
    },
    {
      "cell_type": "code",
      "source": [
        "optimized_ds = baseline_ds.drop(columns=[\"Gender_Male\", \"Geography_Germany\"])\n",
        "\n",
        "# обучение модели\n",
        "\n",
        "(X_train, y_train), (X_test, y_test) = generate_train_data(optimized_ds)\n",
        "\n",
        "model = sklearn.ensemble.GradientBoostingClassifier(random_state=42)\n",
        "model.fit(X_train, y_train)\n",
        "\n",
        "print_model_metrics(model, X_test, y_test)"
      ],
      "metadata": {
        "colab": {
          "base_uri": "https://localhost:8080/"
        },
        "id": "2zmAewy4eEeA",
        "outputId": "f33ea8d8-672b-432b-d49a-d70eeafe01af"
      },
      "execution_count": 6,
      "outputs": [
        {
          "output_type": "stream",
          "name": "stdout",
          "text": [
            "Accuracy: 0.8660\n",
            "Precision: 0.7551\n",
            "Recall: 0.4707\n",
            "F1-Score: 0.5799\n",
            "\n",
            "Confusion Matrix:\n",
            "[[1547   60]\n",
            " [ 208  185]]\n"
          ]
        }
      ]
    },
    {
      "cell_type": "markdown",
      "source": [
        "Как видно, после проведенных оптимизаций значения метрик улучшились, но незначительно, что связанно с тем, что деревья решений и градиентный бустинг, основанный на них, хорошо справляются с избыточностью информации."
      ],
      "metadata": {
        "id": "Zc2kppnSeLcp"
      }
    },
    {
      "cell_type": "markdown",
      "source": [
        "#### Нормализация данных"
      ],
      "metadata": {
        "id": "t9JK6DNweW_m"
      }
    },
    {
      "cell_type": "markdown",
      "source": [
        "Подобно прошлым лабораторным работам, применим гипотезу о наличии несбалансированных распределений во входных данных и их возможном негативном влиянии на обучение модели.\n",
        "\n",
        "В качестве целевого признака возьмем признак `Age`. Аналогично с прошлыми лабораторными работами, выведем графики для дальнейшего анализа на наличие несбалансированного распределения значений признака."
      ],
      "metadata": {
        "id": "k1WwW7JpeX25"
      }
    },
    {
      "cell_type": "code",
      "source": [
        "fig, axes = plt.subplots(1, 2, figsize=(18, 8))\n",
        "\n",
        "sns.boxplot(x=optimized_ds[\"Age\"], ax=axes[0])\n",
        "axes[0].set_title(\"Распределение возраста (Boxplot)\")\n",
        "axes[0].set_xlabel(\"Возраст\")\n",
        "axes[0].set_ylabel(\"Значение\")\n",
        "\n",
        "optimized_ds[[\"Age\"]].hist(bins=30, ax=axes[1])\n",
        "axes[1].set_title(\"Распределение возраста (Гистограмма)\")\n",
        "axes[1].set_xlabel(\"Возраст\")\n",
        "axes[1].set_ylabel(\"Частота\")\n",
        "\n",
        "plt.tight_layout()\n",
        "plt.show()"
      ],
      "metadata": {
        "colab": {
          "base_uri": "https://localhost:8080/",
          "height": 583
        },
        "id": "a3-vCDcSfDGq",
        "outputId": "daf3770e-069a-4038-9e41-e92d4723c4ec"
      },
      "execution_count": 7,
      "outputs": [
        {
          "output_type": "display_data",
          "data": {
            "text/plain": [
              "<Figure size 1800x800 with 2 Axes>"
            ],
            "image/png": "[encoded data removed]"
          },
          "metadata": {}
        }
      ]
    },
    {
      "cell_type": "markdown",
      "source": [
        "Как видим, распределение значений признака `Age` действительно оказалось смещенным. Попробуем нормализовать значения, приведя распределение к нормальному, с использованием функции логарифма."
      ],
      "metadata": {
        "id": "rRC93gv9fISt"
      }
    },
    {
      "cell_type": "code",
      "source": [
        "optimized_ds_2 = optimized_ds.copy()\n",
        "optimized_ds_2[\"Age_log\"] = np.log2(optimized_ds_2[\"Age\"])\n",
        "optimized_ds_2.drop(columns=[\"Age\"], inplace=True)\n",
        "\n",
        "# обучение модели\n",
        "\n",
        "(X_train, y_train), (X_test, y_test) = generate_train_data(optimized_ds_2)\n",
        "\n",
        "model = sklearn.ensemble.GradientBoostingClassifier(random_state=42)\n",
        "model.fit(X_train, y_train)\n",
        "\n",
        "print_model_metrics(model, X_test, y_test)"
      ],
      "metadata": {
        "colab": {
          "base_uri": "https://localhost:8080/"
        },
        "id": "WLBAEN-9fKJ5",
        "outputId": "731e0bf7-97c3-4bee-9757-e0b470e86cbe"
      },
      "execution_count": 8,
      "outputs": [
        {
          "output_type": "stream",
          "name": "stdout",
          "text": [
            "Accuracy: 0.8655\n",
            "Precision: 0.7541\n",
            "Recall: 0.4682\n",
            "F1-Score: 0.5777\n",
            "\n",
            "Confusion Matrix:\n",
            "[[1547   60]\n",
            " [ 209  184]]\n"
          ]
        }
      ]
    },
    {
      "cell_type": "markdown",
      "source": [
        "Как видно по получившимся значениям метрик, применение нормализации значений не оказало положительного эффекта на качество модели, что обосновывается тем, что модели градиентного бустинга хорошо справляются с ненормализованными распределениями данных."
      ],
      "metadata": {
        "id": "KYtg00KcfQXk"
      }
    },
    {
      "cell_type": "markdown",
      "source": [
        "### 4. Имплементация алгоритма машинного обучения"
      ],
      "metadata": {
        "id": "yZRWncSQfnkB"
      }
    },
    {
      "cell_type": "markdown",
      "source": [
        "Перейдем теперь к собственной имплементации алгоритма градиентного бустинга для задачи классификации. Решение я реализовал в виде класса `MyGradientBoostingClassifier`, который имеет интерфейс, схожий с тем, что используется в библиотеке `sklearn`. присутствуют 2 метода: `fit` - для обучения модели, `predict` - для предсказания классов для уже обученной модели.\n",
        "\n",
        "Так как градиентный бустинг является ансамблевым методом, то в его работе участвуют другие модели. В нашем случае это дерево решений. В качестве такой вспомогательной модели была взята имплементация алгоритма дерева решений из лабораторной работы №3.\n",
        "\n",
        "Также, так как процесс обучения стал значительно дольше, то была добавлена строка для отслеживания прогресса обучения модели."
      ],
      "metadata": {
        "id": "xgmFNVdsfpJD"
      }
    },
    {
      "cell_type": "code",
      "source": [
        "_PredictedClass = int\n",
        "\n",
        "\n",
        "@dataclass\n",
        "class _SplitInfo:\n",
        "  index: int\n",
        "  threshold: float\n",
        "\n",
        "\n",
        "@dataclass\n",
        "class _TreeNode:\n",
        "  split_info: _SplitInfo\n",
        "  left: Union[\"_TreeNode\", _PredictedClass]\n",
        "  right: Union[\"_TreeNode\", _PredictedClass]\n",
        "\n",
        "\n",
        "class MyDecisionTreeClassifier:\n",
        "  def __init__(self, *, max_depth=float(\"inf\")):\n",
        "    self.__max_depth = max_depth\n",
        "    self.__tree = None\n",
        "\n",
        "  def __build_decision_tree(self, X, y, depth=0):\n",
        "    n, m = X.shape\n",
        "    unique_classes = set(y)\n",
        "\n",
        "    if len(unique_classes) == 1 or n <= 1:\n",
        "      return unique_classes.pop()\n",
        "\n",
        "    if depth >= self.__max_depth:\n",
        "      return collections.Counter(y).most_common(1)[0][0]\n",
        "\n",
        "    best_split = self._best_split(X, y)\n",
        "    if best_split is None:\n",
        "      raise ValueError()\n",
        "\n",
        "    left_part, right_part = self.__split_data(X, y, best_split)\n",
        "\n",
        "    return _TreeNode(\n",
        "      split_info=best_split,\n",
        "      left=self.__build_decision_tree(*left_part, depth + 1),\n",
        "      right=self.__build_decision_tree(*right_part, depth + 1),\n",
        "    )\n",
        "\n",
        "  def __split_data(self, X, y, split_info):\n",
        "    x = X[:, split_info.index]\n",
        "    left_ids = x <= split_info.threshold\n",
        "    right_ids = x > split_info.threshold\n",
        "\n",
        "    return (X[left_ids], y[left_ids]), (X[right_ids], y[right_ids])\n",
        "\n",
        "  def _best_split(self, X, y):\n",
        "    _, m = X.shape\n",
        "    best_split = max(\n",
        "      (\n",
        "        _SplitInfo(index=feature_index, threshold=threshold)\n",
        "        for feature_index in range(m)\n",
        "        for threshold in self.__get_thresholds(X, feature_index)\n",
        "      ),\n",
        "      key=lambda split_info: self.__get_info_gain(X, y, split_info.index, split_info.threshold),\n",
        "      default=None,\n",
        "    )\n",
        "\n",
        "    if self.__get_info_gain(X, y, best_split.index, best_split.threshold) == -float(\"inf\"):\n",
        "      return None\n",
        "    return best_split\n",
        "\n",
        "  def __get_info_gain(self, X, y, feature_index, threshold):\n",
        "    feature_values = X[:, feature_index]\n",
        "    left_indices = feature_values <= threshold\n",
        "    right_indices = feature_values > threshold\n",
        "\n",
        "    if np.sum(left_indices) == 0 or np.sum(right_indices) == 0:\n",
        "      return -float('inf')\n",
        "\n",
        "    left_y = y[left_indices]\n",
        "    right_y = y[right_indices]\n",
        "\n",
        "    l = self.__get_entropy(left_y)\n",
        "    r = self.__get_entropy(right_y)\n",
        "\n",
        "    n = len(y)\n",
        "    return self.__get_entropy(y) - (len(left_y) / n * l + len(right_y) / n * r)\n",
        "\n",
        "  def __get_thresholds(self, X, feature_id):\n",
        "    return np.unique(X[:, feature_id])\n",
        "\n",
        "  def __get_entropy(self, y):\n",
        "    class_counts = np.bincount(y.astype(int))\n",
        "    probabilities = class_counts / len(y)\n",
        "    return -np.sum(probabilities * np.log2(probabilities + 1e-9))\n",
        "\n",
        "  def __predict(self, x):\n",
        "    cursor = self.__tree\n",
        "\n",
        "    while isinstance(cursor, _TreeNode):\n",
        "      feature_value = x[cursor.split_info.index]\n",
        "      predictor = feature_value <= cursor.split_info.threshold\n",
        "      cursor = [cursor.right, cursor.left][predictor]\n",
        "\n",
        "    return cursor\n",
        "\n",
        "  def fit(self, X, y):\n",
        "    self.__tree = self.__build_decision_tree(X, y)\n",
        "\n",
        "  def predict(self, X):\n",
        "    return np.array(list(map(self.__predict, X)))"
      ],
      "metadata": {
        "id": "YzTBrHxSf2EU"
      },
      "execution_count": 18,
      "outputs": []
    },
    {
      "cell_type": "code",
      "source": [
        "def _get_mapped_y(y):\n",
        "  unique_classes = np.unique(y)\n",
        "  class_mapping = {cls: idx for idx, cls in enumerate(unique_classes)}\n",
        "  return np.vectorize(class_mapping.get)(y)\n",
        "\n",
        "\n",
        "class MyGradientBoostingClassifier:\n",
        "  def __init__(self, trees_amount=10, learn_rate=0.1, max_tree_depth=3):\n",
        "    self.__trees_amount = trees_amount\n",
        "    self.__learn_rate = learn_rate\n",
        "    self.__tree_max_depth = max_tree_depth\n",
        "\n",
        "    self.__init_prediction = None\n",
        "    self.__trees = None\n",
        "\n",
        "  def fit(self, X, y):\n",
        "    y_mapped = _get_mapped_y(y)\n",
        "    trees = []\n",
        "\n",
        "    init_pred = np.bincount(y_mapped).argmax()\n",
        "    pred = np.full(y_mapped.shape, init_pred, dtype=float)\n",
        "\n",
        "    for _ in tqdm.tqdm(range(self.__trees_amount)):\n",
        "      tree = MyDecisionTreeClassifier(max_depth=self.__tree_max_depth)\n",
        "      tree.fit(X, y_mapped - pred)\n",
        "\n",
        "      tree_predictions = tree.predict(X).astype(float)\n",
        "      pred += self.__learn_rate * tree_predictions\n",
        "\n",
        "      trees.append(tree)\n",
        "\n",
        "    self.__trees = trees\n",
        "    self.__init_prediction = init_pred\n",
        "\n",
        "  def predict(self, X):\n",
        "    predictions = np.full((X.shape[0],), self.__init_prediction, dtype=float)\n",
        "\n",
        "    for tree in self.__trees:\n",
        "      predictions += self.__learn_rate * tree.predict(X)\n",
        "\n",
        "    return predictions.astype(int)\n"
      ],
      "metadata": {
        "id": "XXoMicmOgBHh"
      },
      "execution_count": 34,
      "outputs": []
    },
    {
      "cell_type": "markdown",
      "source": [
        "#### Сравнение с бейзлайном"
      ],
      "metadata": {
        "id": "Q7IeiZCIm4dD"
      }
    },
    {
      "cell_type": "markdown",
      "source": [
        "Обучим теперь реализованную модель на датасете, соответствущем бейзлайну. Из-за определенных ранее вспомогательных функций и схожего интерфейса класса модели основной алгоритм обучения не меняется."
      ],
      "metadata": {
        "id": "_Wy7cj0um5sx"
      }
    },
    {
      "cell_type": "code",
      "source": [
        "(X_train, y_train), (X_test, y_test) = generate_train_data(baseline_ds)\n",
        "\n",
        "model = MyGradientBoostingClassifier(trees_amount=30)\n",
        "model.fit(X_train, y_train)\n",
        "\n",
        "print_model_metrics(model, X_test, y_test)"
      ],
      "metadata": {
        "colab": {
          "base_uri": "https://localhost:8080/"
        },
        "id": "B2iQngUtgDW7",
        "outputId": "a8bf7d45-8b57-44d0-fe15-1c06efff13d2"
      },
      "execution_count": 41,
      "outputs": [
        {
          "output_type": "stream",
          "name": "stdout",
          "text": [
            "100%|██████████| 30/30 [03:29<00:00,  7.00s/it]\n",
            "Precision: 0.7840\n",
            "Recall: 0.2494\n",
            "F1-Score: 0.3784\n",
            "\n",
            "Confusion Matrix:\n",
            "[[1580   27]\n",
            " [ 295   98]]\n"
          ]
        }
      ]
    },
    {
      "cell_type": "markdown",
      "source": [
        "Как видно, по сравнению с моделью из пункта 2, имплементированная модель сильно отстает по качеству, особенно судя по метрике \"F1-Score\". Связанно это с использованием базового алгоритма градиентного бустинга, который не использует оптимизации, и отсутствиет богатого набора гиперпараметров для настройки модели."
      ],
      "metadata": {
        "id": "Z6rxaQ8wm_i4"
      }
    },
    {
      "cell_type": "code",
      "source": [
        "(X_train, y_train), (X_test, y_test) = generate_train_data(optimized_ds_2)\n",
        "\n",
        "model = MyGradientBoostingClassifier(trees_amount=30)\n",
        "model.fit(np.array(X_train), np.array(y_train))\n",
        "\n",
        "print_model_metrics(model, np.array(X_test), np.array(y_test))"
      ],
      "metadata": {
        "colab": {
          "base_uri": "https://localhost:8080/"
        },
        "id": "gx0v45dGnPJ9",
        "outputId": "11f0b47e-9786-4f7c-9b9e-80d2cb3949cd"
      },
      "execution_count": 52,
      "outputs": [
        {
          "output_type": "stream",
          "name": "stdout",
          "text": [
            "100%|██████████| 30/30 [03:28<00:00,  6.95s/it]\n",
            "Accuracy: 0.8674\n",
            "Precision: 0.7912\n",
            "Recall: 0.4315\n",
            "F1-Score: 0.5598\n",
            "\n",
            "Confusion Matrix:\n",
            "[[1573   34]\n",
            " [ 227  166]]\n"
          ]
        }
      ]
    },
    {
      "cell_type": "markdown",
      "source": [
        "Как видим, оптимизированный бейзлайн оказал положительное влияние на итоговое качестве имплементированный модели. Показания метрик для улучшенного бейзлайна оказались выше.\n",
        "\n",
        "Однако, по сравнению с моделью из пункта 3, имплементированная модель работает хуже."
      ],
      "metadata": {
        "id": "r0oRU-6hpcvq"
      }
    },
    {
      "cell_type": "markdown",
      "source": [
        "## Регрессия"
      ],
      "metadata": {
        "id": "FRuhpk3kpvWM"
      }
    },
    {
      "cell_type": "markdown",
      "source": [
        "### 2. Создание бейзлайна и оценка качества"
      ],
      "metadata": {
        "id": "UxSJdSdCpwry"
      }
    },
    {
      "cell_type": "markdown",
      "source": [
        "#### Подготовка бейзлайна"
      ],
      "metadata": {
        "id": "EGUKWDbLpx_D"
      }
    },
    {
      "cell_type": "markdown",
      "source": [
        "Перед началом обучения модели сформируем бейзлайн, подобно тому, как это было выполнено в рамках лабораторной работы №1"
      ],
      "metadata": {
        "id": "ntpAvv31pzEe"
      }
    },
    {
      "cell_type": "code",
      "source": [
        "!kaggle datasets download -q -p dataset -d denkuznetz/taxi-price-prediction\n",
        "!unzip dataset/taxi-price-prediction.zip -d dataset/"
      ],
      "metadata": {
        "colab": {
          "base_uri": "https://localhost:8080/"
        },
        "id": "oCzK6LoKp02a",
        "outputId": "940d544a-1cc7-42a8-e8aa-487cadf5f151"
      },
      "execution_count": 53,
      "outputs": [
        {
          "output_type": "stream",
          "name": "stdout",
          "text": [
            "Dataset URL: https://www.kaggle.com/datasets/denkuznetz/taxi-price-prediction\n",
            "License(s): apache-2.0\n",
            "Archive:  dataset/taxi-price-prediction.zip\n",
            "  inflating: dataset/taxi_trip_pricing.csv  \n"
          ]
        }
      ]
    },
    {
      "cell_type": "code",
      "source": [
        "ds = pd.read_csv(\"/content/dataset/taxi_trip_pricing.csv\")\n",
        "baseline_ds = ds.dropna(subset=[\"Trip_Price\"])\n",
        "\n",
        "numeric_features = [\n",
        "  \"Trip_Distance_km\",\n",
        "  \"Passenger_Count\",\n",
        "  \"Base_Fare\",\n",
        "  \"Per_Km_Rate\",\n",
        "  \"Per_Minute_Rate\",\n",
        "  \"Trip_Duration_Minutes\",\n",
        "]\n",
        "baseline_ds[numeric_features] = baseline_ds[numeric_features].apply(lambda col: col.fillna(col.median()))\n",
        "\n",
        "categorical_features = [\n",
        "  \"Time_of_Day\",\n",
        "  \"Day_of_Week\",\n",
        "  \"Traffic_Conditions\",\n",
        "  \"Weather\",\n",
        "]\n",
        "\n",
        "for feature in categorical_features:\n",
        "  encoded_feature = pd.get_dummies(baseline_ds[feature], prefix=feature, dtype=int)\n",
        "  baseline_ds[encoded_feature.columns] = encoded_feature\n",
        "  baseline_ds = baseline_ds.drop(columns=[feature])\n",
        "\n",
        "baseline_ds.head()"
      ],
      "metadata": {
        "colab": {
          "base_uri": "https://localhost:8080/",
          "height": 226
        },
        "id": "gzPpeUkep2kW",
        "outputId": "f740401f-bef6-4d7e-c755-6b13d0538b92"
      },
      "execution_count": 55,
      "outputs": [
        {
          "output_type": "execute_result",
          "data": {
            "text/plain": [
              "   Trip_Distance_km  Passenger_Count  Base_Fare  Per_Km_Rate  Per_Minute_Rate  \\\n",
              "0             19.35              3.0       3.56         0.80             0.32   \n",
              "2             36.87              1.0       2.70         1.21             0.15   \n",
              "3             30.33              4.0       3.48         0.51             0.15   \n",
              "4             25.87              3.0       2.93         0.63             0.32   \n",
              "5              8.64              2.0       2.55         1.71             0.48   \n",
              "\n",
              "   Trip_Duration_Minutes  Trip_Price  Time_of_Day_Afternoon  \\\n",
              "0                  53.82     36.2624                      0   \n",
              "2                  37.27     52.9032                      0   \n",
              "3                 116.81     36.4698                      0   \n",
              "4                  22.64     15.6180                      0   \n",
              "5                  89.33     60.2028                      1   \n",
              "\n",
              "   Time_of_Day_Evening  Time_of_Day_Morning  Time_of_Day_Night  \\\n",
              "0                    0                    1                  0   \n",
              "2                    1                    0                  0   \n",
              "3                    1                    0                  0   \n",
              "4                    1                    0                  0   \n",
              "5                    0                    0                  0   \n",
              "\n",
              "   Day_of_Week_Weekday  Day_of_Week_Weekend  Traffic_Conditions_High  \\\n",
              "0                    1                    0                        0   \n",
              "2                    0                    1                        1   \n",
              "3                    1                    0                        0   \n",
              "4                    1                    0                        1   \n",
              "5                    0                    1                        0   \n",
              "\n",
              "   Traffic_Conditions_Low  Traffic_Conditions_Medium  Weather_Clear  \\\n",
              "0                       1                          0              1   \n",
              "2                       0                          0              1   \n",
              "3                       1                          0              0   \n",
              "4                       0                          0              1   \n",
              "5                       0                          1              1   \n",
              "\n",
              "   Weather_Rain  Weather_Snow  \n",
              "0             0             0  \n",
              "2             0             0  \n",
              "3             0             0  \n",
              "4             0             0  \n",
              "5             0             0  "
            ],
            "text/html": [
              "\n",
              "  <div id=\"df-d753bdbd-a39e-4fa7-90bc-e93794890fdd\" class=\"colab-df-container\">\n",
              "    <div>\n",
              "<style scoped>\n",
              "    .dataframe tbody tr th:only-of-type {\n",
              "        vertical-align: middle;\n",
              "    }\n",
              "\n",
              "    .dataframe tbody tr th {\n",
              "        vertical-align: top;\n",
              "    }\n",
              "\n",
              "    .dataframe thead th {\n",
              "        text-align: right;\n",
              "    }\n",
              "</style>\n",
              "<table border=\"1\" class=\"dataframe\">\n",
              "  <thead>\n",
              "    <tr style=\"text-align: right;\">\n",
              "      <th></th>\n",
              "      <th>Trip_Distance_km</th>\n",
              "      <th>Passenger_Count</th>\n",
              "      <th>Base_Fare</th>\n",
              "      <th>Per_Km_Rate</th>\n",
              "      <th>Per_Minute_Rate</th>\n",
              "      <th>Trip_Duration_Minutes</th>\n",
              "      <th>Trip_Price</th>\n",
              "      <th>Time_of_Day_Afternoon</th>\n",
              "      <th>Time_of_Day_Evening</th>\n",
              "      <th>Time_of_Day_Morning</th>\n",
              "      <th>Time_of_Day_Night</th>\n",
              "      <th>Day_of_Week_Weekday</th>\n",
              "      <th>Day_of_Week_Weekend</th>\n",
              "      <th>Traffic_Conditions_High</th>\n",
              "      <th>Traffic_Conditions_Low</th>\n",
              "      <th>Traffic_Conditions_Medium</th>\n",
              "      <th>Weather_Clear</th>\n",
              "      <th>Weather_Rain</th>\n",
              "      <th>Weather_Snow</th>\n",
              "    </tr>\n",
              "  </thead>\n",
              "  <tbody>\n",
              "    <tr>\n",
              "      <th>0</th>\n",
              "      <td>19.35</td>\n",
              "      <td>3.0</td>\n",
              "      <td>3.56</td>\n",
              "      <td>0.80</td>\n",
              "      <td>0.32</td>\n",
              "      <td>53.82</td>\n",
              "      <td>36.2624</td>\n",
              "      <td>0</td>\n",
              "      <td>0</td>\n",
              "      <td>1</td>\n",
              "      <td>0</td>\n",
              "      <td>1</td>\n",
              "      <td>0</td>\n",
              "      <td>0</td>\n",
              "      <td>1</td>\n",
              "      <td>0</td>\n",
              "      <td>1</td>\n",
              "      <td>0</td>\n",
              "      <td>0</td>\n",
              "    </tr>\n",
              "    <tr>\n",
              "      <th>2</th>\n",
              "      <td>36.87</td>\n",
              "      <td>1.0</td>\n",
              "      <td>2.70</td>\n",
              "      <td>1.21</td>\n",
              "      <td>0.15</td>\n",
              "      <td>37.27</td>\n",
              "      <td>52.9032</td>\n",
              "      <td>0</td>\n",
              "      <td>1</td>\n",
              "      <td>0</td>\n",
              "      <td>0</td>\n",
              "      <td>0</td>\n",
              "      <td>1</td>\n",
              "      <td>1</td>\n",
              "      <td>0</td>\n",
              "      <td>0</td>\n",
              "      <td>1</td>\n",
              "      <td>0</td>\n",
              "      <td>0</td>\n",
              "    </tr>\n",
              "    <tr>\n",
              "      <th>3</th>\n",
              "      <td>30.33</td>\n",
              "      <td>4.0</td>\n",
              "      <td>3.48</td>\n",
              "      <td>0.51</td>\n",
              "      <td>0.15</td>\n",
              "      <td>116.81</td>\n",
              "      <td>36.4698</td>\n",
              "      <td>0</td>\n",
              "      <td>1</td>\n",
              "      <td>0</td>\n",
              "      <td>0</td>\n",
              "      <td>1</td>\n",
              "      <td>0</td>\n",
              "      <td>0</td>\n",
              "      <td>1</td>\n",
              "      <td>0</td>\n",
              "      <td>0</td>\n",
              "      <td>0</td>\n",
              "      <td>0</td>\n",
              "    </tr>\n",
              "    <tr>\n",
              "      <th>4</th>\n",
              "      <td>25.87</td>\n",
              "      <td>3.0</td>\n",
              "      <td>2.93</td>\n",
              "      <td>0.63</td>\n",
              "      <td>0.32</td>\n",
              "      <td>22.64</td>\n",
              "      <td>15.6180</td>\n",
              "      <td>0</td>\n",
              "      <td>1</td>\n",
              "      <td>0</td>\n",
              "      <td>0</td>\n",
              "      <td>1</td>\n",
              "      <td>0</td>\n",
              "      <td>1</td>\n",
              "      <td>0</td>\n",
              "      <td>0</td>\n",
              "      <td>1</td>\n",
              "      <td>0</td>\n",
              "      <td>0</td>\n",
              "    </tr>\n",
              "    <tr>\n",
              "      <th>5</th>\n",
              "      <td>8.64</td>\n",
              "      <td>2.0</td>\n",
              "      <td>2.55</td>\n",
              "      <td>1.71</td>\n",
              "      <td>0.48</td>\n",
              "      <td>89.33</td>\n",
              "      <td>60.2028</td>\n",
              "      <td>1</td>\n",
              "      <td>0</td>\n",
              "      <td>0</td>\n",
              "      <td>0</td>\n",
              "      <td>0</td>\n",
              "      <td>1</td>\n",
              "      <td>0</td>\n",
              "      <td>0</td>\n",
              "      <td>1</td>\n",
              "      <td>1</td>\n",
              "      <td>0</td>\n",
              "      <td>0</td>\n",
              "    </tr>\n",
              "  </tbody>\n",
              "</table>\n",
              "</div>\n",
              "    <div class=\"colab-df-buttons\">\n",
              "\n",
              "  <div class=\"colab-df-container\">\n",
              "    <button class=\"colab-df-convert\" onclick=\"convertToInteractive('df-d753bdbd-a39e-4fa7-90bc-e93794890fdd')\"\n",
              "            title=\"Convert this dataframe to an interactive table.\"\n",
              "            style=\"display:none;\">\n",
              "\n",
              "  <svg xmlns=\"http://www.w3.org/2000/svg\" height=\"24px\" viewBox=\"0 -960 960 960\">\n",
              "    <path d=\"M120-120v-720h720v720H120Zm60-500h600v-160H180v160Zm220 220h160v-160H400v160Zm0 220h160v-160H400v160ZM180-400h160v-160H180v160Zm440 0h160v-160H620v160ZM180-180h160v-160H180v160Zm440 0h160v-160H620v160Z\"/>\n",
              "  </svg>\n",
              "    </button>\n",
              "\n",
              "  <style>\n",
              "    .colab-df-container {\n",
              "      display:flex;\n",
              "      gap: 12px;\n",
              "    }\n",
              "\n",
              "    .colab-df-convert {\n",
              "      background-color: #E8F0FE;\n",
              "      border: none;\n",
              "      border-radius: 50%;\n",
              "      cursor: pointer;\n",
              "      display: none;\n",
              "      fill: #1967D2;\n",
              "      height: 32px;\n",
              "      padding: 0 0 0 0;\n",
              "      width: 32px;\n",
              "    }\n",
              "\n",
              "    .colab-df-convert:hover {\n",
              "      background-color: #E2EBFA;\n",
              "      box-shadow: 0px 1px 2px rgba(60, 64, 67, 0.3), 0px 1px 3px 1px rgba(60, 64, 67, 0.15);\n",
              "      fill: #174EA6;\n",
              "    }\n",
              "\n",
              "    .colab-df-buttons div {\n",
              "      margin-bottom: 4px;\n",
              "    }\n",
              "\n",
              "    [theme=dark] .colab-df-convert {\n",
              "      background-color: #3B4455;\n",
              "      fill: #D2E3FC;\n",
              "    }\n",
              "\n",
              "    [theme=dark] .colab-df-convert:hover {\n",
              "      background-color: #434B5C;\n",
              "      box-shadow: 0px 1px 3px 1px rgba(0, 0, 0, 0.15);\n",
              "      filter: drop-shadow(0px 1px 2px rgba(0, 0, 0, 0.3));\n",
              "      fill: #FFFFFF;\n",
              "    }\n",
              "  </style>\n",
              "\n",
              "    <script>\n",
              "      const buttonEl =\n",
              "        document.querySelector('#df-d753bdbd-a39e-4fa7-90bc-e93794890fdd button.colab-df-convert');\n",
              "      buttonEl.style.display =\n",
              "        google.colab.kernel.accessAllowed ? 'block' : 'none';\n",
              "\n",
              "      async function convertToInteractive(key) {\n",
              "        const element = document.querySelector('#df-d753bdbd-a39e-4fa7-90bc-e93794890fdd');\n",
              "        const dataTable =\n",
              "          await google.colab.kernel.invokeFunction('convertToInteractive',\n",
              "                                                    [key], {});\n",
              "        if (!dataTable) return;\n",
              "\n",
              "        const docLinkHtml = 'Like what you see? Visit the ' +\n",
              "          '<a target=\"_blank\" href=https://colab.research.google.com/notebooks/data_table.ipynb>data table notebook</a>'\n",
              "          + ' to learn more about interactive tables.';\n",
              "        element.innerHTML = '';\n",
              "        dataTable['output_type'] = 'display_data';\n",
              "        await google.colab.output.renderOutput(dataTable, element);\n",
              "        const docLink = document.createElement('div');\n",
              "        docLink.innerHTML = docLinkHtml;\n",
              "        element.appendChild(docLink);\n",
              "      }\n",
              "    </script>\n",
              "  </div>\n",
              "\n",
              "\n",
              "<div id=\"df-896b8ec8-8d00-4ec6-9180-e87469995177\">\n",
              "  <button class=\"colab-df-quickchart\" onclick=\"quickchart('df-896b8ec8-8d00-4ec6-9180-e87469995177')\"\n",
              "            title=\"Suggest charts\"\n",
              "            style=\"display:none;\">\n",
              "\n",
              "<svg xmlns=\"http://www.w3.org/2000/svg\" height=\"24px\"viewBox=\"0 0 24 24\"\n",
              "     width=\"24px\">\n",
              "    <g>\n",
              "        <path d=\"M19 3H5c-1.1 0-2 .9-2 2v14c0 1.1.9 2 2 2h14c1.1 0 2-.9 2-2V5c0-1.1-.9-2-2-2zM9 17H7v-7h2v7zm4 0h-2V7h2v10zm4 0h-2v-4h2v4z\"/>\n",
              "    </g>\n",
              "</svg>\n",
              "  </button>\n",
              "\n",
              "<style>\n",
              "  .colab-df-quickchart {\n",
              "      --bg-color: #E8F0FE;\n",
              "      --fill-color: #1967D2;\n",
              "      --hover-bg-color: #E2EBFA;\n",
              "      --hover-fill-color: #174EA6;\n",
              "      --disabled-fill-color: #AAA;\n",
              "      --disabled-bg-color: #DDD;\n",
              "  }\n",
              "\n",
              "  [theme=dark] .colab-df-quickchart {\n",
              "      --bg-color: #3B4455;\n",
              "      --fill-color: #D2E3FC;\n",
              "      --hover-bg-color: #434B5C;\n",
              "      --hover-fill-color: #FFFFFF;\n",
              "      --disabled-bg-color: #3B4455;\n",
              "      --disabled-fill-color: #666;\n",
              "  }\n",
              "\n",
              "  .colab-df-quickchart {\n",
              "    background-color: var(--bg-color);\n",
              "    border: none;\n",
              "    border-radius: 50%;\n",
              "    cursor: pointer;\n",
              "    display: none;\n",
              "    fill: var(--fill-color);\n",
              "    height: 32px;\n",
              "    padding: 0;\n",
              "    width: 32px;\n",
              "  }\n",
              "\n",
              "  .colab-df-quickchart:hover {\n",
              "    background-color: var(--hover-bg-color);\n",
              "    box-shadow: 0 1px 2px rgba(60, 64, 67, 0.3), 0 1px 3px 1px rgba(60, 64, 67, 0.15);\n",
              "    fill: var(--button-hover-fill-color);\n",
              "  }\n",
              "\n",
              "  .colab-df-quickchart-complete:disabled,\n",
              "  .colab-df-quickchart-complete:disabled:hover {\n",
              "    background-color: var(--disabled-bg-color);\n",
              "    fill: var(--disabled-fill-color);\n",
              "    box-shadow: none;\n",
              "  }\n",
              "\n",
              "  .colab-df-spinner {\n",
              "    border: 2px solid var(--fill-color);\n",
              "    border-color: transparent;\n",
              "    border-bottom-color: var(--fill-color);\n",
              "    animation:\n",
              "      spin 1s steps(1) infinite;\n",
              "  }\n",
              "\n",
              "  @keyframes spin {\n",
              "    0% {\n",
              "      border-color: transparent;\n",
              "      border-bottom-color: var(--fill-color);\n",
              "      border-left-color: var(--fill-color);\n",
              "    }\n",
              "    20% {\n",
              "      border-color: transparent;\n",
              "      border-left-color: var(--fill-color);\n",
              "      border-top-color: var(--fill-color);\n",
              "    }\n",
              "    30% {\n",
              "      border-color: transparent;\n",
              "      border-left-color: var(--fill-color);\n",
              "      border-top-color: var(--fill-color);\n",
              "      border-right-color: var(--fill-color);\n",
              "    }\n",
              "    40% {\n",
              "      border-color: transparent;\n",
              "      border-right-color: var(--fill-color);\n",
              "      border-top-color: var(--fill-color);\n",
              "    }\n",
              "    60% {\n",
              "      border-color: transparent;\n",
              "      border-right-color: var(--fill-color);\n",
              "    }\n",
              "    80% {\n",
              "      border-color: transparent;\n",
              "      border-right-color: var(--fill-color);\n",
              "      border-bottom-color: var(--fill-color);\n",
              "    }\n",
              "    90% {\n",
              "      border-color: transparent;\n",
              "      border-bottom-color: var(--fill-color);\n",
              "    }\n",
              "  }\n",
              "</style>\n",
              "\n",
              "  <script>\n",
              "    async function quickchart(key) {\n",
              "      const quickchartButtonEl =\n",
              "        document.querySelector('#' + key + ' button');\n",
              "      quickchartButtonEl.disabled = true;  // To prevent multiple clicks.\n",
              "      quickchartButtonEl.classList.add('colab-df-spinner');\n",
              "      try {\n",
              "        const charts = await google.colab.kernel.invokeFunction(\n",
              "            'suggestCharts', [key], {});\n",
              "      } catch (error) {\n",
              "        console.error('Error during call to suggestCharts:', error);\n",
              "      }\n",
              "      quickchartButtonEl.classList.remove('colab-df-spinner');\n",
              "      quickchartButtonEl.classList.add('colab-df-quickchart-complete');\n",
              "    }\n",
              "    (() => {\n",
              "      let quickchartButtonEl =\n",
              "        document.querySelector('#df-896b8ec8-8d00-4ec6-9180-e87469995177 button');\n",
              "      quickchartButtonEl.style.display =\n",
              "        google.colab.kernel.accessAllowed ? 'block' : 'none';\n",
              "    })();\n",
              "  </script>\n",
              "</div>\n",
              "    </div>\n",
              "  </div>\n"
            ],
            "application/vnd.google.colaboratory.intrinsic+json": {
              "type": "dataframe",
              "variable_name": "baseline_ds",
              "summary": "{\n  \"name\": \"baseline_ds\",\n  \"rows\": 951,\n  \"fields\": [\n    {\n      \"column\": \"Trip_Distance_km\",\n      \"properties\": {\n        \"dtype\": \"number\",\n        \"std\": 19.61978451961453,\n        \"min\": 1.23,\n        \"max\": 146.0670471598387,\n        \"num_unique_values\": 827,\n        \"samples\": [\n          130.80900130744172,\n          38.42,\n          39.96\n        ],\n        \"semantic_type\": \"\",\n        \"description\": \"\"\n      }\n    },\n    {\n      \"column\": \"Passenger_Count\",\n      \"properties\": {\n        \"dtype\": \"number\",\n        \"std\": 1.077936959142477,\n        \"min\": 1.0,\n        \"max\": 4.0,\n        \"num_unique_values\": 4,\n        \"samples\": [\n          1.0,\n          2.0,\n          3.0\n        ],\n        \"semantic_type\": \"\",\n        \"description\": \"\"\n      }\n    },\n    {\n      \"column\": \"Base_Fare\",\n      \"properties\": {\n        \"dtype\": \"number\",\n        \"std\": 0.8464238435493024,\n        \"min\": 2.01,\n        \"max\": 5.0,\n        \"num_unique_values\": 286,\n        \"samples\": [\n          4.6,\n          2.37,\n          3.61\n        ],\n        \"semantic_type\": \"\",\n        \"description\": \"\"\n      }\n    },\n    {\n      \"column\": \"Per_Km_Rate\",\n      \"properties\": {\n        \"dtype\": \"number\",\n        \"std\": 0.4198881268533853,\n        \"min\": 0.5,\n        \"max\": 2.0,\n        \"num_unique_values\": 150,\n        \"samples\": [\n          1.65,\n          1.69,\n          0.5\n        ],\n        \"semantic_type\": \"\",\n        \"description\": \"\"\n      }\n    },\n    {\n      \"column\": \"Per_Minute_Rate\",\n      \"properties\": {\n        \"dtype\": \"number\",\n        \"std\": 0.11239203562447667,\n        \"min\": 0.1,\n        \"max\": 0.5,\n        \"num_unique_values\": 41,\n        \"samples\": [\n          0.26,\n          0.25,\n          0.34\n        ],\n        \"semantic_type\": \"\",\n        \"description\": \"\"\n      }\n    },\n    {\n      \"column\": \"Trip_Duration_Minutes\",\n      \"properties\": {\n        \"dtype\": \"number\",\n        \"std\": 31.529511153660437,\n        \"min\": 5.01,\n        \"max\": 119.84,\n        \"num_unique_values\": 873,\n        \"samples\": [\n          82.16,\n          76.53,\n          81.77\n        ],\n        \"semantic_type\": \"\",\n        \"description\": \"\"\n      }\n    },\n    {\n      \"column\": \"Trip_Price\",\n      \"properties\": {\n        \"dtype\": \"number\",\n        \"std\": 40.46979055020966,\n        \"min\": 6.1269,\n        \"max\": 332.0436886774302,\n        \"num_unique_values\": 951,\n        \"samples\": [\n          31.3844,\n          97.4848,\n          19.1069\n        ],\n        \"semantic_type\": \"\",\n        \"description\": \"\"\n      }\n    },\n    {\n      \"column\": \"Time_of_Day_Afternoon\",\n      \"properties\": {\n        \"dtype\": \"number\",\n        \"std\": 0,\n        \"min\": 0,\n        \"max\": 1,\n        \"num_unique_values\": 2,\n        \"samples\": [\n          1,\n          0\n        ],\n        \"semantic_type\": \"\",\n        \"description\": \"\"\n      }\n    },\n    {\n      \"column\": \"Time_of_Day_Evening\",\n      \"properties\": {\n        \"dtype\": \"number\",\n        \"std\": 0,\n        \"min\": 0,\n        \"max\": 1,\n        \"num_unique_values\": 2,\n        \"samples\": [\n          1,\n          0\n        ],\n        \"semantic_type\": \"\",\n        \"description\": \"\"\n      }\n    },\n    {\n      \"column\": \"Time_of_Day_Morning\",\n      \"properties\": {\n        \"dtype\": \"number\",\n        \"std\": 0,\n        \"min\": 0,\n        \"max\": 1,\n        \"num_unique_values\": 2,\n        \"samples\": [\n          0,\n          1\n        ],\n        \"semantic_type\": \"\",\n        \"description\": \"\"\n      }\n    },\n    {\n      \"column\": \"Time_of_Day_Night\",\n      \"properties\": {\n        \"dtype\": \"number\",\n        \"std\": 0,\n        \"min\": 0,\n        \"max\": 1,\n        \"num_unique_values\": 2,\n        \"samples\": [\n          1,\n          0\n        ],\n        \"semantic_type\": \"\",\n        \"description\": \"\"\n      }\n    },\n    {\n      \"column\": \"Day_of_Week_Weekday\",\n      \"properties\": {\n        \"dtype\": \"number\",\n        \"std\": 0,\n        \"min\": 0,\n        \"max\": 1,\n        \"num_unique_values\": 2,\n        \"samples\": [\n          0,\n          1\n        ],\n        \"semantic_type\": \"\",\n        \"description\": \"\"\n      }\n    },\n    {\n      \"column\": \"Day_of_Week_Weekend\",\n      \"properties\": {\n        \"dtype\": \"number\",\n        \"std\": 0,\n        \"min\": 0,\n        \"max\": 1,\n        \"num_unique_values\": 2,\n        \"samples\": [\n          1,\n          0\n        ],\n        \"semantic_type\": \"\",\n        \"description\": \"\"\n      }\n    },\n    {\n      \"column\": \"Traffic_Conditions_High\",\n      \"properties\": {\n        \"dtype\": \"number\",\n        \"std\": 0,\n        \"min\": 0,\n        \"max\": 1,\n        \"num_unique_values\": 2,\n        \"samples\": [\n          1,\n          0\n        ],\n        \"semantic_type\": \"\",\n        \"description\": \"\"\n      }\n    },\n    {\n      \"column\": \"Traffic_Conditions_Low\",\n      \"properties\": {\n        \"dtype\": \"number\",\n        \"std\": 0,\n        \"min\": 0,\n        \"max\": 1,\n        \"num_unique_values\": 2,\n        \"samples\": [\n          0,\n          1\n        ],\n        \"semantic_type\": \"\",\n        \"description\": \"\"\n      }\n    },\n    {\n      \"column\": \"Traffic_Conditions_Medium\",\n      \"properties\": {\n        \"dtype\": \"number\",\n        \"std\": 0,\n        \"min\": 0,\n        \"max\": 1,\n        \"num_unique_values\": 2,\n        \"samples\": [\n          1,\n          0\n        ],\n        \"semantic_type\": \"\",\n        \"description\": \"\"\n      }\n    },\n    {\n      \"column\": \"Weather_Clear\",\n      \"properties\": {\n        \"dtype\": \"number\",\n        \"std\": 0,\n        \"min\": 0,\n        \"max\": 1,\n        \"num_unique_values\": 2,\n        \"samples\": [\n          0,\n          1\n        ],\n        \"semantic_type\": \"\",\n        \"description\": \"\"\n      }\n    },\n    {\n      \"column\": \"Weather_Rain\",\n      \"properties\": {\n        \"dtype\": \"number\",\n        \"std\": 0,\n        \"min\": 0,\n        \"max\": 1,\n        \"num_unique_values\": 2,\n        \"samples\": [\n          1,\n          0\n        ],\n        \"semantic_type\": \"\",\n        \"description\": \"\"\n      }\n    },\n    {\n      \"column\": \"Weather_Snow\",\n      \"properties\": {\n        \"dtype\": \"number\",\n        \"std\": 0,\n        \"min\": 0,\n        \"max\": 1,\n        \"num_unique_values\": 2,\n        \"samples\": [\n          1,\n          0\n        ],\n        \"semantic_type\": \"\",\n        \"description\": \"\"\n      }\n    }\n  ]\n}"
            }
          },
          "metadata": {},
          "execution_count": 55
        }
      ]
    },
    {
      "cell_type": "markdown",
      "source": [
        "#### Обучение модели"
      ],
      "metadata": {
        "id": "f3M2WhG5p8uF"
      }
    },
    {
      "cell_type": "markdown",
      "source": [
        "Перейдем теперь к этапу обучения модели. По аналогии с лабораторной работой №1, для этого создадим вспомогательные функции:\n",
        "\n",
        "- `generate_train_data` - отвечает за то, чтобы сгенерировать набор данных для тестирования и обучения на основе переданного датасета\n",
        "\n",
        "- `get_model_metrics` - отвечает за рассчет показаний метрик для уже обученной модели на основе тестовых данных\n",
        "\n",
        "- `print_model_metrics` - отвечает за отформатированный вывод показаний метрик"
      ],
      "metadata": {
        "id": "HvCt6fs4p91T"
      }
    },
    {
      "cell_type": "code",
      "source": [
        "def generate_train_data(dataset, *, target_feature=\"Trip_Price\", test_size=0.2, random_state=42):\n",
        "  X = dataset.drop(columns=[target_feature])\n",
        "  y = dataset[target_feature]\n",
        "  X_train, X_test, y_train, y_test = map(\n",
        "    np.array,\n",
        "    sklearn.model_selection.train_test_split(\n",
        "      X, y,\n",
        "      test_size=test_size,\n",
        "      random_state=random_state,\n",
        "    ),\n",
        "  )\n",
        "\n",
        "  return (X_train, y_train), (X_test, y_test)\n",
        "\n",
        "\n",
        "def get_model_metrics(model, X_test, y_test):\n",
        "  y_pred = model.predict(X_test)\n",
        "\n",
        "  mae = sklearn.metrics.mean_absolute_error(y_test, y_pred)\n",
        "  r2 = sklearn.metrics.r2_score(y_test, y_pred)\n",
        "\n",
        "  return { \"mae\": mae, \"r2\": r2 }\n",
        "\n",
        "\n",
        "def print_model_metrics(model, X_test, y_test):\n",
        "  results = get_model_metrics(model, X_test, y_test)\n",
        "\n",
        "  print(f\"Mean Absolute Error (MAE): {results['mae']:.4f}\")\n",
        "  print(f\"R-squared (R2): {results['r2']:.4f}\")"
      ],
      "metadata": {
        "id": "oUN6xx0Kp-17"
      },
      "execution_count": 56,
      "outputs": []
    },
    {
      "cell_type": "markdown",
      "source": [
        "Обучим теперь модель градиентного бустинга для решения задачи регрессии на бейзлайн-датасете, который мы ранее определили и выведем на экран показатели метрик для итоговой обученной модели."
      ],
      "metadata": {
        "id": "Rfp78Av6qB0I"
      }
    },
    {
      "cell_type": "code",
      "source": [
        "(X_train, y_train), (X_test, y_test) = generate_train_data(baseline_ds)\n",
        "\n",
        "model = sklearn.ensemble.GradientBoostingRegressor(random_state=42)\n",
        "model.fit(X_train, y_train)\n",
        "\n",
        "print_model_metrics(model, X_test, y_test)"
      ],
      "metadata": {
        "colab": {
          "base_uri": "https://localhost:8080/"
        },
        "id": "f3ATmczuqHpY",
        "outputId": "30e46029-b53e-4b36-c8ea-7806bc057f5b"
      },
      "execution_count": 57,
      "outputs": [
        {
          "output_type": "stream",
          "name": "stdout",
          "text": [
            "Mean Absolute Error (MAE): 5.3851\n",
            "R-squared (R2): 0.9391\n"
          ]
        }
      ]
    },
    {
      "cell_type": "markdown",
      "source": [
        "Как видим, даже при неоптимизированном бейзлайне модель показыает отличные результаты, особенно для метрики \"R2\".\n",
        "\n",
        "Попробуем применить к случайному лесу гипотезы, которые мы раньше применяли в прошлых лабораторных работах."
      ],
      "metadata": {
        "id": "fRJmmNKMqKKH"
      }
    },
    {
      "cell_type": "markdown",
      "source": [
        "### 3. Улучшение бейзлайна"
      ],
      "metadata": {
        "id": "SIfYQZ6SqYkW"
      }
    },
    {
      "cell_type": "markdown",
      "source": [
        "#### Feature engineering"
      ],
      "metadata": {
        "id": "iXAWdP4_qa0L"
      }
    },
    {
      "cell_type": "markdown",
      "source": [
        "При решении прошлых лабораторных работ самым эффективным методом оптимизации бейзлайна всегда было добавление новых признаков с использованием нелинейных функций.\n",
        "\n",
        "Попробуем применить ту же гипотезу и к градиентному бустингу. Для этого расширим датасет новыми признаками `Trip_Distance_km`, `Per_Km_Rate` и `Trip_Duration_Minutes`, `Per_Minute_Rate`, которые мы определили в прошлых лабораторных работах."
      ],
      "metadata": {
        "id": "c7kp4mM-qbv0"
      }
    },
    {
      "cell_type": "code",
      "source": [
        "optimized_ds = baseline_ds.copy()\n",
        "\n",
        "optimized_ds[\"Per_Km_Rate__Trip_Distance_km\"] = optimized_ds[\"Trip_Distance_km\"] * optimized_ds[\"Per_Km_Rate\"]\n",
        "optimized_ds = optimized_ds.drop(columns=[\"Trip_Distance_km\", \"Per_Km_Rate\"])\n",
        "\n",
        "# обучение модели\n",
        "\n",
        "(X_train, y_train), (X_test, y_test) = generate_train_data(optimized_ds)\n",
        "\n",
        "model = sklearn.ensemble.GradientBoostingRegressor(random_state=42)\n",
        "model.fit(X_train, y_train)\n",
        "\n",
        "print_model_metrics(model, X_test, y_test)"
      ],
      "metadata": {
        "colab": {
          "base_uri": "https://localhost:8080/"
        },
        "id": "XBYmMkarqftw",
        "outputId": "be2a541a-4999-4183-c992-91426a7ed1cf"
      },
      "execution_count": 58,
      "outputs": [
        {
          "output_type": "stream",
          "name": "stdout",
          "text": [
            "Mean Absolute Error (MAE): 5.1212\n",
            "R-squared (R2): 0.9350\n"
          ]
        }
      ]
    },
    {
      "cell_type": "code",
      "source": [
        "optimized_ds_2 = optimized_ds.copy()\n",
        "\n",
        "optimized_ds_2[\"Per_Minute_Rate__Trip_Duration_Minutes\"] = optimized_ds_2[\"Trip_Duration_Minutes\"] * optimized_ds_2[\"Per_Minute_Rate\"]\n",
        "optimized_ds_2 = optimized_ds_2.drop(columns=[\"Trip_Duration_Minutes\", \"Per_Minute_Rate\"])\n",
        "\n",
        "# обучение модели\n",
        "\n",
        "(X_train, y_train), (X_test, y_test) = generate_train_data(optimized_ds_2)\n",
        "\n",
        "model = sklearn.ensemble.GradientBoostingRegressor(random_state=42)\n",
        "model.fit(X_train, y_train)\n",
        "\n",
        "print_model_metrics(model, X_test, y_test)"
      ],
      "metadata": {
        "colab": {
          "base_uri": "https://localhost:8080/"
        },
        "id": "rKJ--OOjqnmX",
        "outputId": "3e8b42c7-4066-4804-a9fa-b8ee72173d00"
      },
      "execution_count": 59,
      "outputs": [
        {
          "output_type": "stream",
          "name": "stdout",
          "text": [
            "Mean Absolute Error (MAE): 4.4065\n",
            "R-squared (R2): 0.9522\n"
          ]
        }
      ]
    },
    {
      "cell_type": "markdown",
      "source": [
        "После добавления новых признаков метрика MAE продемонстрировала заметное снижение, что указывает на улучшение качества модели. В то же время метрика R2, хотя и незначительно, но показала уменьшение, что свидетельствует о небольшом снижении объясняющей способности модели. В итоге, гипотеза подтвердилась и позволила достичь более лучших результатов."
      ],
      "metadata": {
        "id": "_dP0Phw1qy6w"
      }
    },
    {
      "cell_type": "markdown",
      "source": [
        "#### Избавление от выбросов"
      ],
      "metadata": {
        "id": "JRTB_Bm5q8Zv"
      }
    },
    {
      "cell_type": "markdown",
      "source": [
        "Вторым по эффективности методом по оптимизации бейзлайна была фильтрация значений признаков в датасете. Попробуем применить ту же гипотезу и для случайного леса.\n",
        "\n",
        "В качестве целового признака возьмем ранее добавленный `Per_Km_Rate__Trip_Distance_km`, как мы это сделали в прошлой лабораторной работе.\n",
        "\n",
        "Для начала проанлизируем значения признака на наличие выбросов. Для этого выведем графики, которые бы нам дали больше информации о распределении значений и зависимости целевой переменной от них."
      ],
      "metadata": {
        "id": "5IfVHfGLq9en"
      }
    },
    {
      "cell_type": "code",
      "source": [
        "fig, axes = plt.subplots(1, 3, figsize=(20, 6), constrained_layout=True)\n",
        "\n",
        "sns.scatterplot(\n",
        "    x=\"Per_Km_Rate__Trip_Distance_km\",\n",
        "    y=\"Trip_Price\",\n",
        "    data=optimized_ds_2,\n",
        "    ax=axes[0]\n",
        ")\n",
        "axes[0].set_title(\"Price estimate by distance vs Trip Price\")\n",
        "axes[0].set_xlabel(\"Price estimate by distance\")\n",
        "axes[0].set_ylabel(\"Trip Price\")\n",
        "axes[0].grid(True)\n",
        "\n",
        "axes[1].hist(optimized_ds_2[\"Per_Km_Rate__Trip_Distance_km\"], bins=30, color=\"skyblue\", edgecolor=\"black\")\n",
        "axes[1].set_title(\"Распределение значений\")\n",
        "axes[1].set_xlabel(\"Price estimate by distance\")\n",
        "axes[1].set_ylabel(\"Frequency\")\n",
        "\n",
        "sns.boxplot(\n",
        "    y=\"Per_Km_Rate__Trip_Distance_km\",\n",
        "    data=optimized_ds_2,\n",
        "    ax=axes[2]\n",
        ")\n",
        "axes[2].set_title(\"Boxplot of Price estimate by distance\")\n",
        "axes[2].set_ylabel(\"Value\")\n",
        "\n",
        "plt.show()"
      ],
      "metadata": {
        "colab": {
          "base_uri": "https://localhost:8080/",
          "height": 407
        },
        "id": "GaA2zSz8rF6f",
        "outputId": "86727f09-d530-46a9-a259-950e92e80bd1"
      },
      "execution_count": 60,
      "outputs": [
        {
          "output_type": "display_data",
          "data": {
            "text/plain": [
              "<Figure size 2000x600 with 3 Axes>"
            ],
            "image/png": "[encoded data removed]"
          },
          "metadata": {}
        }
      ]
    },
    {
      "cell_type": "markdown",
      "source": [
        "Как видно по графикам:\n",
        "\n",
        "1. Целевая переменная действительно сильно зависит от значений рассматриваемого признака\n",
        "\n",
        "2. Распределение значений для целевого признака слишком смещенное и имеет длинный \"хвост\"\n",
        "\n",
        "Попробуем избавиться от выбросов, используя метод интерквартильного размаха."
      ],
      "metadata": {
        "id": "rKKZJyuXrKSg"
      }
    },
    {
      "cell_type": "code",
      "source": [
        "Q1 = optimized_ds_2[\"Per_Km_Rate__Trip_Distance_km\"].quantile(0.25)\n",
        "Q3 = optimized_ds_2[\"Per_Km_Rate__Trip_Distance_km\"].quantile(0.75)\n",
        "IQR = Q3 - Q1\n",
        "\n",
        "lower_bound = Q1 - 1.5 * IQR\n",
        "upper_bound = Q3 + 1.5 * IQR\n",
        "\n",
        "optimized_ds_3 = optimized_ds_2[(lower_bound <= optimized_ds[\"Per_Km_Rate__Trip_Distance_km\"]) & (optimized_ds[\"Per_Km_Rate__Trip_Distance_km\"] <= upper_bound)]\n",
        "\n",
        "# обучение модели\n",
        "\n",
        "(X_train, y_train), (X_test, y_test) = generate_train_data(optimized_ds_3)\n",
        "\n",
        "model = sklearn.ensemble.GradientBoostingRegressor(random_state=42)\n",
        "model.fit(X_train, y_train)\n",
        "\n",
        "print_model_metrics(model, X_test, y_test)"
      ],
      "metadata": {
        "colab": {
          "base_uri": "https://localhost:8080/"
        },
        "id": "v96nyCEArNYQ",
        "outputId": "dd67fb33-28a0-4fbc-874c-32290e17f3fb"
      },
      "execution_count": 61,
      "outputs": [
        {
          "output_type": "stream",
          "name": "stdout",
          "text": [
            "Mean Absolute Error (MAE): 3.2919\n",
            "R-squared (R2): 0.9283\n"
          ]
        }
      ]
    },
    {
      "cell_type": "markdown",
      "source": [
        "После удаления выбросов наблюдается значительное улучшение метрики MAE, что демонстрирует положительное влияние данной операции на качество модели. Однако, показатели метрики R2 немного уменьшились.\n",
        "\n",
        "Таким образом, гипотеза о влиянии выбросов на результаты модели оказалась верной и дала ощутимый эффект."
      ],
      "metadata": {
        "id": "gR_iByvdravf"
      }
    },
    {
      "cell_type": "markdown",
      "source": [
        "#### Подбор гиперпараметров"
      ],
      "metadata": {
        "id": "Ldyb9NkPrpJO"
      }
    },
    {
      "cell_type": "markdown",
      "source": [
        "Попробуем применить к модели градиентного бустинга гипотезу о том, что значения гиперпараметров, установленные по умолчанию, не являются оптимальным для данного датасета.\n",
        "\n",
        "Попробуем подобрать наилучший набор значений, испльзуя алгоритм grid search."
      ],
      "metadata": {
        "id": "ovMF09lorrNi"
      }
    },
    {
      "cell_type": "code",
      "source": [
        "param_grid = {\n",
        "  \"n_estimators\": [15, 50, 100],\n",
        "  \"learning_rate\": [0.01, 0.05, 0.1],\n",
        "  \"max_depth\": [3, 4, 5],\n",
        "  \"min_samples_split\": [10, 20],\n",
        "  \"min_samples_leaf\": [4, 8],\n",
        "  \"subsample\": [0.4, 0.8]\n",
        "}\n",
        "\n",
        "(X_train, y_train), (X_test, y_test) = generate_train_data(optimized_ds_3)\n",
        "model = sklearn.ensemble.GradientBoostingRegressor(random_state=42)\n",
        "\n",
        "grid_search = sklearn.model_selection.GridSearchCV(\n",
        "    estimator=model,\n",
        "    param_grid=param_grid,\n",
        "    cv=5,\n",
        "    scoring=\"neg_mean_absolute_error\",\n",
        "    verbose=2,\n",
        "    n_jobs=-1\n",
        ")\n",
        "\n",
        "grid_search.fit(X_train, y_train)\n",
        "\n",
        "# Вывод результатов\n",
        "\n",
        "best_params = grid_search.best_params_\n",
        "best_model = grid_search.best_estimator_\n",
        "\n",
        "print(f\"Best Parameters: {best_params}\")\n",
        "print_model_metrics(best_model, X_test, y_test)"
      ],
      "metadata": {
        "colab": {
          "base_uri": "https://localhost:8080/"
        },
        "id": "eMglAArxr39N",
        "outputId": "6118059b-2e48-41e2-dedb-aed60da2be4e"
      },
      "execution_count": 62,
      "outputs": [
        {
          "output_type": "stream",
          "name": "stdout",
          "text": [
            "Fitting 5 folds for each of 216 candidates, totalling 1080 fits\n",
            "Best Parameters: {'learning_rate': 0.05, 'max_depth': 4, 'min_samples_leaf': 8, 'min_samples_split': 10, 'n_estimators': 100, 'subsample': 0.4}\n",
            "Mean Absolute Error (MAE): 2.8811\n",
            "R-squared (R2): 0.9490\n"
          ]
        }
      ]
    },
    {
      "cell_type": "markdown",
      "source": [
        "Как видно по значениям метрик, подбор гиперпараметров дал положительный результат - модель стала показывать значительно лучшие показатели целевых метрик, что говорит нам о том, что значения гиперпараметров, установленные в модели по умолчанию, не являлись оптимальными."
      ],
      "metadata": {
        "id": "1txRed3isYo_"
      }
    },
    {
      "cell_type": "markdown",
      "source": [
        "### 4. Имплементация алгоритма машинного обучения"
      ],
      "metadata": {
        "id": "wRDfYGoJsisE"
      }
    },
    {
      "cell_type": "markdown",
      "source": [
        "Перейдем теперь к собственной имплементации алгоритма дерева решения для задачи регрессии. Решение я реализовал в виде класса `MyRandomForestClassifier`, который имеет интерфейс, схожий с тем, что используется в библиотеке `sklearn`. присутствуют 2 метода: `fit` - для обучения модели, `predict` - для предсказания классов для уже обученной модели.\n",
        "\n",
        "Так как смешанный лес является ансамблевым методом, то в его работе участвуют другие модели. В нашем случае это дерево решений. В качестве такой вспомогательной модели была взята имплементация алгоритма дерева решений из лабораторной работы №3.\n",
        "\n",
        "Также, так как процесс обучения стал значительно дольше, то была добавлена строка для отслеживания прогресса обучения модели."
      ],
      "metadata": {
        "id": "me5FgVo3sjud"
      }
    },
    {
      "cell_type": "code",
      "source": [
        "_PredictedClass = int\n",
        "\n",
        "\n",
        "@dataclass\n",
        "class _SplitInfo:\n",
        "  index: int\n",
        "  threshold: float\n",
        "\n",
        "\n",
        "@dataclass\n",
        "class _TreeNode:\n",
        "  split_info: _SplitInfo\n",
        "  left: Union[\"_TreeNode\", _PredictedClass]\n",
        "  right: Union[\"_TreeNode\", _PredictedClass]\n",
        "\n",
        "\n",
        "\n",
        "# TODO: make a base class for regressor & classifier\n",
        "class MyDecisionTreeRegressor:\n",
        "  def __init__(self, *, max_depth=float(\"inf\")):\n",
        "    self.__max_depth = max_depth\n",
        "    self.__tree = None\n",
        "\n",
        "  def __build_decision_tree(self, X, y, depth=0):\n",
        "    n, _ = X.shape\n",
        "    unique_classes = set(y)\n",
        "\n",
        "    if len(unique_classes) == 1 or n <= 1:\n",
        "      return unique_classes.pop()\n",
        "\n",
        "    if depth >= self.__max_depth:\n",
        "      return collections.Counter(y).most_common(1)[0][0]\n",
        "\n",
        "    best_split = self.__get_best_split(X, y)\n",
        "    left_part, right_part = self.__split_data(X, y, best_split)\n",
        "\n",
        "    return _TreeNode(\n",
        "      split_info=best_split,\n",
        "      left=self.__build_decision_tree(*left_part, depth + 1),\n",
        "      right=self.__build_decision_tree(*right_part, depth + 1),\n",
        "    )\n",
        "\n",
        "  def __split_data(self, X, y, split_info):\n",
        "    x = X[:, split_info.index]\n",
        "    left_ids = x <= split_info.threshold\n",
        "    right_ids = x > split_info.threshold\n",
        "\n",
        "    return (X[left_ids], y[left_ids]), (X[right_ids], y[right_ids])\n",
        "\n",
        "  def __get_best_split(self, X, y):\n",
        "    _, m = X.shape\n",
        "    return max(\n",
        "      (\n",
        "        _SplitInfo(index=feature_index, threshold=threshold)\n",
        "        for feature_index in range(m)\n",
        "        for threshold in self.__get_thresholds(X, feature_index)\n",
        "      ),\n",
        "      key=lambda split_info: self.__get_variance_reduction(X, y, split_info.index, split_info.threshold),\n",
        "      default=-float('inf'),\n",
        "    )\n",
        "\n",
        "  def __get_variance_reduction(self, X, y, feature_index, threshold):\n",
        "    feature_values = X[:, feature_index]\n",
        "    left_indices = feature_values <= threshold\n",
        "    right_indices = feature_values > threshold\n",
        "\n",
        "    if np.sum(left_indices) == 0 or np.sum(right_indices) == 0:\n",
        "      return -float('inf')\n",
        "\n",
        "    left_y = y[left_indices]\n",
        "    right_y = y[right_indices]\n",
        "\n",
        "    n = len(y)\n",
        "    left_var = np.var(left_y) * len(left_y) / n\n",
        "    right_var = np.var(right_y) * len(right_y) / n\n",
        "\n",
        "    return np.var(y) - (left_var + right_var)\n",
        "\n",
        "  def __get_thresholds(self, X, feature_id):\n",
        "    return np.unique(X[:, feature_id])\n",
        "\n",
        "  def __predict(self, x):\n",
        "    cursor = self.__tree\n",
        "\n",
        "    while isinstance(cursor, _TreeNode):\n",
        "      feature_value = x[cursor.split_info.index]\n",
        "      cursor = cursor.left if feature_value <= cursor.split_info.threshold else cursor.right\n",
        "\n",
        "    return cursor\n",
        "\n",
        "  def fit(self, X, y):\n",
        "    self.__tree = self.__build_decision_tree(X, y)\n",
        "\n",
        "  def predict(self, X):\n",
        "    return np.array(list(map(self.__predict, X)))"
      ],
      "metadata": {
        "id": "E6Lu1k9Zsm-R"
      },
      "execution_count": 70,
      "outputs": []
    },
    {
      "cell_type": "code",
      "source": [
        "class MyGradientBoostingRegressor:\n",
        "  def __init__(self, *, trees_amount=100, learn_rate=0.1, tree_max_depth=3):\n",
        "    self.__trees_amount = trees_amount\n",
        "    self.__learn_rate = learn_rate\n",
        "    self.__tree_max_depth = tree_max_depth\n",
        "\n",
        "    self.__models = None\n",
        "\n",
        "  def fit(self, X, y):\n",
        "    y_pred = np.zeros(len(y))\n",
        "    models = []\n",
        "\n",
        "    for _ in tqdm.tqdm(range(self.__trees_amount)):\n",
        "      model = MyDecisionTreeRegressor(max_depth=self.__tree_max_depth)\n",
        "      model.fit(X, y - y_pred)\n",
        "\n",
        "      y_pred += self.__learn_rate * model.predict(X)\n",
        "      models.append(model)\n",
        "\n",
        "    self.__models = models\n",
        "    print()\n",
        "\n",
        "  def predict(self, X):\n",
        "    return sum(model.predict(X) for model in self.__models) * self.__learn_rate\n"
      ],
      "metadata": {
        "id": "L63A-yPusodO"
      },
      "execution_count": 78,
      "outputs": []
    },
    {
      "cell_type": "code",
      "source": [
        "(X_train, y_train), (X_test, y_test) = generate_train_data(baseline_ds)\n",
        "\n",
        "model = MyGradientBoostingRegressor()\n",
        "model.fit(X_train, y_train)\n",
        "\n",
        "print_model_metrics(model, X_test, y_test)"
      ],
      "metadata": {
        "colab": {
          "base_uri": "https://localhost:8080/"
        },
        "id": "S21iQd_tsp3l",
        "outputId": "f4c224a3-70a6-4d1b-9c33-1bb5b360c2c5"
      },
      "execution_count": 79,
      "outputs": [
        {
          "output_type": "stream",
          "name": "stderr",
          "text": [
            "100%|██████████| 100/100 [01:09<00:00,  1.45it/s]"
          ]
        },
        {
          "output_type": "stream",
          "name": "stdout",
          "text": [
            "\n",
            "Mean Absolute Error (MAE): 17.8299\n",
            "R-squared (R2): 0.7779\n"
          ]
        },
        {
          "output_type": "stream",
          "name": "stderr",
          "text": [
            "\n"
          ]
        }
      ]
    },
    {
      "cell_type": "markdown",
      "source": [
        "Как видим, на неоптимизированном бейзлайне модель показывает неплохие результаты. Однако, по сравнению с моделью из пункта 2 они хуже: значительно выше значение для метрики \"MAE\" и некритично хуже значение для метрики \"R2\"."
      ],
      "metadata": {
        "id": "DJNAkEW8u-m8"
      }
    },
    {
      "cell_type": "code",
      "source": [
        "(X_train, y_train), (X_test, y_test) = generate_train_data(optimized_ds_3)\n",
        "\n",
        "model = MyGradientBoostingRegressor(\n",
        "    learn_rate=0.05,\n",
        "    tree_max_depth=4,\n",
        "    trees_amount=100,\n",
        ")\n",
        "\n",
        "model.fit(X_train, y_train)\n",
        "print_model_metrics(model, X_test, y_test)"
      ],
      "metadata": {
        "colab": {
          "base_uri": "https://localhost:8080/"
        },
        "id": "8dVjYWUSsrLC",
        "outputId": "38429682-cb05-488e-8e73-00cff9869bca"
      },
      "execution_count": 80,
      "outputs": [
        {
          "output_type": "stream",
          "name": "stderr",
          "text": [
            "100%|██████████| 100/100 [01:22<00:00,  1.21it/s]"
          ]
        },
        {
          "output_type": "stream",
          "name": "stdout",
          "text": [
            "\n",
            "Mean Absolute Error (MAE): 4.3413\n",
            "R-squared (R2): 0.9269\n"
          ]
        },
        {
          "output_type": "stream",
          "name": "stderr",
          "text": [
            "\n"
          ]
        }
      ]
    },
    {
      "cell_type": "markdown",
      "source": [
        "Однако, на оптимизированном бейзлайне имплементированная модель показала себя значительно лучше! Заметны сильные улучшения в метрике \"MAE\". Также, улучшилось\n",
        "значение для метрики \"R2\".\n",
        "\n",
        "Однако, по сравнению с моделью из пункта 3 это также не слишком хорошо: только значение метрики \"R2\" приблизилось к результату модели из пункта 3.\n"
      ],
      "metadata": {
        "id": "lo_Nq9ifvOdG"
      }
    }
  ]
}