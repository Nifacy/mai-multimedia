{
  "cells": [
    {
      "cell_type": "markdown",
      "metadata": {
        "id": "fgq-Jb0iMaOb"
      },
      "source": [
        "# Лабораторная работа №3 \"Проведение исследований с решающим деревом\""
      ]
    },
    {
      "cell_type": "markdown",
      "metadata": {
        "id": "xsSK-UFDMusr"
      },
      "source": [
        "## Подключение вспомогательных библиотек"
      ]
    },
    {
      "cell_type": "code",
      "execution_count": 18,
      "metadata": {
        "id": "wvAGbS77MUj6"
      },
      "outputs": [],
      "source": [
        "from typing import Union\n",
        "\n",
        "import abc\n",
        "import math\n",
        "from dataclasses import dataclass\n",
        "import collections\n",
        "\n",
        "import pandas as pd\n",
        "import matplotlib.pyplot as plt\n",
        "import seaborn as sns\n",
        "import numpy as np\n",
        "\n",
        "import sklearn.metrics\n",
        "import sklearn.model_selection\n",
        "import sklearn.tree\n"
      ]
    },
    {
      "cell_type": "markdown",
      "metadata": {
        "id": "q9Efz0HdMy_j"
      },
      "source": [
        "## Классификация"
      ]
    },
    {
      "cell_type": "markdown",
      "metadata": {
        "id": "02KH5-QAM0oz"
      },
      "source": [
        "### 2. Создание бейзлайна и оценка качества"
      ]
    },
    {
      "cell_type": "markdown",
      "metadata": {
        "id": "GpeZPf0hM2eN"
      },
      "source": [
        "#### Подготовка бейзлайна"
      ]
    },
    {
      "cell_type": "markdown",
      "metadata": {
        "id": "zFE35jq_M4PR"
      },
      "source": [
        "Перед началом обучения модели сформируем бейзлайн, подобно тому, как это было выполнено в рамках лабораторной работы №1"
      ]
    },
    {
      "cell_type": "code",
      "execution_count": null,
      "metadata": {
        "colab": {
          "base_uri": "https://localhost:8080/",
          "height": 296
        },
        "id": "3Ep9OKUOM8bI",
        "outputId": "da446204-7aaf-47cf-e3a1-a6cf9b3ef52b"
      },
      "outputs": [
        {
          "name": "stdout",
          "output_type": "stream",
          "text": [
            "Dataset URL: https://www.kaggle.com/datasets/saurabhbadole/bank-customer-churn-prediction-dataset\n",
            "License(s): Attribution-NonCommercial-NoDerivatives 4.0 International (CC BY-NC-ND 4.0)\n",
            "Archive:  dataset/bank-customer-churn-prediction-dataset.zip\n",
            "  inflating: dataset/Churn_Modelling.csv  \n"
          ]
        },
        {
          "data": {
            "application/vnd.google.colaboratory.intrinsic+json": {
              "summary": "{\n  \"name\": \"baseline_ds\",\n  \"rows\": 10000,\n  \"fields\": [\n    {\n      \"column\": \"CreditScore\",\n      \"properties\": {\n        \"dtype\": \"number\",\n        \"std\": 96,\n        \"min\": 350,\n        \"max\": 850,\n        \"num_unique_values\": 460,\n        \"samples\": [\n          754,\n          533,\n          744\n        ],\n        \"semantic_type\": \"\",\n        \"description\": \"\"\n      }\n    },\n    {\n      \"column\": \"Age\",\n      \"properties\": {\n        \"dtype\": \"number\",\n        \"std\": 10,\n        \"min\": 18,\n        \"max\": 92,\n        \"num_unique_values\": 70,\n        \"samples\": [\n          61,\n          42,\n          59\n        ],\n        \"semantic_type\": \"\",\n        \"description\": \"\"\n      }\n    },\n    {\n      \"column\": \"Tenure\",\n      \"properties\": {\n        \"dtype\": \"number\",\n        \"std\": 2,\n        \"min\": 0,\n        \"max\": 10,\n        \"num_unique_values\": 11,\n        \"samples\": [\n          6,\n          2,\n          9\n        ],\n        \"semantic_type\": \"\",\n        \"description\": \"\"\n      }\n    },\n    {\n      \"column\": \"Balance\",\n      \"properties\": {\n        \"dtype\": \"number\",\n        \"std\": 62397.40520238623,\n        \"min\": 0.0,\n        \"max\": 250898.09,\n        \"num_unique_values\": 6382,\n        \"samples\": [\n          117707.18,\n          133050.97,\n          124271.26\n        ],\n        \"semantic_type\": \"\",\n        \"description\": \"\"\n      }\n    },\n    {\n      \"column\": \"NumOfProducts\",\n      \"properties\": {\n        \"dtype\": \"number\",\n        \"std\": 0,\n        \"min\": 1,\n        \"max\": 4,\n        \"num_unique_values\": 4,\n        \"samples\": [\n          3,\n          4,\n          1\n        ],\n        \"semantic_type\": \"\",\n        \"description\": \"\"\n      }\n    },\n    {\n      \"column\": \"HasCrCard\",\n      \"properties\": {\n        \"dtype\": \"number\",\n        \"std\": 0,\n        \"min\": 0,\n        \"max\": 1,\n        \"num_unique_values\": 2,\n        \"samples\": [\n          0,\n          1\n        ],\n        \"semantic_type\": \"\",\n        \"description\": \"\"\n      }\n    },\n    {\n      \"column\": \"IsActiveMember\",\n      \"properties\": {\n        \"dtype\": \"number\",\n        \"std\": 0,\n        \"min\": 0,\n        \"max\": 1,\n        \"num_unique_values\": 2,\n        \"samples\": [\n          0,\n          1\n        ],\n        \"semantic_type\": \"\",\n        \"description\": \"\"\n      }\n    },\n    {\n      \"column\": \"EstimatedSalary\",\n      \"properties\": {\n        \"dtype\": \"number\",\n        \"std\": 57510.49281769822,\n        \"min\": 11.58,\n        \"max\": 199992.48,\n        \"num_unique_values\": 9999,\n        \"samples\": [\n          100809.99,\n          95273.73\n        ],\n        \"semantic_type\": \"\",\n        \"description\": \"\"\n      }\n    },\n    {\n      \"column\": \"Exited\",\n      \"properties\": {\n        \"dtype\": \"number\",\n        \"std\": 0,\n        \"min\": 0,\n        \"max\": 1,\n        \"num_unique_values\": 2,\n        \"samples\": [\n          0,\n          1\n        ],\n        \"semantic_type\": \"\",\n        \"description\": \"\"\n      }\n    },\n    {\n      \"column\": \"Geography_France\",\n      \"properties\": {\n        \"dtype\": \"number\",\n        \"std\": 0,\n        \"min\": 0,\n        \"max\": 1,\n        \"num_unique_values\": 2,\n        \"samples\": [\n          0,\n          1\n        ],\n        \"semantic_type\": \"\",\n        \"description\": \"\"\n      }\n    },\n    {\n      \"column\": \"Geography_Germany\",\n      \"properties\": {\n        \"dtype\": \"number\",\n        \"std\": 0,\n        \"min\": 0,\n        \"max\": 1,\n        \"num_unique_values\": 2,\n        \"samples\": [\n          1,\n          0\n        ],\n        \"semantic_type\": \"\",\n        \"description\": \"\"\n      }\n    },\n    {\n      \"column\": \"Geography_Spain\",\n      \"properties\": {\n        \"dtype\": \"number\",\n        \"std\": 0,\n        \"min\": 0,\n        \"max\": 1,\n        \"num_unique_values\": 2,\n        \"samples\": [\n          1,\n          0\n        ],\n        \"semantic_type\": \"\",\n        \"description\": \"\"\n      }\n    },\n    {\n      \"column\": \"Gender_Female\",\n      \"properties\": {\n        \"dtype\": \"number\",\n        \"std\": 0,\n        \"min\": 0,\n        \"max\": 1,\n        \"num_unique_values\": 2,\n        \"samples\": [\n          0,\n          1\n        ],\n        \"semantic_type\": \"\",\n        \"description\": \"\"\n      }\n    },\n    {\n      \"column\": \"Gender_Male\",\n      \"properties\": {\n        \"dtype\": \"number\",\n        \"std\": 0,\n        \"min\": 0,\n        \"max\": 1,\n        \"num_unique_values\": 2,\n        \"samples\": [\n          1,\n          0\n        ],\n        \"semantic_type\": \"\",\n        \"description\": \"\"\n      }\n    }\n  ]\n}",
              "type": "dataframe",
              "variable_name": "baseline_ds"
            },
            "text/html": [
              "\n",
              "  <div id=\"df-dd66b9b1-1ce7-4910-a328-2b4d6a34f9a8\" class=\"colab-df-container\">\n",
              "    <div>\n",
              "<style scoped>\n",
              "    .dataframe tbody tr th:only-of-type {\n",
              "        vertical-align: middle;\n",
              "    }\n",
              "\n",
              "    .dataframe tbody tr th {\n",
              "        vertical-align: top;\n",
              "    }\n",
              "\n",
              "    .dataframe thead th {\n",
              "        text-align: right;\n",
              "    }\n",
              "</style>\n",
              "<table border=\"1\" class=\"dataframe\">\n",
              "  <thead>\n",
              "    <tr style=\"text-align: right;\">\n",
              "      <th></th>\n",
              "      <th>CreditScore</th>\n",
              "      <th>Age</th>\n",
              "      <th>Tenure</th>\n",
              "      <th>Balance</th>\n",
              "      <th>NumOfProducts</th>\n",
              "      <th>HasCrCard</th>\n",
              "      <th>IsActiveMember</th>\n",
              "      <th>EstimatedSalary</th>\n",
              "      <th>Exited</th>\n",
              "      <th>Geography_France</th>\n",
              "      <th>Geography_Germany</th>\n",
              "      <th>Geography_Spain</th>\n",
              "      <th>Gender_Female</th>\n",
              "      <th>Gender_Male</th>\n",
              "    </tr>\n",
              "  </thead>\n",
              "  <tbody>\n",
              "    <tr>\n",
              "      <th>0</th>\n",
              "      <td>619</td>\n",
              "      <td>42</td>\n",
              "      <td>2</td>\n",
              "      <td>0.00</td>\n",
              "      <td>1</td>\n",
              "      <td>1</td>\n",
              "      <td>1</td>\n",
              "      <td>101348.88</td>\n",
              "      <td>1</td>\n",
              "      <td>1</td>\n",
              "      <td>0</td>\n",
              "      <td>0</td>\n",
              "      <td>1</td>\n",
              "      <td>0</td>\n",
              "    </tr>\n",
              "    <tr>\n",
              "      <th>1</th>\n",
              "      <td>608</td>\n",
              "      <td>41</td>\n",
              "      <td>1</td>\n",
              "      <td>83807.86</td>\n",
              "      <td>1</td>\n",
              "      <td>0</td>\n",
              "      <td>1</td>\n",
              "      <td>112542.58</td>\n",
              "      <td>0</td>\n",
              "      <td>0</td>\n",
              "      <td>0</td>\n",
              "      <td>1</td>\n",
              "      <td>1</td>\n",
              "      <td>0</td>\n",
              "    </tr>\n",
              "    <tr>\n",
              "      <th>2</th>\n",
              "      <td>502</td>\n",
              "      <td>42</td>\n",
              "      <td>8</td>\n",
              "      <td>159660.80</td>\n",
              "      <td>3</td>\n",
              "      <td>1</td>\n",
              "      <td>0</td>\n",
              "      <td>113931.57</td>\n",
              "      <td>1</td>\n",
              "      <td>1</td>\n",
              "      <td>0</td>\n",
              "      <td>0</td>\n",
              "      <td>1</td>\n",
              "      <td>0</td>\n",
              "    </tr>\n",
              "    <tr>\n",
              "      <th>3</th>\n",
              "      <td>699</td>\n",
              "      <td>39</td>\n",
              "      <td>1</td>\n",
              "      <td>0.00</td>\n",
              "      <td>2</td>\n",
              "      <td>0</td>\n",
              "      <td>0</td>\n",
              "      <td>93826.63</td>\n",
              "      <td>0</td>\n",
              "      <td>1</td>\n",
              "      <td>0</td>\n",
              "      <td>0</td>\n",
              "      <td>1</td>\n",
              "      <td>0</td>\n",
              "    </tr>\n",
              "    <tr>\n",
              "      <th>4</th>\n",
              "      <td>850</td>\n",
              "      <td>43</td>\n",
              "      <td>2</td>\n",
              "      <td>125510.82</td>\n",
              "      <td>1</td>\n",
              "      <td>1</td>\n",
              "      <td>1</td>\n",
              "      <td>79084.10</td>\n",
              "      <td>0</td>\n",
              "      <td>0</td>\n",
              "      <td>0</td>\n",
              "      <td>1</td>\n",
              "      <td>1</td>\n",
              "      <td>0</td>\n",
              "    </tr>\n",
              "  </tbody>\n",
              "</table>\n",
              "</div>\n",
              "    <div class=\"colab-df-buttons\">\n",
              "\n",
              "  <div class=\"colab-df-container\">\n",
              "    <button class=\"colab-df-convert\" onclick=\"convertToInteractive('df-dd66b9b1-1ce7-4910-a328-2b4d6a34f9a8')\"\n",
              "            title=\"Convert this dataframe to an interactive table.\"\n",
              "            style=\"display:none;\">\n",
              "\n",
              "  <svg xmlns=\"http://www.w3.org/2000/svg\" height=\"24px\" viewBox=\"0 -960 960 960\">\n",
              "    <path d=\"M120-120v-720h720v720H120Zm60-500h600v-160H180v160Zm220 220h160v-160H400v160Zm0 220h160v-160H400v160ZM180-400h160v-160H180v160Zm440 0h160v-160H620v160ZM180-180h160v-160H180v160Zm440 0h160v-160H620v160Z\"/>\n",
              "  </svg>\n",
              "    </button>\n",
              "\n",
              "  <style>\n",
              "    .colab-df-container {\n",
              "      display:flex;\n",
              "      gap: 12px;\n",
              "    }\n",
              "\n",
              "    .colab-df-convert {\n",
              "      background-color: #E8F0FE;\n",
              "      border: none;\n",
              "      border-radius: 50%;\n",
              "      cursor: pointer;\n",
              "      display: none;\n",
              "      fill: #1967D2;\n",
              "      height: 32px;\n",
              "      padding: 0 0 0 0;\n",
              "      width: 32px;\n",
              "    }\n",
              "\n",
              "    .colab-df-convert:hover {\n",
              "      background-color: #E2EBFA;\n",
              "      box-shadow: 0px 1px 2px rgba(60, 64, 67, 0.3), 0px 1px 3px 1px rgba(60, 64, 67, 0.15);\n",
              "      fill: #174EA6;\n",
              "    }\n",
              "\n",
              "    .colab-df-buttons div {\n",
              "      margin-bottom: 4px;\n",
              "    }\n",
              "\n",
              "    [theme=dark] .colab-df-convert {\n",
              "      background-color: #3B4455;\n",
              "      fill: #D2E3FC;\n",
              "    }\n",
              "\n",
              "    [theme=dark] .colab-df-convert:hover {\n",
              "      background-color: #434B5C;\n",
              "      box-shadow: 0px 1px 3px 1px rgba(0, 0, 0, 0.15);\n",
              "      filter: drop-shadow(0px 1px 2px rgba(0, 0, 0, 0.3));\n",
              "      fill: #FFFFFF;\n",
              "    }\n",
              "  </style>\n",
              "\n",
              "    <script>\n",
              "      const buttonEl =\n",
              "        document.querySelector('#df-dd66b9b1-1ce7-4910-a328-2b4d6a34f9a8 button.colab-df-convert');\n",
              "      buttonEl.style.display =\n",
              "        google.colab.kernel.accessAllowed ? 'block' : 'none';\n",
              "\n",
              "      async function convertToInteractive(key) {\n",
              "        const element = document.querySelector('#df-dd66b9b1-1ce7-4910-a328-2b4d6a34f9a8');\n",
              "        const dataTable =\n",
              "          await google.colab.kernel.invokeFunction('convertToInteractive',\n",
              "                                                    [key], {});\n",
              "        if (!dataTable) return;\n",
              "\n",
              "        const docLinkHtml = 'Like what you see? Visit the ' +\n",
              "          '<a target=\"_blank\" href=https://colab.research.google.com/notebooks/data_table.ipynb>data table notebook</a>'\n",
              "          + ' to learn more about interactive tables.';\n",
              "        element.innerHTML = '';\n",
              "        dataTable['output_type'] = 'display_data';\n",
              "        await google.colab.output.renderOutput(dataTable, element);\n",
              "        const docLink = document.createElement('div');\n",
              "        docLink.innerHTML = docLinkHtml;\n",
              "        element.appendChild(docLink);\n",
              "      }\n",
              "    </script>\n",
              "  </div>\n",
              "\n",
              "\n",
              "<div id=\"df-5ecae636-d6fb-4a30-848c-3ff6a170902d\">\n",
              "  <button class=\"colab-df-quickchart\" onclick=\"quickchart('df-5ecae636-d6fb-4a30-848c-3ff6a170902d')\"\n",
              "            title=\"Suggest charts\"\n",
              "            style=\"display:none;\">\n",
              "\n",
              "<svg xmlns=\"http://www.w3.org/2000/svg\" height=\"24px\"viewBox=\"0 0 24 24\"\n",
              "     width=\"24px\">\n",
              "    <g>\n",
              "        <path d=\"M19 3H5c-1.1 0-2 .9-2 2v14c0 1.1.9 2 2 2h14c1.1 0 2-.9 2-2V5c0-1.1-.9-2-2-2zM9 17H7v-7h2v7zm4 0h-2V7h2v10zm4 0h-2v-4h2v4z\"/>\n",
              "    </g>\n",
              "</svg>\n",
              "  </button>\n",
              "\n",
              "<style>\n",
              "  .colab-df-quickchart {\n",
              "      --bg-color: #E8F0FE;\n",
              "      --fill-color: #1967D2;\n",
              "      --hover-bg-color: #E2EBFA;\n",
              "      --hover-fill-color: #174EA6;\n",
              "      --disabled-fill-color: #AAA;\n",
              "      --disabled-bg-color: #DDD;\n",
              "  }\n",
              "\n",
              "  [theme=dark] .colab-df-quickchart {\n",
              "      --bg-color: #3B4455;\n",
              "      --fill-color: #D2E3FC;\n",
              "      --hover-bg-color: #434B5C;\n",
              "      --hover-fill-color: #FFFFFF;\n",
              "      --disabled-bg-color: #3B4455;\n",
              "      --disabled-fill-color: #666;\n",
              "  }\n",
              "\n",
              "  .colab-df-quickchart {\n",
              "    background-color: var(--bg-color);\n",
              "    border: none;\n",
              "    border-radius: 50%;\n",
              "    cursor: pointer;\n",
              "    display: none;\n",
              "    fill: var(--fill-color);\n",
              "    height: 32px;\n",
              "    padding: 0;\n",
              "    width: 32px;\n",
              "  }\n",
              "\n",
              "  .colab-df-quickchart:hover {\n",
              "    background-color: var(--hover-bg-color);\n",
              "    box-shadow: 0 1px 2px rgba(60, 64, 67, 0.3), 0 1px 3px 1px rgba(60, 64, 67, 0.15);\n",
              "    fill: var(--button-hover-fill-color);\n",
              "  }\n",
              "\n",
              "  .colab-df-quickchart-complete:disabled,\n",
              "  .colab-df-quickchart-complete:disabled:hover {\n",
              "    background-color: var(--disabled-bg-color);\n",
              "    fill: var(--disabled-fill-color);\n",
              "    box-shadow: none;\n",
              "  }\n",
              "\n",
              "  .colab-df-spinner {\n",
              "    border: 2px solid var(--fill-color);\n",
              "    border-color: transparent;\n",
              "    border-bottom-color: var(--fill-color);\n",
              "    animation:\n",
              "      spin 1s steps(1) infinite;\n",
              "  }\n",
              "\n",
              "  @keyframes spin {\n",
              "    0% {\n",
              "      border-color: transparent;\n",
              "      border-bottom-color: var(--fill-color);\n",
              "      border-left-color: var(--fill-color);\n",
              "    }\n",
              "    20% {\n",
              "      border-color: transparent;\n",
              "      border-left-color: var(--fill-color);\n",
              "      border-top-color: var(--fill-color);\n",
              "    }\n",
              "    30% {\n",
              "      border-color: transparent;\n",
              "      border-left-color: var(--fill-color);\n",
              "      border-top-color: var(--fill-color);\n",
              "      border-right-color: var(--fill-color);\n",
              "    }\n",
              "    40% {\n",
              "      border-color: transparent;\n",
              "      border-right-color: var(--fill-color);\n",
              "      border-top-color: var(--fill-color);\n",
              "    }\n",
              "    60% {\n",
              "      border-color: transparent;\n",
              "      border-right-color: var(--fill-color);\n",
              "    }\n",
              "    80% {\n",
              "      border-color: transparent;\n",
              "      border-right-color: var(--fill-color);\n",
              "      border-bottom-color: var(--fill-color);\n",
              "    }\n",
              "    90% {\n",
              "      border-color: transparent;\n",
              "      border-bottom-color: var(--fill-color);\n",
              "    }\n",
              "  }\n",
              "</style>\n",
              "\n",
              "  <script>\n",
              "    async function quickchart(key) {\n",
              "      const quickchartButtonEl =\n",
              "        document.querySelector('#' + key + ' button');\n",
              "      quickchartButtonEl.disabled = true;  // To prevent multiple clicks.\n",
              "      quickchartButtonEl.classList.add('colab-df-spinner');\n",
              "      try {\n",
              "        const charts = await google.colab.kernel.invokeFunction(\n",
              "            'suggestCharts', [key], {});\n",
              "      } catch (error) {\n",
              "        console.error('Error during call to suggestCharts:', error);\n",
              "      }\n",
              "      quickchartButtonEl.classList.remove('colab-df-spinner');\n",
              "      quickchartButtonEl.classList.add('colab-df-quickchart-complete');\n",
              "    }\n",
              "    (() => {\n",
              "      let quickchartButtonEl =\n",
              "        document.querySelector('#df-5ecae636-d6fb-4a30-848c-3ff6a170902d button');\n",
              "      quickchartButtonEl.style.display =\n",
              "        google.colab.kernel.accessAllowed ? 'block' : 'none';\n",
              "    })();\n",
              "  </script>\n",
              "</div>\n",
              "    </div>\n",
              "  </div>\n"
            ],
            "text/plain": [
              "   CreditScore  Age  Tenure    Balance  NumOfProducts  HasCrCard  \\\n",
              "0          619   42       2       0.00              1          1   \n",
              "1          608   41       1   83807.86              1          0   \n",
              "2          502   42       8  159660.80              3          1   \n",
              "3          699   39       1       0.00              2          0   \n",
              "4          850   43       2  125510.82              1          1   \n",
              "\n",
              "   IsActiveMember  EstimatedSalary  Exited  Geography_France  \\\n",
              "0               1        101348.88       1                 1   \n",
              "1               1        112542.58       0                 0   \n",
              "2               0        113931.57       1                 1   \n",
              "3               0         93826.63       0                 1   \n",
              "4               1         79084.10       0                 0   \n",
              "\n",
              "   Geography_Germany  Geography_Spain  Gender_Female  Gender_Male  \n",
              "0                  0                0              1            0  \n",
              "1                  0                1              1            0  \n",
              "2                  0                0              1            0  \n",
              "3                  0                0              1            0  \n",
              "4                  0                1              1            0  "
            ]
          },
          "execution_count": 2,
          "metadata": {},
          "output_type": "execute_result"
        }
      ],
      "source": [
        "!kaggle datasets download -q -p dataset -d saurabhbadole/bank-customer-churn-prediction-dataset\n",
        "!unzip dataset/bank-customer-churn-prediction-dataset.zip -d dataset/\n",
        "\n",
        "ds = pd.read_csv(\"dataset/Churn_Modelling.csv\")\n",
        "ds.head()\n",
        "\n",
        "baseline_ds = ds.drop(columns=[\"RowNumber\", \"CustomerId\", \"Surname\"])\n",
        "\n",
        "baseline_ds = pd.get_dummies(baseline_ds, columns=[\"Geography\"], dtype=int)\n",
        "baseline_ds = pd.get_dummies(baseline_ds, columns=[\"Gender\"], dtype=int)\n",
        "\n",
        "baseline_ds.head()"
      ]
    },
    {
      "cell_type": "markdown",
      "metadata": {
        "id": "OHoMChB5M_ks"
      },
      "source": [
        "#### Обучение модели"
      ]
    },
    {
      "cell_type": "markdown",
      "metadata": {
        "id": "ykCf6VlkNCeN"
      },
      "source": [
        "Перейдем теперь к этапу обучения модели. По аналогии с лабораторной работой №1, для этого создадим вспомогательные функции:\n",
        "\n",
        "- `generate_train_data` - отвечает за то, чтобы сгенерировать набор данных для тестирования и обучения на основе переданного датасета\n",
        "\n",
        "- `get_model_metrics` - отвечает за рассчет показаний метрик для уже обученной модели на основе тестовых данных\n",
        "\n",
        "- `print_model_metrics` - отвечает за отформатированный вывод показаний метрик"
      ]
    },
    {
      "cell_type": "code",
      "execution_count": null,
      "metadata": {
        "id": "cnr8ZZheNGh-"
      },
      "outputs": [],
      "source": [
        "def generate_train_data(dataset, *, target_feature=\"Exited\", random_state=42, test_size=0.2):\n",
        "  X = dataset.drop(columns=[target_feature])\n",
        "  y = dataset[target_feature]\n",
        "\n",
        "  X_train, X_test, y_train, y_test = map(\n",
        "    np.array,\n",
        "    sklearn.model_selection.train_test_split(\n",
        "      X, y,\n",
        "      test_size=test_size,\n",
        "      random_state=random_state,\n",
        "    ),\n",
        "  )\n",
        "\n",
        "  return (X_train, y_train), (X_test, y_test)\n",
        "\n",
        "\n",
        "def get_model_metrics(model, X_test, y_test):\n",
        "  y_pred = model.predict(X_test)\n",
        "\n",
        "  accuracy = sklearn.metrics.accuracy_score(y_test, y_pred)\n",
        "  precision = sklearn.metrics.precision_score(y_test, y_pred)\n",
        "  recall = sklearn.metrics.recall_score(y_test, y_pred)\n",
        "  f1 = sklearn.metrics.f1_score(y_test, y_pred)\n",
        "\n",
        "  confusion_matrix = sklearn.metrics.confusion_matrix(y_test, y_pred)\n",
        "\n",
        "  return {\n",
        "    \"accuracy\": accuracy,\n",
        "    \"precision\": precision,\n",
        "    \"recall\": recall,\n",
        "    \"f1\": f1,\n",
        "    \"confusion_matrix\": confusion_matrix,\n",
        "  }\n",
        "\n",
        "def print_model_metrics(model, X_test, y_test):\n",
        "  metrics = get_model_metrics(model, X_test, y_test)\n",
        "\n",
        "  print(f\"Accuracy: {metrics['accuracy']:.4f}\")\n",
        "  print(f\"Precision: {metrics['precision']:.4f}\")\n",
        "  print(f\"Recall: {metrics['recall']:.4f}\")\n",
        "  print(f\"F1-Score: {metrics['f1']:.4f}\")\n",
        "\n",
        "  print(\"\\nConfusion Matrix:\")\n",
        "  print(metrics[\"confusion_matrix\"])\n"
      ]
    },
    {
      "cell_type": "markdown",
      "metadata": {
        "id": "NMsu9cABNI2p"
      },
      "source": [
        "Обучим теперь модель решающего дерева для решения задачи классификации на бейзлайн-датасете, который мы ранее определили, и выведем на экран показатели метрик для итоговой обученной модели."
      ]
    },
    {
      "cell_type": "code",
      "execution_count": null,
      "metadata": {
        "colab": {
          "base_uri": "https://localhost:8080/"
        },
        "id": "eArIpYmANR8R",
        "outputId": "438db171-566e-4671-ff12-46620a3d7689"
      },
      "outputs": [
        {
          "name": "stdout",
          "output_type": "stream",
          "text": [
            "Accuracy: 0.7790\n",
            "Precision: 0.4454\n",
            "Recall: 0.5089\n",
            "F1-Score: 0.4751\n",
            "\n",
            "Confusion Matrix:\n",
            "[[1358  249]\n",
            " [ 193  200]]\n"
          ]
        }
      ],
      "source": [
        "(X_train, y_train), (X_test, y_test) = generate_train_data(baseline_ds)\n",
        "\n",
        "model = sklearn.tree.DecisionTreeClassifier(random_state=42)\n",
        "model.fit(X_train, y_train)\n",
        "\n",
        "print_model_metrics(model, X_test, y_test)"
      ]
    },
    {
      "cell_type": "markdown",
      "metadata": {
        "id": "jrplNLpDN8vl"
      },
      "source": [
        "На основе полученных данных можно сделать следующие выводы о качестве обученной модели.\n",
        "\n",
        "Во-первых модель имеет довольно высокие значения \"Accuracy\", то есть правильно классифицирует примерно 78% всех примеров. Однако, стоит учитывать, что причиной таким высоким значениям метрики может послужить несбалансированность классов.\n",
        "\n",
        "С другой стороны, если мы посмотрим на значение метрики \"F1-Score\", то заметим, что модель тоже не справляется с несбалансированностью данных.\n",
        "\n",
        "Итого, при дальнейшем улучшении бейзлайна предлагается сделать упор на улучшение метрики \"F1-Score\", при этом сохранив значение для метрики \"Accuracy\" на том же уровне."
      ]
    },
    {
      "cell_type": "markdown",
      "metadata": {
        "id": "FAHUZD5gOpFn"
      },
      "source": [
        "### 3. Улучшение бейзлайна"
      ]
    },
    {
      "cell_type": "markdown",
      "metadata": {
        "id": "1-CAxoVVQofL"
      },
      "source": [
        "#### Нормализация данных"
      ]
    },
    {
      "cell_type": "markdown",
      "metadata": {
        "id": "B80P_SCpQqi8"
      },
      "source": [
        "Решающее дерево чувствительно к распределению значений признаков. Если признак имеет сильно смещенное распределение, то модель может создавать слишком глубокие ветки, чтобы объяснить редкие значения в хвосте.\n",
        "\n",
        "Данная проблема может быть решена путем преобразований значений признака, например, через логарифмирование. Через такие преобразования данные становятся более симметричными, а их распределение становится больше похожим на нормальное.\n",
        "\n",
        "Рассмотрим признак `Age` и проанализируем его на наличие смещенного распределения. Для этого выведем 2 графика:\n",
        "- Ящик с усами, который визуально демонстрирует основные параметры распределения\n",
        "- Гистограмму, описывающую распределение значений"
      ]
    },
    {
      "cell_type": "code",
      "execution_count": null,
      "metadata": {
        "colab": {
          "base_uri": "https://localhost:8080/",
          "height": 583
        },
        "id": "l8nW8mpUCuyp",
        "outputId": "62bf2c86-9fa2-4182-d7ad-477236ba9f36"
      },
      "outputs": [
        {
          "data": {
            "image/png": "[encoded data removed]",
            "text/plain": [
              "<Figure size 1800x800 with 2 Axes>"
            ]
          },
          "metadata": {},
          "output_type": "display_data"
        }
      ],
      "source": [
        "def print_plots(dataset, feature):\n",
        "  fig, axes = plt.subplots(1, 2, figsize=(18, 8))\n",
        "\n",
        "  sns.boxplot(x=dataset[feature], ax=axes[0])\n",
        "  axes[0].set_title(\"Распределение возраста (Boxplot)\")\n",
        "  axes[0].set_xlabel(\"Возраст\")\n",
        "  axes[0].set_ylabel(\"Значение\")\n",
        "\n",
        "  dataset[[feature]].hist(bins=30, ax=axes[1])\n",
        "  axes[1].set_title(\"Распределение возраста (Гистограмма)\")\n",
        "  axes[1].set_xlabel(\"Возраст\")\n",
        "  axes[1].set_ylabel(\"Частота\")\n",
        "\n",
        "  plt.tight_layout()\n",
        "  plt.show()\n",
        "\n",
        "print_plots(baseline_ds, \"Age\")"
      ]
    },
    {
      "cell_type": "markdown",
      "metadata": {
        "id": "tguUE1hoRtXv"
      },
      "source": [
        "Как видим, распределение значений признака `Age` действительно оказалось смещенным. Попробуем нормализовать значения, приведя распределение к нормальному, с использованием функции логарифма."
      ]
    },
    {
      "cell_type": "code",
      "execution_count": null,
      "metadata": {
        "colab": {
          "base_uri": "https://localhost:8080/",
          "height": 583
        },
        "id": "H_DSZGUwC0DN",
        "outputId": "4d7f0560-3ca4-4724-967e-eaed4470c091"
      },
      "outputs": [
        {
          "data": {
            "image/png": "[encoded data removed]",
            "text/plain": [
              "<Figure size 1800x800 with 2 Axes>"
            ]
          },
          "metadata": {},
          "output_type": "display_data"
        }
      ],
      "source": [
        "optimized_ds = baseline_ds.copy()\n",
        "optimized_ds[\"Age_log\"] = np.log2(optimized_ds[\"Age\"])\n",
        "optimized_ds.drop(columns=[\"Age\"], inplace=True)\n",
        "\n",
        "print_plots(optimized_ds, \"Age_log\")"
      ]
    },
    {
      "cell_type": "markdown",
      "metadata": {
        "id": "i2M3f9UXSJpv"
      },
      "source": [
        "Как видим, теперь распределение значений признака `Age` стало все больше похоже на нормальное."
      ]
    },
    {
      "cell_type": "markdown",
      "metadata": {
        "id": "i0SZSXzPSRcj"
      },
      "source": [
        "Проверим, улучшились ли показатели метрик после произведенных улучшений бейзлайна"
      ]
    },
    {
      "cell_type": "code",
      "execution_count": null,
      "metadata": {
        "colab": {
          "base_uri": "https://localhost:8080/"
        },
        "id": "g6H_VX9DSTvn",
        "outputId": "c15d2025-e7bc-4477-b73b-bae9edbff914"
      },
      "outputs": [
        {
          "name": "stdout",
          "output_type": "stream",
          "text": [
            "Accuracy: 0.7870\n",
            "Precision: 0.4619\n",
            "Recall: 0.5089\n",
            "F1-Score: 0.4843\n",
            "\n",
            "Confusion Matrix:\n",
            "[[1374  233]\n",
            " [ 193  200]]\n"
          ]
        }
      ],
      "source": [
        "(X_train, y_train), (X_test, y_test) = generate_train_data(optimized_ds)\n",
        "\n",
        "model = sklearn.tree.DecisionTreeClassifier(random_state=42)\n",
        "model.fit(X_train, y_train)\n",
        "\n",
        "print_model_metrics(model, X_test, y_test)"
      ]
    },
    {
      "cell_type": "markdown",
      "metadata": {
        "id": "AeBA1QffSXHw"
      },
      "source": [
        "Как видим, значения метрики оказались лучше, а следовательно, гипотеза оказалась верной!"
      ]
    },
    {
      "cell_type": "markdown",
      "metadata": {
        "id": "hUCMQ1GCOw7X"
      },
      "source": [
        "#### Учитывание несбалансированности класса"
      ]
    },
    {
      "cell_type": "markdown",
      "metadata": {
        "id": "yY_8KcF3OxV_"
      },
      "source": [
        "При выполнении прошлых лабораторных работ отличные результаты показала гипотеза о наличии несбалансированности данных в датасете. Попробуем выполнить аналогичные улучшения датасета и для случая с решающим деревом."
      ]
    },
    {
      "cell_type": "code",
      "execution_count": null,
      "metadata": {
        "colab": {
          "base_uri": "https://localhost:8080/"
        },
        "id": "mANwezFtO-Zu",
        "outputId": "b9348ec1-4216-41d3-e5b6-d78f11beb4ae"
      },
      "outputs": [
        {
          "name": "stdout",
          "output_type": "stream",
          "text": [
            "Accuracy: 0.8015\n",
            "Precision: 0.4948\n",
            "Recall: 0.4835\n",
            "F1-Score: 0.4891\n",
            "\n",
            "Confusion Matrix:\n",
            "[[1413  194]\n",
            " [ 203  190]]\n"
          ]
        }
      ],
      "source": [
        "(X_train, y_train), (X_test, y_test) = generate_train_data(optimized_ds)\n",
        "\n",
        "model = sklearn.tree.DecisionTreeClassifier(random_state=42, class_weight=\"balanced\")\n",
        "model.fit(X_train, y_train)\n",
        "\n",
        "print_model_metrics(model, X_test, y_test)"
      ]
    },
    {
      "cell_type": "markdown",
      "metadata": {
        "id": "cU9mIH-DPGjJ"
      },
      "source": [
        "Как видим, значения метрики \"Accuracy\" и \"F1-Score\" улучшились! Гипотеза оказалась верной и дала положительные результаты, но не на столько эффективные, как в случае с линейными моделями и KNN алгоритмом."
      ]
    },
    {
      "cell_type": "markdown",
      "metadata": {
        "id": "9zKUWGf_TNd4"
      },
      "source": [
        "#### Подбор гиперпараметров"
      ]
    },
    {
      "cell_type": "markdown",
      "metadata": {
        "id": "ZrCyPth1T1Ad"
      },
      "source": [
        "Иногда значения гиперпараметров, установленные в модели по умолчанию, не всегда являются оптимальными для конкретного датасета.\n",
        "\n",
        "Поэтому, иногда имеет смысл подобрать более оптимальные значения гиперпараетров, которые будут больше подходить для текущего датасета.\n",
        "\n",
        "Попробуем подобрать такие значения гиперпараметров на основе алгоритма grid search."
      ]
    },
    {
      "cell_type": "code",
      "execution_count": null,
      "metadata": {
        "colab": {
          "base_uri": "https://localhost:8080/"
        },
        "id": "GE_CGe7nDeaE",
        "outputId": "0aef6378-5553-470b-a8ba-4c1c02be13c4"
      },
      "outputs": [
        {
          "name": "stdout",
          "output_type": "stream",
          "text": [
            "Fitting 5 folds for each of 288 candidates, totalling 1440 fits\n",
            "Best Parameters: {'criterion': 'entropy', 'max_depth': 10, 'max_features': None, 'min_samples_leaf': 10, 'min_samples_split': 2}\n",
            "Accuracy: 0.7685\n",
            "Precision: 0.4453\n",
            "Recall: 0.7252\n",
            "F1-Score: 0.5518\n",
            "\n",
            "Confusion Matrix:\n",
            "[[1252  355]\n",
            " [ 108  285]]\n"
          ]
        }
      ],
      "source": [
        "param_grid = {\n",
        "  \"criterion\": [\"gini\", \"entropy\"],\n",
        "  \"max_depth\": [3, 5, 10, None],\n",
        "  \"min_samples_split\": [2, 5, 10],\n",
        "  \"min_samples_leaf\": [1, 2, 5, 10],\n",
        "  \"max_features\": [None, \"sqrt\", \"log2\"]\n",
        "}\n",
        "\n",
        "(X_train, y_train), (X_test, y_test) = generate_train_data(optimized_ds)\n",
        "model = sklearn.tree.DecisionTreeClassifier(random_state=42, class_weight=\"balanced\")\n",
        "\n",
        "fold = sklearn.model_selection.KFold(n_splits=5, shuffle=True, random_state=42)\n",
        "grid_search = sklearn.model_selection.GridSearchCV(\n",
        "    estimator=model,\n",
        "    param_grid=param_grid,\n",
        "    cv=fold,\n",
        "    scoring=\"f1\",\n",
        "    verbose=1,\n",
        "    n_jobs=-1,\n",
        ")\n",
        "\n",
        "\n",
        "grid_search.fit(X_train, y_train)\n",
        "\n",
        "best_params = grid_search.best_params_\n",
        "best_model = grid_search.best_estimator_\n",
        "\n",
        "\n",
        "print(f\"Best Parameters: {best_params}\")\n",
        "print_model_metrics(best_model, X_test, y_test)\n"
      ]
    },
    {
      "cell_type": "markdown",
      "metadata": {
        "id": "Y35jmuN_jGit"
      },
      "source": [
        "Как видим, после подбора значений для гиперпараметров значения для метрик \"F1-Score\" и \"Accuracy\" улучшились, а следовательно гипотеза оказалась верной!"
      ]
    },
    {
      "cell_type": "markdown",
      "metadata": {
        "id": "9Zz4Q970jj4e"
      },
      "source": [
        "### 4. Имплементация алгоритма машинного обучения"
      ]
    },
    {
      "cell_type": "markdown",
      "metadata": {
        "id": "a_ctwgoTjlbd"
      },
      "source": [
        "Перейдем теперь к собственной имплементации алгоритма дерева решения для задачи классификации. Решение я реализовал в виде класса `MyDecisionTreeClassifier`, который имеет интерфейс, схожий с тем, что используется в библиотеке `sklearn`. присутствуют 2 метода: `fit` - для обучения модели, `predict` - для предсказания классов для уже обученной модели.\n",
        "\n",
        "Для того, чтобы убрать повторяющуюся логику, я реализовал базовый класс `DecisionTreeBase`, в котором находится вся функциональность, общая как для задачи классификации так и для задачи регрессии."
      ]
    },
    {
      "cell_type": "code",
      "execution_count": 25,
      "metadata": {
        "id": "_arhOtNv-QsM"
      },
      "outputs": [],
      "source": [
        "_PredictedClass = int\n",
        "\n",
        "\n",
        "@dataclass\n",
        "class _SplitInfo:\n",
        "  index: int\n",
        "  threshold: float\n",
        "\n",
        "\n",
        "@dataclass\n",
        "class _TreeNode:\n",
        "  split_info: _SplitInfo\n",
        "  left: Union[\"_TreeNode\", _PredictedClass]\n",
        "  right: Union[\"_TreeNode\", _PredictedClass]\n",
        "\n",
        "\n",
        "class DecisionTreeBase(abc.ABC):\n",
        "  def __init__(self, *, max_depth=float(\"inf\")):\n",
        "    self.__max_depth = max_depth\n",
        "    self.__tree = None\n",
        "    super().__init__()\n",
        "\n",
        "  @abc.abstractmethod\n",
        "  def _metric(self, X, y, split_info):\n",
        "    raise NotImplementedError\n",
        "\n",
        "  def __get_best_split(self, X, y):\n",
        "    _, m = X.shape\n",
        "    best_split = max(\n",
        "      (\n",
        "        _SplitInfo(index=feature_index, threshold=threshold)\n",
        "        for feature_index in range(m)\n",
        "        for threshold in self.__get_thresholds(X, feature_index)\n",
        "      ),\n",
        "      key=lambda split_info: self._metric(X, y, split_info),\n",
        "      default=None,\n",
        "    )\n",
        "\n",
        "    if self._metric(X, y, best_split) == -float(\"inf\"):\n",
        "      return None\n",
        "    return best_split\n",
        "\n",
        "  def __split_data(self, X, y, split_info):\n",
        "    x = X[:, split_info.index]\n",
        "    left_ids = x <= split_info.threshold\n",
        "    right_ids = x > split_info.threshold\n",
        "\n",
        "    return (X[left_ids], y[left_ids]), (X[right_ids], y[right_ids])\n",
        "\n",
        "  def __build_decision_tree(self, X, y, depth=0):\n",
        "    n, _ = X.shape\n",
        "    unique_classes = set(y)\n",
        "\n",
        "    if len(unique_classes) == 1 or n <= 1:\n",
        "      return unique_classes.pop()\n",
        "\n",
        "    if depth >= self.__max_depth:\n",
        "      return collections.Counter(y).most_common(1)[0][0]\n",
        "\n",
        "    best_split = self.__get_best_split(X, y)\n",
        "    if best_split is None:\n",
        "      raise ValueError()\n",
        "\n",
        "    left_part, right_part = self.__split_data(X, y, best_split)\n",
        "\n",
        "    return _TreeNode(\n",
        "      split_info=best_split,\n",
        "      left=self.__build_decision_tree(*left_part, depth + 1),\n",
        "      right=self.__build_decision_tree(*right_part, depth + 1),\n",
        "    )\n",
        "\n",
        "  def __get_thresholds(self, X, feature_id):\n",
        "    return np.unique(X[:, feature_id])\n",
        "\n",
        "  def __predict(self, x):\n",
        "    cursor = self.__tree\n",
        "\n",
        "    while isinstance(cursor, _TreeNode):\n",
        "      feature_value = x[cursor.split_info.index]\n",
        "      cursor = cursor.left if feature_value <= cursor.split_info.threshold else cursor.right\n",
        "\n",
        "    return cursor\n",
        "\n",
        "  def fit(self, X, y):\n",
        "    self.__tree = self.__build_decision_tree(X, y)\n",
        "\n",
        "  def predict(self, X):\n",
        "    return np.array(list(map(self.__predict, X)))"
      ]
    },
    {
      "cell_type": "code",
      "execution_count": 26,
      "metadata": {
        "id": "qzMwQ2b8jqFY"
      },
      "outputs": [],
      "source": [
        "class MyDecisionTreeClassifier(DecisionTreeBase):\n",
        "  def _metric(self, X, y, split_info):\n",
        "    feature_values = X[:, split_info.index]\n",
        "    left_indices = feature_values <= split_info.threshold\n",
        "    right_indices = feature_values > split_info.threshold\n",
        "\n",
        "    if np.sum(left_indices) == 0 or np.sum(right_indices) == 0:\n",
        "      return -float(\"inf\")\n",
        "\n",
        "    left_y = y[left_indices]\n",
        "    right_y = y[right_indices]\n",
        "\n",
        "    l = self.__get_entropy(left_y)\n",
        "    r = self.__get_entropy(right_y)\n",
        "\n",
        "    n = len(y)\n",
        "    return self.__get_entropy(y) - (len(left_y) / n * l + len(right_y) / n * r)\n",
        "\n",
        "  def __get_entropy(self, y):\n",
        "    class_counts = np.bincount(y)\n",
        "    probabilities = class_counts / len(y)\n",
        "    return -np.sum(probabilities * np.log2(probabilities + 1e-9))\n"
      ]
    },
    {
      "cell_type": "markdown",
      "metadata": {
        "id": "V6udSRMHkoXy"
      },
      "source": [
        "#### Сравнение с бейзлайном"
      ]
    },
    {
      "cell_type": "markdown",
      "metadata": {
        "id": "ct5MSL67kpnF"
      },
      "source": [
        "Обучим теперь реализованную модель на датасете, соответствущем бейзлайну. Из-за определенных ранее вспомогательных функций и схожего интерфейса класса модели основной алгоритм обучения не меняется."
      ]
    },
    {
      "cell_type": "code",
      "execution_count": null,
      "metadata": {
        "colab": {
          "base_uri": "https://localhost:8080/"
        },
        "id": "qsVraidgktbn",
        "outputId": "675e6225-8714-4bcd-9f82-2edc1c473813"
      },
      "outputs": [
        {
          "name": "stdout",
          "output_type": "stream",
          "text": [
            "Accuracy: 0.7950\n",
            "Precision: 0.4803\n",
            "Recall: 0.5267\n",
            "F1-Score: 0.5024\n",
            "\n",
            "Confusion Matrix:\n",
            "[[1383  224]\n",
            " [ 186  207]]\n"
          ]
        }
      ],
      "source": [
        "(X_train, y_train), (X_test, y_test) = generate_train_data(baseline_ds)\n",
        "\n",
        "model = MyDecisionTreeClassifier()\n",
        "model.fit(X_train, y_train)\n",
        "\n",
        "print_model_metrics(model, X_test, y_test)"
      ]
    },
    {
      "cell_type": "markdown",
      "metadata": {
        "id": "2_jajJq2k8r8"
      },
      "source": [
        "В сравнении с моделью из пункта 2 имплементированная модель показала более лучшие результаты: метрика \"F1-Score\" получила более высокие значения, что свидетельствует нам о том, что имплементированная модель лучше справляется с несбалансированными данными на бейзлайне."
      ]
    },
    {
      "cell_type": "code",
      "execution_count": null,
      "metadata": {
        "colab": {
          "base_uri": "https://localhost:8080/"
        },
        "id": "KHnCDhC6k3mq",
        "outputId": "66c55af9-387e-46c3-b5ff-5be6c0ff70db"
      },
      "outputs": [
        {
          "name": "stdout",
          "output_type": "stream",
          "text": [
            "Accuracy: 0.7945\n",
            "Precision: 0.4794\n",
            "Recall: 0.5318\n",
            "F1-Score: 0.5042\n",
            "\n",
            "Confusion Matrix:\n",
            "[[1380  227]\n",
            " [ 184  209]]\n"
          ]
        }
      ],
      "source": [
        "(X_train, y_train), (X_test, y_test) = generate_train_data(optimized_ds)\n",
        "\n",
        "model = MyDecisionTreeClassifier()\n",
        "model.fit(X_train, y_train)\n",
        "\n",
        "print_model_metrics(model, X_test, y_test)"
      ]
    },
    {
      "cell_type": "markdown",
      "metadata": {
        "id": "tsI0MsFRmLe3"
      },
      "source": [
        "## Регрессия"
      ]
    },
    {
      "cell_type": "markdown",
      "metadata": {
        "id": "OPnGFIw9mNbj"
      },
      "source": [
        "### 2. Создание бейзлайна и оценка качества"
      ]
    },
    {
      "cell_type": "markdown",
      "metadata": {
        "id": "uschaZsumO2I"
      },
      "source": [
        "#### Подготовка бейзлайна"
      ]
    },
    {
      "cell_type": "markdown",
      "metadata": {
        "id": "War9kgVVmQyo"
      },
      "source": [
        "Перед началом обучения модели сформируем бейзлайн, подобно тому, как это было выполнено в рамках лабораторной работы №1"
      ]
    },
    {
      "cell_type": "code",
      "execution_count": 28,
      "metadata": {
        "colab": {
          "base_uri": "https://localhost:8080/"
        },
        "id": "EPe6-PJBmTab",
        "outputId": "148cffc7-efb7-4cce-d8dd-d65adca4cc6a"
      },
      "outputs": [
        {
          "name": "stdout",
          "output_type": "stream",
          "text": [
            "Dataset URL: https://www.kaggle.com/datasets/denkuznetz/taxi-price-prediction\n",
            "License(s): apache-2.0\n",
            "Archive:  dataset/taxi-price-prediction.zip\n",
            "  inflating: dataset/taxi_trip_pricing.csv  \n"
          ]
        }
      ],
      "source": [
        "!kaggle datasets download -q -p dataset -d denkuznetz/taxi-price-prediction\n",
        "!unzip dataset/taxi-price-prediction.zip -d dataset/"
      ]
    },
    {
      "cell_type": "code",
      "execution_count": null,
      "metadata": {
        "colab": {
          "base_uri": "https://localhost:8080/",
          "height": 226
        },
        "id": "HElrQts9mVCz",
        "outputId": "398de2d5-2f58-40f9-b38a-d7b023c49d73"
      },
      "outputs": [
        {
          "data": {
            "application/vnd.google.colaboratory.intrinsic+json": {
              "summary": "{\n  \"name\": \"baseline_ds\",\n  \"rows\": 951,\n  \"fields\": [\n    {\n      \"column\": \"Trip_Distance_km\",\n      \"properties\": {\n        \"dtype\": \"number\",\n        \"std\": 19.61978451961453,\n        \"min\": 1.23,\n        \"max\": 146.0670471598387,\n        \"num_unique_values\": 827,\n        \"samples\": [\n          130.80900130744172,\n          38.42,\n          39.96\n        ],\n        \"semantic_type\": \"\",\n        \"description\": \"\"\n      }\n    },\n    {\n      \"column\": \"Passenger_Count\",\n      \"properties\": {\n        \"dtype\": \"number\",\n        \"std\": 1.077936959142477,\n        \"min\": 1.0,\n        \"max\": 4.0,\n        \"num_unique_values\": 4,\n        \"samples\": [\n          1.0,\n          2.0,\n          3.0\n        ],\n        \"semantic_type\": \"\",\n        \"description\": \"\"\n      }\n    },\n    {\n      \"column\": \"Base_Fare\",\n      \"properties\": {\n        \"dtype\": \"number\",\n        \"std\": 0.8464238435493024,\n        \"min\": 2.01,\n        \"max\": 5.0,\n        \"num_unique_values\": 286,\n        \"samples\": [\n          4.6,\n          2.37,\n          3.61\n        ],\n        \"semantic_type\": \"\",\n        \"description\": \"\"\n      }\n    },\n    {\n      \"column\": \"Per_Km_Rate\",\n      \"properties\": {\n        \"dtype\": \"number\",\n        \"std\": 0.4198881268533853,\n        \"min\": 0.5,\n        \"max\": 2.0,\n        \"num_unique_values\": 150,\n        \"samples\": [\n          1.65,\n          1.69,\n          0.5\n        ],\n        \"semantic_type\": \"\",\n        \"description\": \"\"\n      }\n    },\n    {\n      \"column\": \"Per_Minute_Rate\",\n      \"properties\": {\n        \"dtype\": \"number\",\n        \"std\": 0.11239203562447667,\n        \"min\": 0.1,\n        \"max\": 0.5,\n        \"num_unique_values\": 41,\n        \"samples\": [\n          0.26,\n          0.25,\n          0.34\n        ],\n        \"semantic_type\": \"\",\n        \"description\": \"\"\n      }\n    },\n    {\n      \"column\": \"Trip_Duration_Minutes\",\n      \"properties\": {\n        \"dtype\": \"number\",\n        \"std\": 31.529511153660437,\n        \"min\": 5.01,\n        \"max\": 119.84,\n        \"num_unique_values\": 873,\n        \"samples\": [\n          82.16,\n          76.53,\n          81.77\n        ],\n        \"semantic_type\": \"\",\n        \"description\": \"\"\n      }\n    },\n    {\n      \"column\": \"Trip_Price\",\n      \"properties\": {\n        \"dtype\": \"number\",\n        \"std\": 40.46979055020966,\n        \"min\": 6.1269,\n        \"max\": 332.0436886774302,\n        \"num_unique_values\": 951,\n        \"samples\": [\n          31.3844,\n          97.4848,\n          19.1069\n        ],\n        \"semantic_type\": \"\",\n        \"description\": \"\"\n      }\n    },\n    {\n      \"column\": \"Time_of_Day_Afternoon\",\n      \"properties\": {\n        \"dtype\": \"number\",\n        \"std\": 0,\n        \"min\": 0,\n        \"max\": 1,\n        \"num_unique_values\": 2,\n        \"samples\": [\n          1,\n          0\n        ],\n        \"semantic_type\": \"\",\n        \"description\": \"\"\n      }\n    },\n    {\n      \"column\": \"Time_of_Day_Evening\",\n      \"properties\": {\n        \"dtype\": \"number\",\n        \"std\": 0,\n        \"min\": 0,\n        \"max\": 1,\n        \"num_unique_values\": 2,\n        \"samples\": [\n          1,\n          0\n        ],\n        \"semantic_type\": \"\",\n        \"description\": \"\"\n      }\n    },\n    {\n      \"column\": \"Time_of_Day_Morning\",\n      \"properties\": {\n        \"dtype\": \"number\",\n        \"std\": 0,\n        \"min\": 0,\n        \"max\": 1,\n        \"num_unique_values\": 2,\n        \"samples\": [\n          0,\n          1\n        ],\n        \"semantic_type\": \"\",\n        \"description\": \"\"\n      }\n    },\n    {\n      \"column\": \"Time_of_Day_Night\",\n      \"properties\": {\n        \"dtype\": \"number\",\n        \"std\": 0,\n        \"min\": 0,\n        \"max\": 1,\n        \"num_unique_values\": 2,\n        \"samples\": [\n          1,\n          0\n        ],\n        \"semantic_type\": \"\",\n        \"description\": \"\"\n      }\n    },\n    {\n      \"column\": \"Day_of_Week_Weekday\",\n      \"properties\": {\n        \"dtype\": \"number\",\n        \"std\": 0,\n        \"min\": 0,\n        \"max\": 1,\n        \"num_unique_values\": 2,\n        \"samples\": [\n          0,\n          1\n        ],\n        \"semantic_type\": \"\",\n        \"description\": \"\"\n      }\n    },\n    {\n      \"column\": \"Day_of_Week_Weekend\",\n      \"properties\": {\n        \"dtype\": \"number\",\n        \"std\": 0,\n        \"min\": 0,\n        \"max\": 1,\n        \"num_unique_values\": 2,\n        \"samples\": [\n          1,\n          0\n        ],\n        \"semantic_type\": \"\",\n        \"description\": \"\"\n      }\n    },\n    {\n      \"column\": \"Traffic_Conditions_High\",\n      \"properties\": {\n        \"dtype\": \"number\",\n        \"std\": 0,\n        \"min\": 0,\n        \"max\": 1,\n        \"num_unique_values\": 2,\n        \"samples\": [\n          1,\n          0\n        ],\n        \"semantic_type\": \"\",\n        \"description\": \"\"\n      }\n    },\n    {\n      \"column\": \"Traffic_Conditions_Low\",\n      \"properties\": {\n        \"dtype\": \"number\",\n        \"std\": 0,\n        \"min\": 0,\n        \"max\": 1,\n        \"num_unique_values\": 2,\n        \"samples\": [\n          0,\n          1\n        ],\n        \"semantic_type\": \"\",\n        \"description\": \"\"\n      }\n    },\n    {\n      \"column\": \"Traffic_Conditions_Medium\",\n      \"properties\": {\n        \"dtype\": \"number\",\n        \"std\": 0,\n        \"min\": 0,\n        \"max\": 1,\n        \"num_unique_values\": 2,\n        \"samples\": [\n          1,\n          0\n        ],\n        \"semantic_type\": \"\",\n        \"description\": \"\"\n      }\n    },\n    {\n      \"column\": \"Weather_Clear\",\n      \"properties\": {\n        \"dtype\": \"number\",\n        \"std\": 0,\n        \"min\": 0,\n        \"max\": 1,\n        \"num_unique_values\": 2,\n        \"samples\": [\n          0,\n          1\n        ],\n        \"semantic_type\": \"\",\n        \"description\": \"\"\n      }\n    },\n    {\n      \"column\": \"Weather_Rain\",\n      \"properties\": {\n        \"dtype\": \"number\",\n        \"std\": 0,\n        \"min\": 0,\n        \"max\": 1,\n        \"num_unique_values\": 2,\n        \"samples\": [\n          1,\n          0\n        ],\n        \"semantic_type\": \"\",\n        \"description\": \"\"\n      }\n    },\n    {\n      \"column\": \"Weather_Snow\",\n      \"properties\": {\n        \"dtype\": \"number\",\n        \"std\": 0,\n        \"min\": 0,\n        \"max\": 1,\n        \"num_unique_values\": 2,\n        \"samples\": [\n          1,\n          0\n        ],\n        \"semantic_type\": \"\",\n        \"description\": \"\"\n      }\n    }\n  ]\n}",
              "type": "dataframe",
              "variable_name": "baseline_ds"
            },
            "text/html": [
              "\n",
              "  <div id=\"df-384093c8-557b-4f35-bbf3-aeb336049d79\" class=\"colab-df-container\">\n",
              "    <div>\n",
              "<style scoped>\n",
              "    .dataframe tbody tr th:only-of-type {\n",
              "        vertical-align: middle;\n",
              "    }\n",
              "\n",
              "    .dataframe tbody tr th {\n",
              "        vertical-align: top;\n",
              "    }\n",
              "\n",
              "    .dataframe thead th {\n",
              "        text-align: right;\n",
              "    }\n",
              "</style>\n",
              "<table border=\"1\" class=\"dataframe\">\n",
              "  <thead>\n",
              "    <tr style=\"text-align: right;\">\n",
              "      <th></th>\n",
              "      <th>Trip_Distance_km</th>\n",
              "      <th>Passenger_Count</th>\n",
              "      <th>Base_Fare</th>\n",
              "      <th>Per_Km_Rate</th>\n",
              "      <th>Per_Minute_Rate</th>\n",
              "      <th>Trip_Duration_Minutes</th>\n",
              "      <th>Trip_Price</th>\n",
              "      <th>Time_of_Day_Afternoon</th>\n",
              "      <th>Time_of_Day_Evening</th>\n",
              "      <th>Time_of_Day_Morning</th>\n",
              "      <th>Time_of_Day_Night</th>\n",
              "      <th>Day_of_Week_Weekday</th>\n",
              "      <th>Day_of_Week_Weekend</th>\n",
              "      <th>Traffic_Conditions_High</th>\n",
              "      <th>Traffic_Conditions_Low</th>\n",
              "      <th>Traffic_Conditions_Medium</th>\n",
              "      <th>Weather_Clear</th>\n",
              "      <th>Weather_Rain</th>\n",
              "      <th>Weather_Snow</th>\n",
              "    </tr>\n",
              "  </thead>\n",
              "  <tbody>\n",
              "    <tr>\n",
              "      <th>0</th>\n",
              "      <td>19.35</td>\n",
              "      <td>3.0</td>\n",
              "      <td>3.56</td>\n",
              "      <td>0.80</td>\n",
              "      <td>0.32</td>\n",
              "      <td>53.82</td>\n",
              "      <td>36.2624</td>\n",
              "      <td>0</td>\n",
              "      <td>0</td>\n",
              "      <td>1</td>\n",
              "      <td>0</td>\n",
              "      <td>1</td>\n",
              "      <td>0</td>\n",
              "      <td>0</td>\n",
              "      <td>1</td>\n",
              "      <td>0</td>\n",
              "      <td>1</td>\n",
              "      <td>0</td>\n",
              "      <td>0</td>\n",
              "    </tr>\n",
              "    <tr>\n",
              "      <th>2</th>\n",
              "      <td>36.87</td>\n",
              "      <td>1.0</td>\n",
              "      <td>2.70</td>\n",
              "      <td>1.21</td>\n",
              "      <td>0.15</td>\n",
              "      <td>37.27</td>\n",
              "      <td>52.9032</td>\n",
              "      <td>0</td>\n",
              "      <td>1</td>\n",
              "      <td>0</td>\n",
              "      <td>0</td>\n",
              "      <td>0</td>\n",
              "      <td>1</td>\n",
              "      <td>1</td>\n",
              "      <td>0</td>\n",
              "      <td>0</td>\n",
              "      <td>1</td>\n",
              "      <td>0</td>\n",
              "      <td>0</td>\n",
              "    </tr>\n",
              "    <tr>\n",
              "      <th>3</th>\n",
              "      <td>30.33</td>\n",
              "      <td>4.0</td>\n",
              "      <td>3.48</td>\n",
              "      <td>0.51</td>\n",
              "      <td>0.15</td>\n",
              "      <td>116.81</td>\n",
              "      <td>36.4698</td>\n",
              "      <td>0</td>\n",
              "      <td>1</td>\n",
              "      <td>0</td>\n",
              "      <td>0</td>\n",
              "      <td>1</td>\n",
              "      <td>0</td>\n",
              "      <td>0</td>\n",
              "      <td>1</td>\n",
              "      <td>0</td>\n",
              "      <td>0</td>\n",
              "      <td>0</td>\n",
              "      <td>0</td>\n",
              "    </tr>\n",
              "    <tr>\n",
              "      <th>4</th>\n",
              "      <td>25.87</td>\n",
              "      <td>3.0</td>\n",
              "      <td>2.93</td>\n",
              "      <td>0.63</td>\n",
              "      <td>0.32</td>\n",
              "      <td>22.64</td>\n",
              "      <td>15.6180</td>\n",
              "      <td>0</td>\n",
              "      <td>1</td>\n",
              "      <td>0</td>\n",
              "      <td>0</td>\n",
              "      <td>1</td>\n",
              "      <td>0</td>\n",
              "      <td>1</td>\n",
              "      <td>0</td>\n",
              "      <td>0</td>\n",
              "      <td>1</td>\n",
              "      <td>0</td>\n",
              "      <td>0</td>\n",
              "    </tr>\n",
              "    <tr>\n",
              "      <th>5</th>\n",
              "      <td>8.64</td>\n",
              "      <td>2.0</td>\n",
              "      <td>2.55</td>\n",
              "      <td>1.71</td>\n",
              "      <td>0.48</td>\n",
              "      <td>89.33</td>\n",
              "      <td>60.2028</td>\n",
              "      <td>1</td>\n",
              "      <td>0</td>\n",
              "      <td>0</td>\n",
              "      <td>0</td>\n",
              "      <td>0</td>\n",
              "      <td>1</td>\n",
              "      <td>0</td>\n",
              "      <td>0</td>\n",
              "      <td>1</td>\n",
              "      <td>1</td>\n",
              "      <td>0</td>\n",
              "      <td>0</td>\n",
              "    </tr>\n",
              "  </tbody>\n",
              "</table>\n",
              "</div>\n",
              "    <div class=\"colab-df-buttons\">\n",
              "\n",
              "  <div class=\"colab-df-container\">\n",
              "    <button class=\"colab-df-convert\" onclick=\"convertToInteractive('df-384093c8-557b-4f35-bbf3-aeb336049d79')\"\n",
              "            title=\"Convert this dataframe to an interactive table.\"\n",
              "            style=\"display:none;\">\n",
              "\n",
              "  <svg xmlns=\"http://www.w3.org/2000/svg\" height=\"24px\" viewBox=\"0 -960 960 960\">\n",
              "    <path d=\"M120-120v-720h720v720H120Zm60-500h600v-160H180v160Zm220 220h160v-160H400v160Zm0 220h160v-160H400v160ZM180-400h160v-160H180v160Zm440 0h160v-160H620v160ZM180-180h160v-160H180v160Zm440 0h160v-160H620v160Z\"/>\n",
              "  </svg>\n",
              "    </button>\n",
              "\n",
              "  <style>\n",
              "    .colab-df-container {\n",
              "      display:flex;\n",
              "      gap: 12px;\n",
              "    }\n",
              "\n",
              "    .colab-df-convert {\n",
              "      background-color: #E8F0FE;\n",
              "      border: none;\n",
              "      border-radius: 50%;\n",
              "      cursor: pointer;\n",
              "      display: none;\n",
              "      fill: #1967D2;\n",
              "      height: 32px;\n",
              "      padding: 0 0 0 0;\n",
              "      width: 32px;\n",
              "    }\n",
              "\n",
              "    .colab-df-convert:hover {\n",
              "      background-color: #E2EBFA;\n",
              "      box-shadow: 0px 1px 2px rgba(60, 64, 67, 0.3), 0px 1px 3px 1px rgba(60, 64, 67, 0.15);\n",
              "      fill: #174EA6;\n",
              "    }\n",
              "\n",
              "    .colab-df-buttons div {\n",
              "      margin-bottom: 4px;\n",
              "    }\n",
              "\n",
              "    [theme=dark] .colab-df-convert {\n",
              "      background-color: #3B4455;\n",
              "      fill: #D2E3FC;\n",
              "    }\n",
              "\n",
              "    [theme=dark] .colab-df-convert:hover {\n",
              "      background-color: #434B5C;\n",
              "      box-shadow: 0px 1px 3px 1px rgba(0, 0, 0, 0.15);\n",
              "      filter: drop-shadow(0px 1px 2px rgba(0, 0, 0, 0.3));\n",
              "      fill: #FFFFFF;\n",
              "    }\n",
              "  </style>\n",
              "\n",
              "    <script>\n",
              "      const buttonEl =\n",
              "        document.querySelector('#df-384093c8-557b-4f35-bbf3-aeb336049d79 button.colab-df-convert');\n",
              "      buttonEl.style.display =\n",
              "        google.colab.kernel.accessAllowed ? 'block' : 'none';\n",
              "\n",
              "      async function convertToInteractive(key) {\n",
              "        const element = document.querySelector('#df-384093c8-557b-4f35-bbf3-aeb336049d79');\n",
              "        const dataTable =\n",
              "          await google.colab.kernel.invokeFunction('convertToInteractive',\n",
              "                                                    [key], {});\n",
              "        if (!dataTable) return;\n",
              "\n",
              "        const docLinkHtml = 'Like what you see? Visit the ' +\n",
              "          '<a target=\"_blank\" href=https://colab.research.google.com/notebooks/data_table.ipynb>data table notebook</a>'\n",
              "          + ' to learn more about interactive tables.';\n",
              "        element.innerHTML = '';\n",
              "        dataTable['output_type'] = 'display_data';\n",
              "        await google.colab.output.renderOutput(dataTable, element);\n",
              "        const docLink = document.createElement('div');\n",
              "        docLink.innerHTML = docLinkHtml;\n",
              "        element.appendChild(docLink);\n",
              "      }\n",
              "    </script>\n",
              "  </div>\n",
              "\n",
              "\n",
              "<div id=\"df-0077829a-28d9-4a1d-8a3c-33edf89baad0\">\n",
              "  <button class=\"colab-df-quickchart\" onclick=\"quickchart('df-0077829a-28d9-4a1d-8a3c-33edf89baad0')\"\n",
              "            title=\"Suggest charts\"\n",
              "            style=\"display:none;\">\n",
              "\n",
              "<svg xmlns=\"http://www.w3.org/2000/svg\" height=\"24px\"viewBox=\"0 0 24 24\"\n",
              "     width=\"24px\">\n",
              "    <g>\n",
              "        <path d=\"M19 3H5c-1.1 0-2 .9-2 2v14c0 1.1.9 2 2 2h14c1.1 0 2-.9 2-2V5c0-1.1-.9-2-2-2zM9 17H7v-7h2v7zm4 0h-2V7h2v10zm4 0h-2v-4h2v4z\"/>\n",
              "    </g>\n",
              "</svg>\n",
              "  </button>\n",
              "\n",
              "<style>\n",
              "  .colab-df-quickchart {\n",
              "      --bg-color: #E8F0FE;\n",
              "      --fill-color: #1967D2;\n",
              "      --hover-bg-color: #E2EBFA;\n",
              "      --hover-fill-color: #174EA6;\n",
              "      --disabled-fill-color: #AAA;\n",
              "      --disabled-bg-color: #DDD;\n",
              "  }\n",
              "\n",
              "  [theme=dark] .colab-df-quickchart {\n",
              "      --bg-color: #3B4455;\n",
              "      --fill-color: #D2E3FC;\n",
              "      --hover-bg-color: #434B5C;\n",
              "      --hover-fill-color: #FFFFFF;\n",
              "      --disabled-bg-color: #3B4455;\n",
              "      --disabled-fill-color: #666;\n",
              "  }\n",
              "\n",
              "  .colab-df-quickchart {\n",
              "    background-color: var(--bg-color);\n",
              "    border: none;\n",
              "    border-radius: 50%;\n",
              "    cursor: pointer;\n",
              "    display: none;\n",
              "    fill: var(--fill-color);\n",
              "    height: 32px;\n",
              "    padding: 0;\n",
              "    width: 32px;\n",
              "  }\n",
              "\n",
              "  .colab-df-quickchart:hover {\n",
              "    background-color: var(--hover-bg-color);\n",
              "    box-shadow: 0 1px 2px rgba(60, 64, 67, 0.3), 0 1px 3px 1px rgba(60, 64, 67, 0.15);\n",
              "    fill: var(--button-hover-fill-color);\n",
              "  }\n",
              "\n",
              "  .colab-df-quickchart-complete:disabled,\n",
              "  .colab-df-quickchart-complete:disabled:hover {\n",
              "    background-color: var(--disabled-bg-color);\n",
              "    fill: var(--disabled-fill-color);\n",
              "    box-shadow: none;\n",
              "  }\n",
              "\n",
              "  .colab-df-spinner {\n",
              "    border: 2px solid var(--fill-color);\n",
              "    border-color: transparent;\n",
              "    border-bottom-color: var(--fill-color);\n",
              "    animation:\n",
              "      spin 1s steps(1) infinite;\n",
              "  }\n",
              "\n",
              "  @keyframes spin {\n",
              "    0% {\n",
              "      border-color: transparent;\n",
              "      border-bottom-color: var(--fill-color);\n",
              "      border-left-color: var(--fill-color);\n",
              "    }\n",
              "    20% {\n",
              "      border-color: transparent;\n",
              "      border-left-color: var(--fill-color);\n",
              "      border-top-color: var(--fill-color);\n",
              "    }\n",
              "    30% {\n",
              "      border-color: transparent;\n",
              "      border-left-color: var(--fill-color);\n",
              "      border-top-color: var(--fill-color);\n",
              "      border-right-color: var(--fill-color);\n",
              "    }\n",
              "    40% {\n",
              "      border-color: transparent;\n",
              "      border-right-color: var(--fill-color);\n",
              "      border-top-color: var(--fill-color);\n",
              "    }\n",
              "    60% {\n",
              "      border-color: transparent;\n",
              "      border-right-color: var(--fill-color);\n",
              "    }\n",
              "    80% {\n",
              "      border-color: transparent;\n",
              "      border-right-color: var(--fill-color);\n",
              "      border-bottom-color: var(--fill-color);\n",
              "    }\n",
              "    90% {\n",
              "      border-color: transparent;\n",
              "      border-bottom-color: var(--fill-color);\n",
              "    }\n",
              "  }\n",
              "</style>\n",
              "\n",
              "  <script>\n",
              "    async function quickchart(key) {\n",
              "      const quickchartButtonEl =\n",
              "        document.querySelector('#' + key + ' button');\n",
              "      quickchartButtonEl.disabled = true;  // To prevent multiple clicks.\n",
              "      quickchartButtonEl.classList.add('colab-df-spinner');\n",
              "      try {\n",
              "        const charts = await google.colab.kernel.invokeFunction(\n",
              "            'suggestCharts', [key], {});\n",
              "      } catch (error) {\n",
              "        console.error('Error during call to suggestCharts:', error);\n",
              "      }\n",
              "      quickchartButtonEl.classList.remove('colab-df-spinner');\n",
              "      quickchartButtonEl.classList.add('colab-df-quickchart-complete');\n",
              "    }\n",
              "    (() => {\n",
              "      let quickchartButtonEl =\n",
              "        document.querySelector('#df-0077829a-28d9-4a1d-8a3c-33edf89baad0 button');\n",
              "      quickchartButtonEl.style.display =\n",
              "        google.colab.kernel.accessAllowed ? 'block' : 'none';\n",
              "    })();\n",
              "  </script>\n",
              "</div>\n",
              "    </div>\n",
              "  </div>\n"
            ],
            "text/plain": [
              "   Trip_Distance_km  Passenger_Count  Base_Fare  Per_Km_Rate  Per_Minute_Rate  \\\n",
              "0             19.35              3.0       3.56         0.80             0.32   \n",
              "2             36.87              1.0       2.70         1.21             0.15   \n",
              "3             30.33              4.0       3.48         0.51             0.15   \n",
              "4             25.87              3.0       2.93         0.63             0.32   \n",
              "5              8.64              2.0       2.55         1.71             0.48   \n",
              "\n",
              "   Trip_Duration_Minutes  Trip_Price  Time_of_Day_Afternoon  \\\n",
              "0                  53.82     36.2624                      0   \n",
              "2                  37.27     52.9032                      0   \n",
              "3                 116.81     36.4698                      0   \n",
              "4                  22.64     15.6180                      0   \n",
              "5                  89.33     60.2028                      1   \n",
              "\n",
              "   Time_of_Day_Evening  Time_of_Day_Morning  Time_of_Day_Night  \\\n",
              "0                    0                    1                  0   \n",
              "2                    1                    0                  0   \n",
              "3                    1                    0                  0   \n",
              "4                    1                    0                  0   \n",
              "5                    0                    0                  0   \n",
              "\n",
              "   Day_of_Week_Weekday  Day_of_Week_Weekend  Traffic_Conditions_High  \\\n",
              "0                    1                    0                        0   \n",
              "2                    0                    1                        1   \n",
              "3                    1                    0                        0   \n",
              "4                    1                    0                        1   \n",
              "5                    0                    1                        0   \n",
              "\n",
              "   Traffic_Conditions_Low  Traffic_Conditions_Medium  Weather_Clear  \\\n",
              "0                       1                          0              1   \n",
              "2                       0                          0              1   \n",
              "3                       1                          0              0   \n",
              "4                       0                          0              1   \n",
              "5                       0                          1              1   \n",
              "\n",
              "   Weather_Rain  Weather_Snow  \n",
              "0             0             0  \n",
              "2             0             0  \n",
              "3             0             0  \n",
              "4             0             0  \n",
              "5             0             0  "
            ]
          },
          "execution_count": 37,
          "metadata": {},
          "output_type": "execute_result"
        }
      ],
      "source": [
        "ds = pd.read_csv(\"/content/dataset/taxi_trip_pricing.csv\")\n",
        "baseline_ds = ds.dropna(subset=[\"Trip_Price\"])\n",
        "\n",
        "numeric_features = [\n",
        "  \"Trip_Distance_km\",\n",
        "  \"Passenger_Count\",\n",
        "  \"Base_Fare\",\n",
        "  \"Per_Km_Rate\",\n",
        "  \"Per_Minute_Rate\",\n",
        "  \"Trip_Duration_Minutes\",\n",
        "]\n",
        "baseline_ds[numeric_features] = baseline_ds[numeric_features].apply(lambda col: col.fillna(col.median()))\n",
        "\n",
        "categorical_features = [\n",
        "  \"Time_of_Day\",\n",
        "  \"Day_of_Week\",\n",
        "  \"Traffic_Conditions\",\n",
        "  \"Weather\",\n",
        "]\n",
        "\n",
        "for feature in categorical_features:\n",
        "  encoded_feature = pd.get_dummies(baseline_ds[feature], prefix=feature, dtype=int)\n",
        "  baseline_ds[encoded_feature.columns] = encoded_feature\n",
        "  baseline_ds = baseline_ds.drop(columns=[feature])\n",
        "\n",
        "baseline_ds.head()"
      ]
    },
    {
      "cell_type": "markdown",
      "metadata": {
        "id": "YIBWrhZymYAF"
      },
      "source": [
        "#### Обучение модели"
      ]
    },
    {
      "cell_type": "markdown",
      "metadata": {
        "id": "yutb7F6Dme66"
      },
      "source": [
        "Перейдем теперь к этапу обучения модели. По аналогии с лабораторной работой №1, для этого создадим вспомогательные функции:\n",
        "\n",
        "- `generate_train_data` - отвечает за то, чтобы сгенерировать набор данных для тестирования и обучения на основе переданного датасета\n",
        "\n",
        "- `get_model_metrics` - отвечает за рассчет показаний метрик для уже обученной модели на основе тестовых данных\n",
        "\n",
        "- `print_model_metrics` - отвечает за отформатированный вывод показаний метрик"
      ]
    },
    {
      "cell_type": "code",
      "execution_count": 30,
      "metadata": {
        "id": "_6ZSpm80mtKs"
      },
      "outputs": [],
      "source": [
        "def generate_train_data(dataset, *, target_feature=\"Trip_Price\", test_size=0.2, random_state=42):\n",
        "  X = dataset.drop(columns=[target_feature])\n",
        "  y = dataset[target_feature]\n",
        "  X_train, X_test, y_train, y_test = map(\n",
        "    np.array,\n",
        "    sklearn.model_selection.train_test_split(\n",
        "      X, y,\n",
        "      test_size=test_size,\n",
        "      random_state=random_state,\n",
        "    ),\n",
        "  )\n",
        "\n",
        "  return (X_train, y_train), (X_test, y_test)\n",
        "\n",
        "\n",
        "def get_model_metrics(model, X_test, y_test):\n",
        "  y_pred = model.predict(X_test)\n",
        "\n",
        "  mae = sklearn.metrics.mean_absolute_error(y_test, y_pred)\n",
        "  r2 = sklearn.metrics.r2_score(y_test, y_pred)\n",
        "\n",
        "  return { \"mae\": mae, \"r2\": r2 }\n",
        "\n",
        "\n",
        "def print_model_metrics(model, X_test, y_test):\n",
        "  results = get_model_metrics(model, X_test, y_test)\n",
        "\n",
        "  print(f\"Mean Absolute Error (MAE): {results['mae']:.4f}\")\n",
        "  print(f\"R-squared (R2): {results['r2']:.4f}\")"
      ]
    },
    {
      "cell_type": "markdown",
      "metadata": {
        "id": "XRLVGEHamvA0"
      },
      "source": [
        "Обучим теперь модель решающего дерева для решения задачи регрессии на бейзлайн-датасете, который мы ранее определили и выведем на экран показатели метрик для итоговой обученной модели."
      ]
    },
    {
      "cell_type": "code",
      "execution_count": null,
      "metadata": {
        "colab": {
          "base_uri": "https://localhost:8080/"
        },
        "id": "MJ4OJ-AAmzrn",
        "outputId": "64330e4e-25fe-41c9-9d25-f67d94a5087f"
      },
      "outputs": [
        {
          "name": "stdout",
          "output_type": "stream",
          "text": [
            "Mean Absolute Error (MAE): 10.5485\n",
            "R-squared (R2): 0.8504\n"
          ]
        }
      ],
      "source": [
        "(X_train, y_train), (X_test, y_test) = generate_train_data(baseline_ds)\n",
        "\n",
        "model = sklearn.tree.DecisionTreeRegressor(random_state=42)\n",
        "model.fit(X_train, y_train)\n",
        "\n",
        "print_model_metrics(model, X_test, y_test)"
      ]
    },
    {
      "cell_type": "markdown",
      "metadata": {
        "id": "_SvrtIZpnVnS"
      },
      "source": [
        "На основе полученных данных можно сделать следующие выводы о качестве обученной модели.\n",
        "\n",
        "Во-первых, высокое значение метрики \"R2\" свидетельствует о том, что модель хорошо обучена и способна учитывать основные факторы, влияющие на цену поездки.\n",
        "\n",
        "Однако, ошибка в предсказываемой цене поездки, описываемая метрикой `MAE` может значительно сказаться для поездок с маленькой стоимостью.\n",
        "\n",
        "Итого, дальнейшее улучшение бейзлайна предлагается делать с упором на уменьшение значений метрики `MAE`."
      ]
    },
    {
      "cell_type": "markdown",
      "metadata": {
        "id": "C0rrjor-oNtS"
      },
      "source": [
        "### 3. Улучшение бейзлайна"
      ]
    },
    {
      "cell_type": "markdown",
      "metadata": {
        "id": "Ah6rgfN1oU9O"
      },
      "source": [
        "#### Избавление от выбросов"
      ]
    },
    {
      "cell_type": "markdown",
      "metadata": {
        "id": "dNg-bchroVbl"
      },
      "source": [
        "При решении лабораторной работы №2 значительный прирост в итоговом качестве модели оказало избавление от выбросов среди значений признаков.\n",
        "\n",
        "Попробуем применить эту же гипотезу к дереву решений. При решении лабораторной работы №2 среди таких признаков был взят признак `Trip_Distance_km`, описывающий длину поездки, выраженную в километрах.\n",
        "\n",
        "Рассмотрим этот же признак и уберем из его значений выбросы."
      ]
    },
    {
      "cell_type": "code",
      "execution_count": null,
      "metadata": {
        "colab": {
          "base_uri": "https://localhost:8080/",
          "height": 437
        },
        "id": "rXJdFkmCo98w",
        "outputId": "01692932-2df2-4f3a-8c79-f669295e5f73"
      },
      "outputs": [
        {
          "data": {
            "image/png": "[encoded data removed]",
            "text/plain": [
              "<Figure size 2000x600 with 3 Axes>"
            ]
          },
          "metadata": {},
          "output_type": "display_data"
        }
      ],
      "source": [
        "fig, axes = plt.subplots(1, 3, figsize=(20, 6), constrained_layout=True)\n",
        "\n",
        "sns.scatterplot(\n",
        "  x=\"Trip_Distance_km\",\n",
        "  y=\"Trip_Price\",\n",
        "  data=baseline_ds,\n",
        "  ax=axes[0]\n",
        ")\n",
        "axes[0].set_title(\"Trip Distance vs Trip Price\")\n",
        "axes[0].set_xlabel(\"Trip Distance (km)\")\n",
        "axes[0].set_ylabel(\"Trip Price\")\n",
        "axes[0].grid(True)\n",
        "\n",
        "axes[1].hist(baseline_ds[\"Trip_Distance_km\"], bins=30, color=\"skyblue\", edgecolor=\"black\")\n",
        "axes[1].set_title(\"Распределение Trip Distance\")\n",
        "axes[1].set_xlabel(\"Trip Distance (km)\")\n",
        "axes[1].set_ylabel(\"Frequency\")\n",
        "\n",
        "sns.boxplot(\n",
        "  y=\"Trip_Distance_km\",\n",
        "  data=baseline_ds,\n",
        "  ax=axes[2]\n",
        ")\n",
        "axes[2].set_title(\"Boxplot of Trip Distance\")\n",
        "axes[2].set_ylabel(\"Trip Distance (km)\")\n",
        "\n",
        "plt.show()"
      ]
    },
    {
      "cell_type": "code",
      "execution_count": null,
      "metadata": {
        "colab": {
          "base_uri": "https://localhost:8080/",
          "height": 226
        },
        "id": "cL679tSapHnZ",
        "outputId": "50e7bba5-1e86-43b8-d344-fff06d6f5ed2"
      },
      "outputs": [
        {
          "data": {
            "application/vnd.google.colaboratory.intrinsic+json": {
              "summary": "{\n  \"name\": \"optimized_ds\",\n  \"rows\": 931,\n  \"fields\": [\n    {\n      \"column\": \"Trip_Distance_km\",\n      \"properties\": {\n        \"dtype\": \"number\",\n        \"std\": 13.99210157541233,\n        \"min\": 1.23,\n        \"max\": 49.99,\n        \"num_unique_values\": 807,\n        \"samples\": [\n          24.13,\n          47.07,\n          45.75\n        ],\n        \"semantic_type\": \"\",\n        \"description\": \"\"\n      }\n    },\n    {\n      \"column\": \"Passenger_Count\",\n      \"properties\": {\n        \"dtype\": \"number\",\n        \"std\": 1.0774045753843673,\n        \"min\": 1.0,\n        \"max\": 4.0,\n        \"num_unique_values\": 4,\n        \"samples\": [\n          1.0,\n          2.0,\n          3.0\n        ],\n        \"semantic_type\": \"\",\n        \"description\": \"\"\n      }\n    },\n    {\n      \"column\": \"Base_Fare\",\n      \"properties\": {\n        \"dtype\": \"number\",\n        \"std\": 0.8451717160130983,\n        \"min\": 2.01,\n        \"max\": 5.0,\n        \"num_unique_values\": 285,\n        \"samples\": [\n          4.6,\n          2.01,\n          3.96\n        ],\n        \"semantic_type\": \"\",\n        \"description\": \"\"\n      }\n    },\n    {\n      \"column\": \"Per_Km_Rate\",\n      \"properties\": {\n        \"dtype\": \"number\",\n        \"std\": 0.4195699329766735,\n        \"min\": 0.5,\n        \"max\": 2.0,\n        \"num_unique_values\": 150,\n        \"samples\": [\n          0.65,\n          0.78,\n          2.0\n        ],\n        \"semantic_type\": \"\",\n        \"description\": \"\"\n      }\n    },\n    {\n      \"column\": \"Per_Minute_Rate\",\n      \"properties\": {\n        \"dtype\": \"number\",\n        \"std\": 0.11270172617355448,\n        \"min\": 0.1,\n        \"max\": 0.5,\n        \"num_unique_values\": 41,\n        \"samples\": [\n          0.26,\n          0.25,\n          0.34\n        ],\n        \"semantic_type\": \"\",\n        \"description\": \"\"\n      }\n    },\n    {\n      \"column\": \"Trip_Duration_Minutes\",\n      \"properties\": {\n        \"dtype\": \"number\",\n        \"std\": 31.638364798436545,\n        \"min\": 5.01,\n        \"max\": 119.84,\n        \"num_unique_values\": 856,\n        \"samples\": [\n          85.0,\n          83.03,\n          97.04\n        ],\n        \"semantic_type\": \"\",\n        \"description\": \"\"\n      }\n    },\n    {\n      \"column\": \"Trip_Price\",\n      \"properties\": {\n        \"dtype\": \"number\",\n        \"std\": 24.091073048224573,\n        \"min\": 6.1269,\n        \"max\": 138.6425,\n        \"num_unique_values\": 931,\n        \"samples\": [\n          43.19980000000001,\n          18.8626,\n          20.3509\n        ],\n        \"semantic_type\": \"\",\n        \"description\": \"\"\n      }\n    },\n    {\n      \"column\": \"Time_of_Day_Afternoon\",\n      \"properties\": {\n        \"dtype\": \"number\",\n        \"std\": 0,\n        \"min\": 0,\n        \"max\": 1,\n        \"num_unique_values\": 2,\n        \"samples\": [\n          1,\n          0\n        ],\n        \"semantic_type\": \"\",\n        \"description\": \"\"\n      }\n    },\n    {\n      \"column\": \"Time_of_Day_Evening\",\n      \"properties\": {\n        \"dtype\": \"number\",\n        \"std\": 0,\n        \"min\": 0,\n        \"max\": 1,\n        \"num_unique_values\": 2,\n        \"samples\": [\n          1,\n          0\n        ],\n        \"semantic_type\": \"\",\n        \"description\": \"\"\n      }\n    },\n    {\n      \"column\": \"Time_of_Day_Morning\",\n      \"properties\": {\n        \"dtype\": \"number\",\n        \"std\": 0,\n        \"min\": 0,\n        \"max\": 1,\n        \"num_unique_values\": 2,\n        \"samples\": [\n          0,\n          1\n        ],\n        \"semantic_type\": \"\",\n        \"description\": \"\"\n      }\n    },\n    {\n      \"column\": \"Time_of_Day_Night\",\n      \"properties\": {\n        \"dtype\": \"number\",\n        \"std\": 0,\n        \"min\": 0,\n        \"max\": 1,\n        \"num_unique_values\": 2,\n        \"samples\": [\n          1,\n          0\n        ],\n        \"semantic_type\": \"\",\n        \"description\": \"\"\n      }\n    },\n    {\n      \"column\": \"Day_of_Week_Weekday\",\n      \"properties\": {\n        \"dtype\": \"number\",\n        \"std\": 0,\n        \"min\": 0,\n        \"max\": 1,\n        \"num_unique_values\": 2,\n        \"samples\": [\n          0,\n          1\n        ],\n        \"semantic_type\": \"\",\n        \"description\": \"\"\n      }\n    },\n    {\n      \"column\": \"Day_of_Week_Weekend\",\n      \"properties\": {\n        \"dtype\": \"number\",\n        \"std\": 0,\n        \"min\": 0,\n        \"max\": 1,\n        \"num_unique_values\": 2,\n        \"samples\": [\n          1,\n          0\n        ],\n        \"semantic_type\": \"\",\n        \"description\": \"\"\n      }\n    },\n    {\n      \"column\": \"Traffic_Conditions_High\",\n      \"properties\": {\n        \"dtype\": \"number\",\n        \"std\": 0,\n        \"min\": 0,\n        \"max\": 1,\n        \"num_unique_values\": 2,\n        \"samples\": [\n          1,\n          0\n        ],\n        \"semantic_type\": \"\",\n        \"description\": \"\"\n      }\n    },\n    {\n      \"column\": \"Traffic_Conditions_Low\",\n      \"properties\": {\n        \"dtype\": \"number\",\n        \"std\": 0,\n        \"min\": 0,\n        \"max\": 1,\n        \"num_unique_values\": 2,\n        \"samples\": [\n          0,\n          1\n        ],\n        \"semantic_type\": \"\",\n        \"description\": \"\"\n      }\n    },\n    {\n      \"column\": \"Traffic_Conditions_Medium\",\n      \"properties\": {\n        \"dtype\": \"number\",\n        \"std\": 0,\n        \"min\": 0,\n        \"max\": 1,\n        \"num_unique_values\": 2,\n        \"samples\": [\n          1,\n          0\n        ],\n        \"semantic_type\": \"\",\n        \"description\": \"\"\n      }\n    },\n    {\n      \"column\": \"Weather_Clear\",\n      \"properties\": {\n        \"dtype\": \"number\",\n        \"std\": 0,\n        \"min\": 0,\n        \"max\": 1,\n        \"num_unique_values\": 2,\n        \"samples\": [\n          0,\n          1\n        ],\n        \"semantic_type\": \"\",\n        \"description\": \"\"\n      }\n    },\n    {\n      \"column\": \"Weather_Rain\",\n      \"properties\": {\n        \"dtype\": \"number\",\n        \"std\": 0,\n        \"min\": 0,\n        \"max\": 1,\n        \"num_unique_values\": 2,\n        \"samples\": [\n          1,\n          0\n        ],\n        \"semantic_type\": \"\",\n        \"description\": \"\"\n      }\n    },\n    {\n      \"column\": \"Weather_Snow\",\n      \"properties\": {\n        \"dtype\": \"number\",\n        \"std\": 0,\n        \"min\": 0,\n        \"max\": 1,\n        \"num_unique_values\": 2,\n        \"samples\": [\n          1,\n          0\n        ],\n        \"semantic_type\": \"\",\n        \"description\": \"\"\n      }\n    }\n  ]\n}",
              "type": "dataframe",
              "variable_name": "optimized_ds"
            },
            "text/html": [
              "\n",
              "  <div id=\"df-fcda3d1d-a24b-499e-a311-840c333405b0\" class=\"colab-df-container\">\n",
              "    <div>\n",
              "<style scoped>\n",
              "    .dataframe tbody tr th:only-of-type {\n",
              "        vertical-align: middle;\n",
              "    }\n",
              "\n",
              "    .dataframe tbody tr th {\n",
              "        vertical-align: top;\n",
              "    }\n",
              "\n",
              "    .dataframe thead th {\n",
              "        text-align: right;\n",
              "    }\n",
              "</style>\n",
              "<table border=\"1\" class=\"dataframe\">\n",
              "  <thead>\n",
              "    <tr style=\"text-align: right;\">\n",
              "      <th></th>\n",
              "      <th>Trip_Distance_km</th>\n",
              "      <th>Passenger_Count</th>\n",
              "      <th>Base_Fare</th>\n",
              "      <th>Per_Km_Rate</th>\n",
              "      <th>Per_Minute_Rate</th>\n",
              "      <th>Trip_Duration_Minutes</th>\n",
              "      <th>Trip_Price</th>\n",
              "      <th>Time_of_Day_Afternoon</th>\n",
              "      <th>Time_of_Day_Evening</th>\n",
              "      <th>Time_of_Day_Morning</th>\n",
              "      <th>Time_of_Day_Night</th>\n",
              "      <th>Day_of_Week_Weekday</th>\n",
              "      <th>Day_of_Week_Weekend</th>\n",
              "      <th>Traffic_Conditions_High</th>\n",
              "      <th>Traffic_Conditions_Low</th>\n",
              "      <th>Traffic_Conditions_Medium</th>\n",
              "      <th>Weather_Clear</th>\n",
              "      <th>Weather_Rain</th>\n",
              "      <th>Weather_Snow</th>\n",
              "    </tr>\n",
              "  </thead>\n",
              "  <tbody>\n",
              "    <tr>\n",
              "      <th>0</th>\n",
              "      <td>19.35</td>\n",
              "      <td>3.0</td>\n",
              "      <td>3.56</td>\n",
              "      <td>0.80</td>\n",
              "      <td>0.32</td>\n",
              "      <td>53.82</td>\n",
              "      <td>36.2624</td>\n",
              "      <td>0</td>\n",
              "      <td>0</td>\n",
              "      <td>1</td>\n",
              "      <td>0</td>\n",
              "      <td>1</td>\n",
              "      <td>0</td>\n",
              "      <td>0</td>\n",
              "      <td>1</td>\n",
              "      <td>0</td>\n",
              "      <td>1</td>\n",
              "      <td>0</td>\n",
              "      <td>0</td>\n",
              "    </tr>\n",
              "    <tr>\n",
              "      <th>2</th>\n",
              "      <td>36.87</td>\n",
              "      <td>1.0</td>\n",
              "      <td>2.70</td>\n",
              "      <td>1.21</td>\n",
              "      <td>0.15</td>\n",
              "      <td>37.27</td>\n",
              "      <td>52.9032</td>\n",
              "      <td>0</td>\n",
              "      <td>1</td>\n",
              "      <td>0</td>\n",
              "      <td>0</td>\n",
              "      <td>0</td>\n",
              "      <td>1</td>\n",
              "      <td>1</td>\n",
              "      <td>0</td>\n",
              "      <td>0</td>\n",
              "      <td>1</td>\n",
              "      <td>0</td>\n",
              "      <td>0</td>\n",
              "    </tr>\n",
              "    <tr>\n",
              "      <th>3</th>\n",
              "      <td>30.33</td>\n",
              "      <td>4.0</td>\n",
              "      <td>3.48</td>\n",
              "      <td>0.51</td>\n",
              "      <td>0.15</td>\n",
              "      <td>116.81</td>\n",
              "      <td>36.4698</td>\n",
              "      <td>0</td>\n",
              "      <td>1</td>\n",
              "      <td>0</td>\n",
              "      <td>0</td>\n",
              "      <td>1</td>\n",
              "      <td>0</td>\n",
              "      <td>0</td>\n",
              "      <td>1</td>\n",
              "      <td>0</td>\n",
              "      <td>0</td>\n",
              "      <td>0</td>\n",
              "      <td>0</td>\n",
              "    </tr>\n",
              "    <tr>\n",
              "      <th>4</th>\n",
              "      <td>25.87</td>\n",
              "      <td>3.0</td>\n",
              "      <td>2.93</td>\n",
              "      <td>0.63</td>\n",
              "      <td>0.32</td>\n",
              "      <td>22.64</td>\n",
              "      <td>15.6180</td>\n",
              "      <td>0</td>\n",
              "      <td>1</td>\n",
              "      <td>0</td>\n",
              "      <td>0</td>\n",
              "      <td>1</td>\n",
              "      <td>0</td>\n",
              "      <td>1</td>\n",
              "      <td>0</td>\n",
              "      <td>0</td>\n",
              "      <td>1</td>\n",
              "      <td>0</td>\n",
              "      <td>0</td>\n",
              "    </tr>\n",
              "    <tr>\n",
              "      <th>5</th>\n",
              "      <td>8.64</td>\n",
              "      <td>2.0</td>\n",
              "      <td>2.55</td>\n",
              "      <td>1.71</td>\n",
              "      <td>0.48</td>\n",
              "      <td>89.33</td>\n",
              "      <td>60.2028</td>\n",
              "      <td>1</td>\n",
              "      <td>0</td>\n",
              "      <td>0</td>\n",
              "      <td>0</td>\n",
              "      <td>0</td>\n",
              "      <td>1</td>\n",
              "      <td>0</td>\n",
              "      <td>0</td>\n",
              "      <td>1</td>\n",
              "      <td>1</td>\n",
              "      <td>0</td>\n",
              "      <td>0</td>\n",
              "    </tr>\n",
              "  </tbody>\n",
              "</table>\n",
              "</div>\n",
              "    <div class=\"colab-df-buttons\">\n",
              "\n",
              "  <div class=\"colab-df-container\">\n",
              "    <button class=\"colab-df-convert\" onclick=\"convertToInteractive('df-fcda3d1d-a24b-499e-a311-840c333405b0')\"\n",
              "            title=\"Convert this dataframe to an interactive table.\"\n",
              "            style=\"display:none;\">\n",
              "\n",
              "  <svg xmlns=\"http://www.w3.org/2000/svg\" height=\"24px\" viewBox=\"0 -960 960 960\">\n",
              "    <path d=\"M120-120v-720h720v720H120Zm60-500h600v-160H180v160Zm220 220h160v-160H400v160Zm0 220h160v-160H400v160ZM180-400h160v-160H180v160Zm440 0h160v-160H620v160ZM180-180h160v-160H180v160Zm440 0h160v-160H620v160Z\"/>\n",
              "  </svg>\n",
              "    </button>\n",
              "\n",
              "  <style>\n",
              "    .colab-df-container {\n",
              "      display:flex;\n",
              "      gap: 12px;\n",
              "    }\n",
              "\n",
              "    .colab-df-convert {\n",
              "      background-color: #E8F0FE;\n",
              "      border: none;\n",
              "      border-radius: 50%;\n",
              "      cursor: pointer;\n",
              "      display: none;\n",
              "      fill: #1967D2;\n",
              "      height: 32px;\n",
              "      padding: 0 0 0 0;\n",
              "      width: 32px;\n",
              "    }\n",
              "\n",
              "    .colab-df-convert:hover {\n",
              "      background-color: #E2EBFA;\n",
              "      box-shadow: 0px 1px 2px rgba(60, 64, 67, 0.3), 0px 1px 3px 1px rgba(60, 64, 67, 0.15);\n",
              "      fill: #174EA6;\n",
              "    }\n",
              "\n",
              "    .colab-df-buttons div {\n",
              "      margin-bottom: 4px;\n",
              "    }\n",
              "\n",
              "    [theme=dark] .colab-df-convert {\n",
              "      background-color: #3B4455;\n",
              "      fill: #D2E3FC;\n",
              "    }\n",
              "\n",
              "    [theme=dark] .colab-df-convert:hover {\n",
              "      background-color: #434B5C;\n",
              "      box-shadow: 0px 1px 3px 1px rgba(0, 0, 0, 0.15);\n",
              "      filter: drop-shadow(0px 1px 2px rgba(0, 0, 0, 0.3));\n",
              "      fill: #FFFFFF;\n",
              "    }\n",
              "  </style>\n",
              "\n",
              "    <script>\n",
              "      const buttonEl =\n",
              "        document.querySelector('#df-fcda3d1d-a24b-499e-a311-840c333405b0 button.colab-df-convert');\n",
              "      buttonEl.style.display =\n",
              "        google.colab.kernel.accessAllowed ? 'block' : 'none';\n",
              "\n",
              "      async function convertToInteractive(key) {\n",
              "        const element = document.querySelector('#df-fcda3d1d-a24b-499e-a311-840c333405b0');\n",
              "        const dataTable =\n",
              "          await google.colab.kernel.invokeFunction('convertToInteractive',\n",
              "                                                    [key], {});\n",
              "        if (!dataTable) return;\n",
              "\n",
              "        const docLinkHtml = 'Like what you see? Visit the ' +\n",
              "          '<a target=\"_blank\" href=https://colab.research.google.com/notebooks/data_table.ipynb>data table notebook</a>'\n",
              "          + ' to learn more about interactive tables.';\n",
              "        element.innerHTML = '';\n",
              "        dataTable['output_type'] = 'display_data';\n",
              "        await google.colab.output.renderOutput(dataTable, element);\n",
              "        const docLink = document.createElement('div');\n",
              "        docLink.innerHTML = docLinkHtml;\n",
              "        element.appendChild(docLink);\n",
              "      }\n",
              "    </script>\n",
              "  </div>\n",
              "\n",
              "\n",
              "<div id=\"df-b1315960-e3b6-450b-b88b-148721b6f78d\">\n",
              "  <button class=\"colab-df-quickchart\" onclick=\"quickchart('df-b1315960-e3b6-450b-b88b-148721b6f78d')\"\n",
              "            title=\"Suggest charts\"\n",
              "            style=\"display:none;\">\n",
              "\n",
              "<svg xmlns=\"http://www.w3.org/2000/svg\" height=\"24px\"viewBox=\"0 0 24 24\"\n",
              "     width=\"24px\">\n",
              "    <g>\n",
              "        <path d=\"M19 3H5c-1.1 0-2 .9-2 2v14c0 1.1.9 2 2 2h14c1.1 0 2-.9 2-2V5c0-1.1-.9-2-2-2zM9 17H7v-7h2v7zm4 0h-2V7h2v10zm4 0h-2v-4h2v4z\"/>\n",
              "    </g>\n",
              "</svg>\n",
              "  </button>\n",
              "\n",
              "<style>\n",
              "  .colab-df-quickchart {\n",
              "      --bg-color: #E8F0FE;\n",
              "      --fill-color: #1967D2;\n",
              "      --hover-bg-color: #E2EBFA;\n",
              "      --hover-fill-color: #174EA6;\n",
              "      --disabled-fill-color: #AAA;\n",
              "      --disabled-bg-color: #DDD;\n",
              "  }\n",
              "\n",
              "  [theme=dark] .colab-df-quickchart {\n",
              "      --bg-color: #3B4455;\n",
              "      --fill-color: #D2E3FC;\n",
              "      --hover-bg-color: #434B5C;\n",
              "      --hover-fill-color: #FFFFFF;\n",
              "      --disabled-bg-color: #3B4455;\n",
              "      --disabled-fill-color: #666;\n",
              "  }\n",
              "\n",
              "  .colab-df-quickchart {\n",
              "    background-color: var(--bg-color);\n",
              "    border: none;\n",
              "    border-radius: 50%;\n",
              "    cursor: pointer;\n",
              "    display: none;\n",
              "    fill: var(--fill-color);\n",
              "    height: 32px;\n",
              "    padding: 0;\n",
              "    width: 32px;\n",
              "  }\n",
              "\n",
              "  .colab-df-quickchart:hover {\n",
              "    background-color: var(--hover-bg-color);\n",
              "    box-shadow: 0 1px 2px rgba(60, 64, 67, 0.3), 0 1px 3px 1px rgba(60, 64, 67, 0.15);\n",
              "    fill: var(--button-hover-fill-color);\n",
              "  }\n",
              "\n",
              "  .colab-df-quickchart-complete:disabled,\n",
              "  .colab-df-quickchart-complete:disabled:hover {\n",
              "    background-color: var(--disabled-bg-color);\n",
              "    fill: var(--disabled-fill-color);\n",
              "    box-shadow: none;\n",
              "  }\n",
              "\n",
              "  .colab-df-spinner {\n",
              "    border: 2px solid var(--fill-color);\n",
              "    border-color: transparent;\n",
              "    border-bottom-color: var(--fill-color);\n",
              "    animation:\n",
              "      spin 1s steps(1) infinite;\n",
              "  }\n",
              "\n",
              "  @keyframes spin {\n",
              "    0% {\n",
              "      border-color: transparent;\n",
              "      border-bottom-color: var(--fill-color);\n",
              "      border-left-color: var(--fill-color);\n",
              "    }\n",
              "    20% {\n",
              "      border-color: transparent;\n",
              "      border-left-color: var(--fill-color);\n",
              "      border-top-color: var(--fill-color);\n",
              "    }\n",
              "    30% {\n",
              "      border-color: transparent;\n",
              "      border-left-color: var(--fill-color);\n",
              "      border-top-color: var(--fill-color);\n",
              "      border-right-color: var(--fill-color);\n",
              "    }\n",
              "    40% {\n",
              "      border-color: transparent;\n",
              "      border-right-color: var(--fill-color);\n",
              "      border-top-color: var(--fill-color);\n",
              "    }\n",
              "    60% {\n",
              "      border-color: transparent;\n",
              "      border-right-color: var(--fill-color);\n",
              "    }\n",
              "    80% {\n",
              "      border-color: transparent;\n",
              "      border-right-color: var(--fill-color);\n",
              "      border-bottom-color: var(--fill-color);\n",
              "    }\n",
              "    90% {\n",
              "      border-color: transparent;\n",
              "      border-bottom-color: var(--fill-color);\n",
              "    }\n",
              "  }\n",
              "</style>\n",
              "\n",
              "  <script>\n",
              "    async function quickchart(key) {\n",
              "      const quickchartButtonEl =\n",
              "        document.querySelector('#' + key + ' button');\n",
              "      quickchartButtonEl.disabled = true;  // To prevent multiple clicks.\n",
              "      quickchartButtonEl.classList.add('colab-df-spinner');\n",
              "      try {\n",
              "        const charts = await google.colab.kernel.invokeFunction(\n",
              "            'suggestCharts', [key], {});\n",
              "      } catch (error) {\n",
              "        console.error('Error during call to suggestCharts:', error);\n",
              "      }\n",
              "      quickchartButtonEl.classList.remove('colab-df-spinner');\n",
              "      quickchartButtonEl.classList.add('colab-df-quickchart-complete');\n",
              "    }\n",
              "    (() => {\n",
              "      let quickchartButtonEl =\n",
              "        document.querySelector('#df-b1315960-e3b6-450b-b88b-148721b6f78d button');\n",
              "      quickchartButtonEl.style.display =\n",
              "        google.colab.kernel.accessAllowed ? 'block' : 'none';\n",
              "    })();\n",
              "  </script>\n",
              "</div>\n",
              "    </div>\n",
              "  </div>\n"
            ],
            "text/plain": [
              "   Trip_Distance_km  Passenger_Count  Base_Fare  Per_Km_Rate  Per_Minute_Rate  \\\n",
              "0             19.35              3.0       3.56         0.80             0.32   \n",
              "2             36.87              1.0       2.70         1.21             0.15   \n",
              "3             30.33              4.0       3.48         0.51             0.15   \n",
              "4             25.87              3.0       2.93         0.63             0.32   \n",
              "5              8.64              2.0       2.55         1.71             0.48   \n",
              "\n",
              "   Trip_Duration_Minutes  Trip_Price  Time_of_Day_Afternoon  \\\n",
              "0                  53.82     36.2624                      0   \n",
              "2                  37.27     52.9032                      0   \n",
              "3                 116.81     36.4698                      0   \n",
              "4                  22.64     15.6180                      0   \n",
              "5                  89.33     60.2028                      1   \n",
              "\n",
              "   Time_of_Day_Evening  Time_of_Day_Morning  Time_of_Day_Night  \\\n",
              "0                    0                    1                  0   \n",
              "2                    1                    0                  0   \n",
              "3                    1                    0                  0   \n",
              "4                    1                    0                  0   \n",
              "5                    0                    0                  0   \n",
              "\n",
              "   Day_of_Week_Weekday  Day_of_Week_Weekend  Traffic_Conditions_High  \\\n",
              "0                    1                    0                        0   \n",
              "2                    0                    1                        1   \n",
              "3                    1                    0                        0   \n",
              "4                    1                    0                        1   \n",
              "5                    0                    1                        0   \n",
              "\n",
              "   Traffic_Conditions_Low  Traffic_Conditions_Medium  Weather_Clear  \\\n",
              "0                       1                          0              1   \n",
              "2                       0                          0              1   \n",
              "3                       1                          0              0   \n",
              "4                       0                          0              1   \n",
              "5                       0                          1              1   \n",
              "\n",
              "   Weather_Rain  Weather_Snow  \n",
              "0             0             0  \n",
              "2             0             0  \n",
              "3             0             0  \n",
              "4             0             0  \n",
              "5             0             0  "
            ]
          },
          "execution_count": 41,
          "metadata": {},
          "output_type": "execute_result"
        }
      ],
      "source": [
        "Q1 = baseline_ds[\"Trip_Distance_km\"].quantile(0.25)\n",
        "Q3 = baseline_ds[\"Trip_Distance_km\"].quantile(0.75)\n",
        "IQR = Q3 - Q1\n",
        "\n",
        "lower_bound = Q1 - 1.5 * IQR\n",
        "upper_bound = Q3 + 1.5 * IQR\n",
        "\n",
        "optimized_ds = baseline_ds[(lower_bound <= baseline_ds[\"Trip_Distance_km\"]) & (baseline_ds[\"Trip_Distance_km\"] <= upper_bound)]\n",
        "optimized_ds.head()"
      ]
    },
    {
      "cell_type": "markdown",
      "metadata": {
        "id": "fonfCA2hpRbQ"
      },
      "source": [
        "Проверим, улучшились ли показатели метрик после произведенных улучшений бейзлайна"
      ]
    },
    {
      "cell_type": "code",
      "execution_count": null,
      "metadata": {
        "colab": {
          "base_uri": "https://localhost:8080/"
        },
        "id": "CtvwfBpspTR3",
        "outputId": "41beb0b3-4eb7-4135-c308-c22406927cee"
      },
      "outputs": [
        {
          "name": "stdout",
          "output_type": "stream",
          "text": [
            "Mean Absolute Error (MAE): 8.1763\n",
            "R-squared (R2): 0.8125\n"
          ]
        }
      ],
      "source": [
        "(X_train, y_train), (X_test, y_test) = generate_train_data(optimized_ds)\n",
        "\n",
        "model = sklearn.tree.DecisionTreeRegressor(random_state=42)\n",
        "model.fit(X_train, y_train)\n",
        "\n",
        "print_model_metrics(model, X_test, y_test)"
      ]
    },
    {
      "cell_type": "markdown",
      "metadata": {
        "id": "Up32oEQGpWAW"
      },
      "source": [
        "Как видим, после удаления выбросов из значений модель стала показывать более лучшие показатели метрик. А следовательно гипотеза оказалась верной!"
      ]
    },
    {
      "cell_type": "markdown",
      "metadata": {
        "id": "vMtqHcslpoID"
      },
      "source": [
        "#### Feature engineering"
      ]
    },
    {
      "cell_type": "markdown",
      "metadata": {
        "id": "MLSdRsa-pogo"
      },
      "source": [
        "Также, при выполнении лабораторной работы №2 значительный прирост в качестве модели дало применение feature engineering к датасету.\n",
        "\n",
        "Попробуем применить аналогичную гипотезу к дереву решений. При решении лабораторной работы №2 в качестве пары, на основе которых был выполнен feature engineering, были выбраны признаки `Trip_Distance_km` и `Per_Km_Rate`.\n",
        "\n",
        "Выберем их и в этот раз."
      ]
    },
    {
      "cell_type": "code",
      "execution_count": 33,
      "metadata": {
        "colab": {
          "base_uri": "https://localhost:8080/"
        },
        "id": "ZFFbGLloqE5Z",
        "outputId": "ba5a0516-a480-4708-888b-beef3227c711"
      },
      "outputs": [
        {
          "name": "stdout",
          "output_type": "stream",
          "text": [
            "Mean Absolute Error (MAE): 6.0479\n",
            "R-squared (R2): 0.8744\n"
          ]
        }
      ],
      "source": [
        "optimized_ds_2 = optimized_ds.copy()\n",
        "\n",
        "optimized_ds_2[\"Per_Km_Rate__Trip_Distance_km\"] = optimized_ds_2[\"Trip_Distance_km\"] * optimized_ds_2[\"Per_Km_Rate\"]\n",
        "optimized_ds_2 = optimized_ds_2.drop(columns=[\"Trip_Distance_km\", \"Per_Km_Rate\"])\n",
        "\n",
        "# обучение модели\n",
        "\n",
        "(X_train, y_train), (X_test, y_test) = generate_train_data(optimized_ds_2)\n",
        "\n",
        "model = sklearn.tree.DecisionTreeRegressor(random_state=42)\n",
        "model.fit(X_train, y_train)\n",
        "\n",
        "print_model_metrics(model, X_test, y_test)"
      ]
    },
    {
      "cell_type": "markdown",
      "metadata": {
        "id": "6FaRMp2ZqMCu"
      },
      "source": [
        "Как видим, в этот раз генерация дополнительных признаков с использованием нелинейных функций также дало значительный прирост в качестве обученной модели. А следовательно гипотеза оказалась верной!"
      ]
    },
    {
      "cell_type": "code",
      "execution_count": 34,
      "metadata": {
        "colab": {
          "base_uri": "https://localhost:8080/"
        },
        "id": "zY6ju6GgqXBw",
        "outputId": "3734bee2-e1de-48c6-a4a6-5fa285b58ec0"
      },
      "outputs": [
        {
          "name": "stdout",
          "output_type": "stream",
          "text": [
            "Mean Absolute Error (MAE): 4.5665\n",
            "R-squared (R2): 0.9114\n"
          ]
        }
      ],
      "source": [
        "optimized_ds_3 = optimized_ds_2.copy()\n",
        "\n",
        "optimized_ds_3[\"Per_Minute_Rate__Trip_Duration_Minutes\"] = optimized_ds_3[\"Trip_Duration_Minutes\"] * optimized_ds_3[\"Per_Minute_Rate\"]\n",
        "optimized_ds_3 = optimized_ds_3.drop(columns=[\"Trip_Duration_Minutes\", \"Per_Minute_Rate\"])\n",
        "\n",
        "# обучение модели\n",
        "\n",
        "(X_train, y_train), (X_test, y_test) = generate_train_data(optimized_ds_3)\n",
        "\n",
        "model = sklearn.tree.DecisionTreeRegressor(random_state=42)\n",
        "model.fit(X_train, y_train)\n",
        "\n",
        "print_model_metrics(model, X_test, y_test)"
      ]
    },
    {
      "cell_type": "markdown",
      "metadata": {
        "id": "JRi1iO8zqdcn"
      },
      "source": [
        "Аналогично с лабораторной работой №2, попробуем также применить feature engineering к паре признаков `Trip_Duration_Minutes` и `Per_Minute_Rate`.\n",
        "\n",
        "Как видим, данная оптимизация датасета снова дала положительный результат, и показатели метрик `MAE` уменьшились, а метрики `R2` - увеличились."
      ]
    },
    {
      "cell_type": "markdown",
      "metadata": {
        "id": "WuVW1ZDaq2FK"
      },
      "source": [
        "#### Подбор гиперпараметров"
      ]
    },
    {
      "cell_type": "markdown",
      "metadata": {
        "id": "tnN9pREQq3hx"
      },
      "source": [
        "Иногда значения гиперпараметров, установленные в модели по умолчанию, не всегда являются оптимальными для конкретного датасета.\n",
        "\n",
        "Поэтому, иногда имеет смысл подобрать более оптимальные значения гиперпараметров, которые будут больше подходить для текущего датасета.\n",
        "\n",
        "Попробуем подобрать такие значения гиперпараметров на основе алгоритма grid search."
      ]
    },
    {
      "cell_type": "code",
      "execution_count": null,
      "metadata": {
        "colab": {
          "base_uri": "https://localhost:8080/"
        },
        "id": "zPi_s7psq6f1",
        "outputId": "f88c9c4e-cb9b-4a9c-f420-9a9ef4d763d9"
      },
      "outputs": [
        {
          "name": "stdout",
          "output_type": "stream",
          "text": [
            "Best Parameters: {'criterion': 'absolute_error', 'max_depth': 10, 'max_features': None, 'min_samples_leaf': 5, 'min_samples_split': 2}\n",
            "Mean Absolute Error (MAE): 3.5845\n",
            "R-squared (R2): 0.9511\n"
          ]
        }
      ],
      "source": [
        "param_grid = {\n",
        "  \"criterion\": [\"squared_error\", \"friedman_mse\", \"absolute_error\"],\n",
        "  \"max_depth\": [3, 5, 10, 20, 40, None],\n",
        "  \"min_samples_split\": [2, 5, 10],\n",
        "  \"min_samples_leaf\": [1, 2, 5, 10],\n",
        "  \"max_features\": [None, \"sqrt\", \"log2\"],\n",
        "}\n",
        "\n",
        "(X_train, y_train), (X_test, y_test) = generate_train_data(optimized_ds_3)\n",
        "model = sklearn.tree.DecisionTreeRegressor(random_state=42)\n",
        "\n",
        "grid_search = sklearn.model_selection.GridSearchCV(\n",
        "  estimator=model,\n",
        "  param_grid=param_grid,\n",
        "  cv=5,\n",
        "  scoring=\"neg_mean_squared_error\",\n",
        "  n_jobs=-1,\n",
        ")\n",
        "\n",
        "grid_search.fit(X_train, y_train)\n",
        "\n",
        "# Вывод результатов\n",
        "\n",
        "best_params = grid_search.best_params_\n",
        "best_model = grid_search.best_estimator_\n",
        "\n",
        "print(f\"Best Parameters: {best_params}\")\n",
        "print_model_metrics(best_model, X_test, y_test)"
      ]
    },
    {
      "cell_type": "markdown",
      "metadata": {
        "id": "FKcdIB5trqVP"
      },
      "source": [
        "Как видим, нам удалось подобрать значения гиперпараметров, оптимальные конкретно для дерева решения для решения задачи регрессии. Гипотеза о наличии более оптимального набора значени гиперпараметров оказалась верной."
      ]
    },
    {
      "cell_type": "markdown",
      "metadata": {
        "id": "C78nuMsTr-de"
      },
      "source": [
        "### 4. Имплементация алгоритма машинного обучения"
      ]
    },
    {
      "cell_type": "markdown",
      "metadata": {
        "id": "3EI1G5yysB3f"
      },
      "source": [
        "Перейдем теперь к собственной имплементации алгоритма дерева решения для задачи регрессии. Решение я реализовал в виде класса `MyDecisionTreeRegressor`, который имеет интерфейс, схожий с тем, что используется в библиотеке `sklearn`. присутствуют 2 метода: `fit` - для обучения модели, `predict` - для предсказания классов для уже обученной модели.\n",
        "\n",
        "Так как ранее был определен базовый абстрактный класс `DecisionTreeBase`, то для создания класса модели регрессии достаточно будет определить функцию метрики для поиска лучшего разделения."
      ]
    },
    {
      "cell_type": "code",
      "execution_count": 35,
      "metadata": {
        "id": "2rURFEPs_S2h"
      },
      "outputs": [],
      "source": [
        "class MyDecisionTreeRegressor(DecisionTreeBase):\n",
        "  def _metric(self, X, y, split_info):\n",
        "    feature_values = X[:, split_info.index]\n",
        "    left_indices = feature_values <= split_info.threshold\n",
        "    right_indices = feature_values > split_info.threshold\n",
        "\n",
        "    if np.sum(left_indices) == 0 or np.sum(right_indices) == 0:\n",
        "      return -float(\"inf\")\n",
        "\n",
        "    left_y = y[left_indices]\n",
        "    right_y = y[right_indices]\n",
        "\n",
        "    n = len(y)\n",
        "    left_var = np.var(left_y) * len(left_y) / n\n",
        "    right_var = np.var(right_y) * len(right_y) / n\n",
        "\n",
        "    return np.var(y) - (left_var + right_var)\n"
      ]
    },
    {
      "cell_type": "code",
      "execution_count": null,
      "metadata": {
        "colab": {
          "base_uri": "https://localhost:8080/"
        },
        "id": "ZOKFOThwsnHv",
        "outputId": "17907541-acca-4ecd-cbb6-560f26eb6d28"
      },
      "outputs": [
        {
          "name": "stdout",
          "output_type": "stream",
          "text": [
            "Mean Absolute Error (MAE): 10.2323\n",
            "R-squared (R2): 0.8589\n"
          ]
        }
      ],
      "source": [
        "(X_train, y_train), (X_test, y_test) = generate_train_data(baseline_ds)\n",
        "\n",
        "model = MyDecisionTreeRegressor()\n",
        "model.fit(X_train, y_train)\n",
        "\n",
        "print_model_metrics(model, X_test, y_test)"
      ]
    },
    {
      "cell_type": "markdown",
      "metadata": {
        "id": "s_qF0q_5umW9"
      },
      "source": [
        "Как видим, на бейзлайне без оптимизаций имплементированная модель показала значения метрик даже немного лучше, чем модель из пункта 2. Воможно, это связано с настройкой глубины дерева по умолчанию: в модели из пункта 2 по умолчанию глубина дерева конечна, в то время как в имплементированной модели такого ограничения нет."
      ]
    },
    {
      "cell_type": "code",
      "execution_count": null,
      "metadata": {
        "colab": {
          "base_uri": "https://localhost:8080/"
        },
        "id": "N2ChEIK1vNv5",
        "outputId": "f1e54fd1-6e10-4435-db05-47ebec9430fd"
      },
      "outputs": [
        {
          "name": "stdout",
          "output_type": "stream",
          "text": [
            "Mean Absolute Error (MAE): 5.1859\n",
            "R-squared (R2): 0.9033\n"
          ]
        }
      ],
      "source": [
        "(X_train, y_train), (X_test, y_test) = generate_train_data(optimized_ds_3)\n",
        "\n",
        "model = MyDecisionTreeRegressor(max_depth=10)\n",
        "model.fit(X_train, y_train)\n",
        "\n",
        "print_model_metrics(model, X_test, y_test)"
      ]
    },
    {
      "cell_type": "markdown",
      "metadata": {
        "id": "MvAlf-gZvX84"
      },
      "source": [
        "На улучшенном бейзлайне модель стала показывать значения метрик, значительно лучше, чем на бейзлайне до оптимизаций. Однако, по сравнению с моделью из пункта 3 показатели метрик оказались хуже, что вероятно связано с отсутствием тонкой настройки гиперпараметров."
      ]
    }
  ],
  "metadata": {
    "colab": {
      "provenance": [],
      "toc_visible": true
    },
    "kernelspec": {
      "display_name": "Python 3",
      "name": "python3"
    },
    "language_info": {
      "name": "python"
    }
  },
  "nbformat": 4,
  "nbformat_minor": 0
}
