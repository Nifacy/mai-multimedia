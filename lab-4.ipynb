{
  "nbformat": 4,
  "nbformat_minor": 0,
  "metadata": {
    "colab": {
      "provenance": [],
      "toc_visible": true
    },
    "kernelspec": {
      "name": "python3",
      "display_name": "Python 3"
    },
    "language_info": {
      "name": "python"
    }
  },
  "cells": [
    {
      "cell_type": "markdown",
      "source": [
        "# Лабораторная работа №4 \"Проведение исследований со случайным лесом\""
      ],
      "metadata": {
        "id": "BmmaY0Yewwjw"
      }
    },
    {
      "cell_type": "markdown",
      "source": [
        "## Подключение вспомогательных библиотек"
      ],
      "metadata": {
        "id": "FlmeUWViw2I7"
      }
    },
    {
      "cell_type": "code",
      "execution_count": 56,
      "metadata": {
        "id": "dH1Yo8x5wDpK"
      },
      "outputs": [],
      "source": [
        "from typing import Union\n",
        "from dataclasses import dataclass\n",
        "import collections\n",
        "import math\n",
        "\n",
        "import pandas as pd\n",
        "import matplotlib.pyplot as plt\n",
        "import seaborn as sns\n",
        "import numpy as np\n",
        "\n",
        "import sklearn.model_selection\n",
        "import sklearn.preprocessing\n",
        "import sklearn.ensemble"
      ]
    },
    {
      "cell_type": "markdown",
      "source": [
        "## Классификация"
      ],
      "metadata": {
        "id": "j-3E0W_3xDCj"
      }
    },
    {
      "cell_type": "markdown",
      "source": [
        "### 2. Создание бейзлайна и оценка качества"
      ],
      "metadata": {
        "id": "NzyZZSRzxFQy"
      }
    },
    {
      "cell_type": "markdown",
      "source": [
        "#### Подготовка бейзлайна"
      ],
      "metadata": {
        "id": "5Wfx1s49xHSZ"
      }
    },
    {
      "cell_type": "markdown",
      "source": [
        "Перед началом обучения модели сформируем бейзлайн, подобно тому, как это было выполнено в рамках лабораторной работы №1"
      ],
      "metadata": {
        "id": "6J_FtNjfxJZF"
      }
    },
    {
      "cell_type": "code",
      "source": [
        "!kaggle datasets download -q -p dataset -d saurabhbadole/bank-customer-churn-prediction-dataset\n",
        "!unzip dataset/bank-customer-churn-prediction-dataset.zip -d dataset/\n",
        "\n",
        "ds = pd.read_csv(\"dataset/Churn_Modelling.csv\")\n",
        "ds.head()\n",
        "\n",
        "baseline_ds = ds.drop(columns=[\"RowNumber\", \"CustomerId\", \"Surname\"])\n",
        "\n",
        "baseline_ds = pd.get_dummies(baseline_ds, columns=[\"Geography\"], dtype=int)\n",
        "baseline_ds = pd.get_dummies(baseline_ds, columns=[\"Gender\"], dtype=int)\n",
        "\n",
        "baseline_ds.head()"
      ],
      "metadata": {
        "colab": {
          "base_uri": "https://localhost:8080/",
          "height": 299
        },
        "id": "u9dramE8xKw6",
        "outputId": "46239a16-e253-453d-8fc0-78f3e74b4b47"
      },
      "execution_count": 2,
      "outputs": [
        {
          "output_type": "stream",
          "name": "stdout",
          "text": [
            "Dataset URL: https://www.kaggle.com/datasets/saurabhbadole/bank-customer-churn-prediction-dataset\n",
            "License(s): Attribution-NonCommercial-NoDerivatives 4.0 International (CC BY-NC-ND 4.0)\n",
            "Archive:  dataset/bank-customer-churn-prediction-dataset.zip\n",
            "  inflating: dataset/Churn_Modelling.csv  \n"
          ]
        },
        {
          "output_type": "execute_result",
          "data": {
            "text/plain": [
              "   CreditScore  Age  Tenure    Balance  NumOfProducts  HasCrCard  \\\n",
              "0          619   42       2       0.00              1          1   \n",
              "1          608   41       1   83807.86              1          0   \n",
              "2          502   42       8  159660.80              3          1   \n",
              "3          699   39       1       0.00              2          0   \n",
              "4          850   43       2  125510.82              1          1   \n",
              "\n",
              "   IsActiveMember  EstimatedSalary  Exited  Geography_France  \\\n",
              "0               1        101348.88       1                 1   \n",
              "1               1        112542.58       0                 0   \n",
              "2               0        113931.57       1                 1   \n",
              "3               0         93826.63       0                 1   \n",
              "4               1         79084.10       0                 0   \n",
              "\n",
              "   Geography_Germany  Geography_Spain  Gender_Female  Gender_Male  \n",
              "0                  0                0              1            0  \n",
              "1                  0                1              1            0  \n",
              "2                  0                0              1            0  \n",
              "3                  0                0              1            0  \n",
              "4                  0                1              1            0  "
            ],
            "text/html": [
              "\n",
              "  <div id=\"df-74a182d6-66fa-4642-bb6a-589ebf6f3a10\" class=\"colab-df-container\">\n",
              "    <div>\n",
              "<style scoped>\n",
              "    .dataframe tbody tr th:only-of-type {\n",
              "        vertical-align: middle;\n",
              "    }\n",
              "\n",
              "    .dataframe tbody tr th {\n",
              "        vertical-align: top;\n",
              "    }\n",
              "\n",
              "    .dataframe thead th {\n",
              "        text-align: right;\n",
              "    }\n",
              "</style>\n",
              "<table border=\"1\" class=\"dataframe\">\n",
              "  <thead>\n",
              "    <tr style=\"text-align: right;\">\n",
              "      <th></th>\n",
              "      <th>CreditScore</th>\n",
              "      <th>Age</th>\n",
              "      <th>Tenure</th>\n",
              "      <th>Balance</th>\n",
              "      <th>NumOfProducts</th>\n",
              "      <th>HasCrCard</th>\n",
              "      <th>IsActiveMember</th>\n",
              "      <th>EstimatedSalary</th>\n",
              "      <th>Exited</th>\n",
              "      <th>Geography_France</th>\n",
              "      <th>Geography_Germany</th>\n",
              "      <th>Geography_Spain</th>\n",
              "      <th>Gender_Female</th>\n",
              "      <th>Gender_Male</th>\n",
              "    </tr>\n",
              "  </thead>\n",
              "  <tbody>\n",
              "    <tr>\n",
              "      <th>0</th>\n",
              "      <td>619</td>\n",
              "      <td>42</td>\n",
              "      <td>2</td>\n",
              "      <td>0.00</td>\n",
              "      <td>1</td>\n",
              "      <td>1</td>\n",
              "      <td>1</td>\n",
              "      <td>101348.88</td>\n",
              "      <td>1</td>\n",
              "      <td>1</td>\n",
              "      <td>0</td>\n",
              "      <td>0</td>\n",
              "      <td>1</td>\n",
              "      <td>0</td>\n",
              "    </tr>\n",
              "    <tr>\n",
              "      <th>1</th>\n",
              "      <td>608</td>\n",
              "      <td>41</td>\n",
              "      <td>1</td>\n",
              "      <td>83807.86</td>\n",
              "      <td>1</td>\n",
              "      <td>0</td>\n",
              "      <td>1</td>\n",
              "      <td>112542.58</td>\n",
              "      <td>0</td>\n",
              "      <td>0</td>\n",
              "      <td>0</td>\n",
              "      <td>1</td>\n",
              "      <td>1</td>\n",
              "      <td>0</td>\n",
              "    </tr>\n",
              "    <tr>\n",
              "      <th>2</th>\n",
              "      <td>502</td>\n",
              "      <td>42</td>\n",
              "      <td>8</td>\n",
              "      <td>159660.80</td>\n",
              "      <td>3</td>\n",
              "      <td>1</td>\n",
              "      <td>0</td>\n",
              "      <td>113931.57</td>\n",
              "      <td>1</td>\n",
              "      <td>1</td>\n",
              "      <td>0</td>\n",
              "      <td>0</td>\n",
              "      <td>1</td>\n",
              "      <td>0</td>\n",
              "    </tr>\n",
              "    <tr>\n",
              "      <th>3</th>\n",
              "      <td>699</td>\n",
              "      <td>39</td>\n",
              "      <td>1</td>\n",
              "      <td>0.00</td>\n",
              "      <td>2</td>\n",
              "      <td>0</td>\n",
              "      <td>0</td>\n",
              "      <td>93826.63</td>\n",
              "      <td>0</td>\n",
              "      <td>1</td>\n",
              "      <td>0</td>\n",
              "      <td>0</td>\n",
              "      <td>1</td>\n",
              "      <td>0</td>\n",
              "    </tr>\n",
              "    <tr>\n",
              "      <th>4</th>\n",
              "      <td>850</td>\n",
              "      <td>43</td>\n",
              "      <td>2</td>\n",
              "      <td>125510.82</td>\n",
              "      <td>1</td>\n",
              "      <td>1</td>\n",
              "      <td>1</td>\n",
              "      <td>79084.10</td>\n",
              "      <td>0</td>\n",
              "      <td>0</td>\n",
              "      <td>0</td>\n",
              "      <td>1</td>\n",
              "      <td>1</td>\n",
              "      <td>0</td>\n",
              "    </tr>\n",
              "  </tbody>\n",
              "</table>\n",
              "</div>\n",
              "    <div class=\"colab-df-buttons\">\n",
              "\n",
              "  <div class=\"colab-df-container\">\n",
              "    <button class=\"colab-df-convert\" onclick=\"convertToInteractive('df-74a182d6-66fa-4642-bb6a-589ebf6f3a10')\"\n",
              "            title=\"Convert this dataframe to an interactive table.\"\n",
              "            style=\"display:none;\">\n",
              "\n",
              "  <svg xmlns=\"http://www.w3.org/2000/svg\" height=\"24px\" viewBox=\"0 -960 960 960\">\n",
              "    <path d=\"M120-120v-720h720v720H120Zm60-500h600v-160H180v160Zm220 220h160v-160H400v160Zm0 220h160v-160H400v160ZM180-400h160v-160H180v160Zm440 0h160v-160H620v160ZM180-180h160v-160H180v160Zm440 0h160v-160H620v160Z\"/>\n",
              "  </svg>\n",
              "    </button>\n",
              "\n",
              "  <style>\n",
              "    .colab-df-container {\n",
              "      display:flex;\n",
              "      gap: 12px;\n",
              "    }\n",
              "\n",
              "    .colab-df-convert {\n",
              "      background-color: #E8F0FE;\n",
              "      border: none;\n",
              "      border-radius: 50%;\n",
              "      cursor: pointer;\n",
              "      display: none;\n",
              "      fill: #1967D2;\n",
              "      height: 32px;\n",
              "      padding: 0 0 0 0;\n",
              "      width: 32px;\n",
              "    }\n",
              "\n",
              "    .colab-df-convert:hover {\n",
              "      background-color: #E2EBFA;\n",
              "      box-shadow: 0px 1px 2px rgba(60, 64, 67, 0.3), 0px 1px 3px 1px rgba(60, 64, 67, 0.15);\n",
              "      fill: #174EA6;\n",
              "    }\n",
              "\n",
              "    .colab-df-buttons div {\n",
              "      margin-bottom: 4px;\n",
              "    }\n",
              "\n",
              "    [theme=dark] .colab-df-convert {\n",
              "      background-color: #3B4455;\n",
              "      fill: #D2E3FC;\n",
              "    }\n",
              "\n",
              "    [theme=dark] .colab-df-convert:hover {\n",
              "      background-color: #434B5C;\n",
              "      box-shadow: 0px 1px 3px 1px rgba(0, 0, 0, 0.15);\n",
              "      filter: drop-shadow(0px 1px 2px rgba(0, 0, 0, 0.3));\n",
              "      fill: #FFFFFF;\n",
              "    }\n",
              "  </style>\n",
              "\n",
              "    <script>\n",
              "      const buttonEl =\n",
              "        document.querySelector('#df-74a182d6-66fa-4642-bb6a-589ebf6f3a10 button.colab-df-convert');\n",
              "      buttonEl.style.display =\n",
              "        google.colab.kernel.accessAllowed ? 'block' : 'none';\n",
              "\n",
              "      async function convertToInteractive(key) {\n",
              "        const element = document.querySelector('#df-74a182d6-66fa-4642-bb6a-589ebf6f3a10');\n",
              "        const dataTable =\n",
              "          await google.colab.kernel.invokeFunction('convertToInteractive',\n",
              "                                                    [key], {});\n",
              "        if (!dataTable) return;\n",
              "\n",
              "        const docLinkHtml = 'Like what you see? Visit the ' +\n",
              "          '<a target=\"_blank\" href=https://colab.research.google.com/notebooks/data_table.ipynb>data table notebook</a>'\n",
              "          + ' to learn more about interactive tables.';\n",
              "        element.innerHTML = '';\n",
              "        dataTable['output_type'] = 'display_data';\n",
              "        await google.colab.output.renderOutput(dataTable, element);\n",
              "        const docLink = document.createElement('div');\n",
              "        docLink.innerHTML = docLinkHtml;\n",
              "        element.appendChild(docLink);\n",
              "      }\n",
              "    </script>\n",
              "  </div>\n",
              "\n",
              "\n",
              "<div id=\"df-876d0eed-da7d-4018-a255-94969855063c\">\n",
              "  <button class=\"colab-df-quickchart\" onclick=\"quickchart('df-876d0eed-da7d-4018-a255-94969855063c')\"\n",
              "            title=\"Suggest charts\"\n",
              "            style=\"display:none;\">\n",
              "\n",
              "<svg xmlns=\"http://www.w3.org/2000/svg\" height=\"24px\"viewBox=\"0 0 24 24\"\n",
              "     width=\"24px\">\n",
              "    <g>\n",
              "        <path d=\"M19 3H5c-1.1 0-2 .9-2 2v14c0 1.1.9 2 2 2h14c1.1 0 2-.9 2-2V5c0-1.1-.9-2-2-2zM9 17H7v-7h2v7zm4 0h-2V7h2v10zm4 0h-2v-4h2v4z\"/>\n",
              "    </g>\n",
              "</svg>\n",
              "  </button>\n",
              "\n",
              "<style>\n",
              "  .colab-df-quickchart {\n",
              "      --bg-color: #E8F0FE;\n",
              "      --fill-color: #1967D2;\n",
              "      --hover-bg-color: #E2EBFA;\n",
              "      --hover-fill-color: #174EA6;\n",
              "      --disabled-fill-color: #AAA;\n",
              "      --disabled-bg-color: #DDD;\n",
              "  }\n",
              "\n",
              "  [theme=dark] .colab-df-quickchart {\n",
              "      --bg-color: #3B4455;\n",
              "      --fill-color: #D2E3FC;\n",
              "      --hover-bg-color: #434B5C;\n",
              "      --hover-fill-color: #FFFFFF;\n",
              "      --disabled-bg-color: #3B4455;\n",
              "      --disabled-fill-color: #666;\n",
              "  }\n",
              "\n",
              "  .colab-df-quickchart {\n",
              "    background-color: var(--bg-color);\n",
              "    border: none;\n",
              "    border-radius: 50%;\n",
              "    cursor: pointer;\n",
              "    display: none;\n",
              "    fill: var(--fill-color);\n",
              "    height: 32px;\n",
              "    padding: 0;\n",
              "    width: 32px;\n",
              "  }\n",
              "\n",
              "  .colab-df-quickchart:hover {\n",
              "    background-color: var(--hover-bg-color);\n",
              "    box-shadow: 0 1px 2px rgba(60, 64, 67, 0.3), 0 1px 3px 1px rgba(60, 64, 67, 0.15);\n",
              "    fill: var(--button-hover-fill-color);\n",
              "  }\n",
              "\n",
              "  .colab-df-quickchart-complete:disabled,\n",
              "  .colab-df-quickchart-complete:disabled:hover {\n",
              "    background-color: var(--disabled-bg-color);\n",
              "    fill: var(--disabled-fill-color);\n",
              "    box-shadow: none;\n",
              "  }\n",
              "\n",
              "  .colab-df-spinner {\n",
              "    border: 2px solid var(--fill-color);\n",
              "    border-color: transparent;\n",
              "    border-bottom-color: var(--fill-color);\n",
              "    animation:\n",
              "      spin 1s steps(1) infinite;\n",
              "  }\n",
              "\n",
              "  @keyframes spin {\n",
              "    0% {\n",
              "      border-color: transparent;\n",
              "      border-bottom-color: var(--fill-color);\n",
              "      border-left-color: var(--fill-color);\n",
              "    }\n",
              "    20% {\n",
              "      border-color: transparent;\n",
              "      border-left-color: var(--fill-color);\n",
              "      border-top-color: var(--fill-color);\n",
              "    }\n",
              "    30% {\n",
              "      border-color: transparent;\n",
              "      border-left-color: var(--fill-color);\n",
              "      border-top-color: var(--fill-color);\n",
              "      border-right-color: var(--fill-color);\n",
              "    }\n",
              "    40% {\n",
              "      border-color: transparent;\n",
              "      border-right-color: var(--fill-color);\n",
              "      border-top-color: var(--fill-color);\n",
              "    }\n",
              "    60% {\n",
              "      border-color: transparent;\n",
              "      border-right-color: var(--fill-color);\n",
              "    }\n",
              "    80% {\n",
              "      border-color: transparent;\n",
              "      border-right-color: var(--fill-color);\n",
              "      border-bottom-color: var(--fill-color);\n",
              "    }\n",
              "    90% {\n",
              "      border-color: transparent;\n",
              "      border-bottom-color: var(--fill-color);\n",
              "    }\n",
              "  }\n",
              "</style>\n",
              "\n",
              "  <script>\n",
              "    async function quickchart(key) {\n",
              "      const quickchartButtonEl =\n",
              "        document.querySelector('#' + key + ' button');\n",
              "      quickchartButtonEl.disabled = true;  // To prevent multiple clicks.\n",
              "      quickchartButtonEl.classList.add('colab-df-spinner');\n",
              "      try {\n",
              "        const charts = await google.colab.kernel.invokeFunction(\n",
              "            'suggestCharts', [key], {});\n",
              "      } catch (error) {\n",
              "        console.error('Error during call to suggestCharts:', error);\n",
              "      }\n",
              "      quickchartButtonEl.classList.remove('colab-df-spinner');\n",
              "      quickchartButtonEl.classList.add('colab-df-quickchart-complete');\n",
              "    }\n",
              "    (() => {\n",
              "      let quickchartButtonEl =\n",
              "        document.querySelector('#df-876d0eed-da7d-4018-a255-94969855063c button');\n",
              "      quickchartButtonEl.style.display =\n",
              "        google.colab.kernel.accessAllowed ? 'block' : 'none';\n",
              "    })();\n",
              "  </script>\n",
              "</div>\n",
              "    </div>\n",
              "  </div>\n"
            ],
            "application/vnd.google.colaboratory.intrinsic+json": {
              "type": "dataframe",
              "variable_name": "baseline_ds",
              "summary": "{\n  \"name\": \"baseline_ds\",\n  \"rows\": 10000,\n  \"fields\": [\n    {\n      \"column\": \"CreditScore\",\n      \"properties\": {\n        \"dtype\": \"number\",\n        \"std\": 96,\n        \"min\": 350,\n        \"max\": 850,\n        \"num_unique_values\": 460,\n        \"samples\": [\n          754,\n          533,\n          744\n        ],\n        \"semantic_type\": \"\",\n        \"description\": \"\"\n      }\n    },\n    {\n      \"column\": \"Age\",\n      \"properties\": {\n        \"dtype\": \"number\",\n        \"std\": 10,\n        \"min\": 18,\n        \"max\": 92,\n        \"num_unique_values\": 70,\n        \"samples\": [\n          61,\n          42,\n          59\n        ],\n        \"semantic_type\": \"\",\n        \"description\": \"\"\n      }\n    },\n    {\n      \"column\": \"Tenure\",\n      \"properties\": {\n        \"dtype\": \"number\",\n        \"std\": 2,\n        \"min\": 0,\n        \"max\": 10,\n        \"num_unique_values\": 11,\n        \"samples\": [\n          6,\n          2,\n          9\n        ],\n        \"semantic_type\": \"\",\n        \"description\": \"\"\n      }\n    },\n    {\n      \"column\": \"Balance\",\n      \"properties\": {\n        \"dtype\": \"number\",\n        \"std\": 62397.40520238623,\n        \"min\": 0.0,\n        \"max\": 250898.09,\n        \"num_unique_values\": 6382,\n        \"samples\": [\n          117707.18,\n          133050.97,\n          124271.26\n        ],\n        \"semantic_type\": \"\",\n        \"description\": \"\"\n      }\n    },\n    {\n      \"column\": \"NumOfProducts\",\n      \"properties\": {\n        \"dtype\": \"number\",\n        \"std\": 0,\n        \"min\": 1,\n        \"max\": 4,\n        \"num_unique_values\": 4,\n        \"samples\": [\n          3,\n          4,\n          1\n        ],\n        \"semantic_type\": \"\",\n        \"description\": \"\"\n      }\n    },\n    {\n      \"column\": \"HasCrCard\",\n      \"properties\": {\n        \"dtype\": \"number\",\n        \"std\": 0,\n        \"min\": 0,\n        \"max\": 1,\n        \"num_unique_values\": 2,\n        \"samples\": [\n          0,\n          1\n        ],\n        \"semantic_type\": \"\",\n        \"description\": \"\"\n      }\n    },\n    {\n      \"column\": \"IsActiveMember\",\n      \"properties\": {\n        \"dtype\": \"number\",\n        \"std\": 0,\n        \"min\": 0,\n        \"max\": 1,\n        \"num_unique_values\": 2,\n        \"samples\": [\n          0,\n          1\n        ],\n        \"semantic_type\": \"\",\n        \"description\": \"\"\n      }\n    },\n    {\n      \"column\": \"EstimatedSalary\",\n      \"properties\": {\n        \"dtype\": \"number\",\n        \"std\": 57510.49281769822,\n        \"min\": 11.58,\n        \"max\": 199992.48,\n        \"num_unique_values\": 9999,\n        \"samples\": [\n          100809.99,\n          95273.73\n        ],\n        \"semantic_type\": \"\",\n        \"description\": \"\"\n      }\n    },\n    {\n      \"column\": \"Exited\",\n      \"properties\": {\n        \"dtype\": \"number\",\n        \"std\": 0,\n        \"min\": 0,\n        \"max\": 1,\n        \"num_unique_values\": 2,\n        \"samples\": [\n          0,\n          1\n        ],\n        \"semantic_type\": \"\",\n        \"description\": \"\"\n      }\n    },\n    {\n      \"column\": \"Geography_France\",\n      \"properties\": {\n        \"dtype\": \"number\",\n        \"std\": 0,\n        \"min\": 0,\n        \"max\": 1,\n        \"num_unique_values\": 2,\n        \"samples\": [\n          0,\n          1\n        ],\n        \"semantic_type\": \"\",\n        \"description\": \"\"\n      }\n    },\n    {\n      \"column\": \"Geography_Germany\",\n      \"properties\": {\n        \"dtype\": \"number\",\n        \"std\": 0,\n        \"min\": 0,\n        \"max\": 1,\n        \"num_unique_values\": 2,\n        \"samples\": [\n          1,\n          0\n        ],\n        \"semantic_type\": \"\",\n        \"description\": \"\"\n      }\n    },\n    {\n      \"column\": \"Geography_Spain\",\n      \"properties\": {\n        \"dtype\": \"number\",\n        \"std\": 0,\n        \"min\": 0,\n        \"max\": 1,\n        \"num_unique_values\": 2,\n        \"samples\": [\n          1,\n          0\n        ],\n        \"semantic_type\": \"\",\n        \"description\": \"\"\n      }\n    },\n    {\n      \"column\": \"Gender_Female\",\n      \"properties\": {\n        \"dtype\": \"number\",\n        \"std\": 0,\n        \"min\": 0,\n        \"max\": 1,\n        \"num_unique_values\": 2,\n        \"samples\": [\n          0,\n          1\n        ],\n        \"semantic_type\": \"\",\n        \"description\": \"\"\n      }\n    },\n    {\n      \"column\": \"Gender_Male\",\n      \"properties\": {\n        \"dtype\": \"number\",\n        \"std\": 0,\n        \"min\": 0,\n        \"max\": 1,\n        \"num_unique_values\": 2,\n        \"samples\": [\n          1,\n          0\n        ],\n        \"semantic_type\": \"\",\n        \"description\": \"\"\n      }\n    }\n  ]\n}"
            }
          },
          "metadata": {},
          "execution_count": 2
        }
      ]
    },
    {
      "cell_type": "markdown",
      "source": [
        "#### Обучение модели"
      ],
      "metadata": {
        "id": "8p7N-JNjxPef"
      }
    },
    {
      "cell_type": "markdown",
      "source": [
        "Перейдем теперь к этапу обучения модели. По аналогии с лабораторной работой №1, для этого создадим вспомогательные функции:\n",
        "\n",
        "- `generate_train_data` - отвечает за то, чтобы сгенерировать набор данных для тестирования и обучения на основе переданного датасета\n",
        "\n",
        "- `get_model_metrics` - отвечает за рассчет показаний метрик для уже обученной модели на основе тестовых данных\n",
        "\n",
        "- `print_model_metrics` - отвечает за отформатированный вывод показаний метрик"
      ],
      "metadata": {
        "id": "ry_ZJV2OxQrG"
      }
    },
    {
      "cell_type": "code",
      "source": [
        "def generate_train_data(dataset, *, target_feature=\"Exited\", random_state=42, test_size=0.2):\n",
        "  X = dataset.drop(columns=[target_feature])\n",
        "  y = dataset[target_feature]\n",
        "\n",
        "  X_train, X_test, y_train, y_test = map(\n",
        "    np.array,\n",
        "    sklearn.model_selection.train_test_split(\n",
        "      X, y,\n",
        "      test_size=test_size,\n",
        "      random_state=random_state,\n",
        "    ),\n",
        "  )\n",
        "\n",
        "  return (X_train, y_train), (X_test, y_test)\n",
        "\n",
        "\n",
        "def get_model_metrics(model, X_test, y_test):\n",
        "  y_pred = model.predict(X_test)\n",
        "\n",
        "  accuracy = sklearn.metrics.accuracy_score(y_test, y_pred)\n",
        "  precision = sklearn.metrics.precision_score(y_test, y_pred)\n",
        "  recall = sklearn.metrics.recall_score(y_test, y_pred)\n",
        "  f1 = sklearn.metrics.f1_score(y_test, y_pred)\n",
        "\n",
        "  confusion_matrix = sklearn.metrics.confusion_matrix(y_test, y_pred)\n",
        "\n",
        "  return {\n",
        "    \"accuracy\": accuracy,\n",
        "    \"precision\": precision,\n",
        "    \"recall\": recall,\n",
        "    \"f1\": f1,\n",
        "    \"confusion_matrix\": confusion_matrix,\n",
        "  }\n",
        "\n",
        "\n",
        "def print_model_metrics(model, X_test, y_test):\n",
        "  metrics = get_model_metrics(model, X_test, y_test)\n",
        "\n",
        "  print(f\"Accuracy: {metrics['accuracy']:.4f}\")\n",
        "  print(f\"Precision: {metrics['precision']:.4f}\")\n",
        "  print(f\"Recall: {metrics['recall']:.4f}\")\n",
        "  print(f\"F1-Score: {metrics['f1']:.4f}\")\n",
        "\n",
        "  print(\"\\nConfusion Matrix:\")\n",
        "  print(metrics[\"confusion_matrix\"])\n"
      ],
      "metadata": {
        "id": "4nNzvwUlxSIC"
      },
      "execution_count": 3,
      "outputs": []
    },
    {
      "cell_type": "markdown",
      "source": [
        "Обучим теперь модель решающего дерева для решения задачи классификации на бейзлайн-датасете, который мы ранее определили, и выведем на экран показатели метрик для итоговой обученной модели."
      ],
      "metadata": {
        "id": "gPScVpMExWvz"
      }
    },
    {
      "cell_type": "code",
      "source": [
        "(X_train, y_train), (X_test, y_test) = generate_train_data(baseline_ds)\n",
        "\n",
        "model = sklearn.ensemble.RandomForestClassifier(random_state=42)\n",
        "model.fit(X_train, y_train)\n",
        "\n",
        "print_model_metrics(model, X_test, y_test)"
      ],
      "metadata": {
        "colab": {
          "base_uri": "https://localhost:8080/"
        },
        "id": "ND66U_GOxkb2",
        "outputId": "4ff7cd7a-cbdf-4bee-fc01-5c70ad29fc09"
      },
      "execution_count": 4,
      "outputs": [
        {
          "output_type": "stream",
          "name": "stdout",
          "text": [
            "Accuracy: 0.8650\n",
            "Precision: 0.7510\n",
            "Recall: 0.4682\n",
            "F1-Score: 0.5768\n",
            "\n",
            "Confusion Matrix:\n",
            "[[1546   61]\n",
            " [ 209  184]]\n"
          ]
        }
      ]
    },
    {
      "cell_type": "markdown",
      "source": [
        "На основе полученных данных можно сделать следующие выводы о качестве обученной модели.\n",
        "\n",
        "Высокие значения метрики \"Accuracy\" говорят нам о том, что модель имеет хорошую способность избегать ложных срабатываний. Однако, судя по значениям метрики \"Recall\" мы можем сделать вывод, что модель теряет значительно колчиество объектов меньшинства.\n",
        "\n",
        "Итого, при дальнейшем улучшении бейзлайна предлагается сделать упор на то, чтобы помочь модели учитывать несбалансированность данных."
      ],
      "metadata": {
        "id": "Zp8IJ4hVyPmZ"
      }
    },
    {
      "cell_type": "markdown",
      "source": [
        "### 3. Улучшение бейзлайна"
      ],
      "metadata": {
        "id": "B5Mrt32SzG5Z"
      }
    },
    {
      "cell_type": "markdown",
      "source": [
        "#### Удаление лишних признаков"
      ],
      "metadata": {
        "id": "WwePiEaozIQT"
      }
    },
    {
      "cell_type": "markdown",
      "source": [
        "Одной из проблем со стороны датасета, которая может ухудшить итоговое качество модели, может быть мльтиуколлинеарность признаков.\n",
        "\n",
        "Так как мльтиколлинеарные признаки несут дублирующую информацию, то деревья в ансамбле могут излишне сосредотачиваться на этих взаимосвязанных признаках, что приводит к ненужному усложнению модели, или, при использовании таких алгоритмов определения важности признаков, как Gini, может возникнуть ситуация, когда алгоритм будет завышать значимость одного из мультиколлинеарных признаков, \"забывая\" о других.\n",
        "\n",
        "Для обнаруженая мальтиколлинеарных пар признаков визуализируем матрицу коллинеарности.\n"
      ],
      "metadata": {
        "id": "DmAAdj0B-s1n"
      }
    },
    {
      "cell_type": "code",
      "source": [
        "corr_matrix = baseline_ds.corr().drop(\"Exited\", axis=0)\n",
        "\n",
        "plt.figure(figsize=(18, 18))\n",
        "sns.heatmap(corr_matrix, annot=True, fmt=\".2f\", cmap=\"coolwarm\")\n",
        "plt.title(\"Ковариационная матрица\")\n",
        "plt.show()"
      ],
      "metadata": {
        "colab": {
          "base_uri": "https://localhost:8080/",
          "height": 1000
        },
        "id": "assUgH9s_Ts2",
        "outputId": "049f5a2b-7e3f-4cc3-876a-eb14b23271a9"
      },
      "execution_count": 6,
      "outputs": [
        {
          "output_type": "display_data",
          "data": {
            "text/plain": [
              "<Figure size 1800x1800 with 2 Axes>"
            ],
            "image/png": "[encoded data removed]"
          },
          "metadata": {}
        }
      ]
    },
    {
      "cell_type": "markdown",
      "source": [
        "Как видим, у нас есть мультиколлинеарные признаки `Gender_Male` и `Geography_Germany`. Попробуем убрать их из датасета и проверить, улучшилось ли после данной оптимизации итоговое качество модели."
      ],
      "metadata": {
        "id": "k4aiclR1_glX"
      }
    },
    {
      "cell_type": "code",
      "source": [
        "optimized_ds = baseline_ds.drop(columns=[\"Gender_Male\", \"Geography_Germany\"])\n",
        "\n",
        "(X_train, y_train), (X_test, y_test) = generate_train_data(optimized_ds)\n",
        "\n",
        "model = sklearn.ensemble.RandomForestClassifier(random_state=42)\n",
        "model.fit(X_train, y_train)\n",
        "\n",
        "print_model_metrics(model, X_test, y_test)"
      ],
      "metadata": {
        "colab": {
          "base_uri": "https://localhost:8080/"
        },
        "id": "KmkcpjjRzWhC",
        "outputId": "c4e37e9d-ecf7-4ced-93ba-a96a3460313a"
      },
      "execution_count": 5,
      "outputs": [
        {
          "output_type": "stream",
          "name": "stdout",
          "text": [
            "Accuracy: 0.8685\n",
            "Precision: 0.7664\n",
            "Recall: 0.4758\n",
            "F1-Score: 0.5871\n",
            "\n",
            "Confusion Matrix:\n",
            "[[1550   57]\n",
            " [ 206  187]]\n"
          ]
        }
      ]
    },
    {
      "cell_type": "markdown",
      "source": [
        "Как видно, после проведенных оптимизаций значения метрик улучшились, но незначительно, что связанно с тем, что деревья решений и смешанный лес, который основан на них, хорошо справляются с избыточностью информации."
      ],
      "metadata": {
        "id": "91rKkVA9_rtP"
      }
    },
    {
      "cell_type": "markdown",
      "source": [
        "#### Подбор гиперпараметров"
      ],
      "metadata": {
        "id": "M9UB0cFAA9Xn"
      }
    },
    {
      "cell_type": "markdown",
      "source": [
        "Иногда значения гиперпараметров, установленные в модели по умолчанию, не всегда являются оптимальными для конкретного датасета.\n",
        "\n",
        "Поэтому, иногда имеет смысл подобрать более оптимальные значения гиперпараетров, которые больше подходить для текущего датасета.\n",
        "\n",
        "Попробуем подобрать такие значения гиперпараметров на основе алгоритма grid search."
      ],
      "metadata": {
        "id": "5zhVJ0DpBDgn"
      }
    },
    {
      "cell_type": "code",
      "source": [
        "param_grid = {\n",
        "  \"n_estimators\": [5, 10, 20],\n",
        "  \"max_depth\": [None, 5, 10, 20],\n",
        "  \"min_samples_split\": [2, 5, 10],\n",
        "  \"min_samples_leaf\": [1, 2, 4],\n",
        "  \"max_features\": [\"sqrt\", \"log2\", None],\n",
        "}\n",
        "\n",
        "(X_train, y_train), (X_test, y_test) = generate_train_data(optimized_ds)\n",
        "model = sklearn.ensemble.RandomForestClassifier(random_state=42)\n",
        "\n",
        "grid_search = sklearn.model_selection.GridSearchCV(\n",
        "    estimator=model,\n",
        "    param_grid=param_grid,\n",
        "    cv=5,\n",
        "    scoring=\"accuracy\",\n",
        "    n_jobs=-1,\n",
        ")\n",
        "\n",
        "grid_search.fit(X_train, y_train)\n",
        "\n",
        "# Вывод результатов\n",
        "\n",
        "best_params = grid_search.best_params_\n",
        "best_model = grid_search.best_estimator_\n",
        "\n",
        "print(f\"Best Parameters: {best_params}\")\n",
        "print_model_metrics(best_model, X_test, y_test)\n"
      ],
      "metadata": {
        "colab": {
          "base_uri": "https://localhost:8080/"
        },
        "id": "9avASN5E__pJ",
        "outputId": "877455e3-c511-41eb-f0fe-f27c06c93e9c"
      },
      "execution_count": 8,
      "outputs": [
        {
          "output_type": "stream",
          "name": "stdout",
          "text": [
            "Best Parameters: {'max_depth': None, 'max_features': 'sqrt', 'min_samples_leaf': 1, 'min_samples_split': 10, 'n_estimators': 20}\n",
            "Accuracy: 0.8625\n",
            "Precision: 0.7341\n",
            "Recall: 0.4707\n",
            "F1-Score: 0.5736\n",
            "\n",
            "Confusion Matrix:\n",
            "[[1540   67]\n",
            " [ 208  185]]\n"
          ]
        }
      ]
    },
    {
      "cell_type": "markdown",
      "source": [
        "Как видно по значениям метрик, подбор гиперпараметров не дал положительного результата - модель стала показывать немного хуже показатели целевых метрик, что говорит нам о том, что значения гиперпараметров, установленные в модели по умолчанию, являются наиболее оптимальными."
      ],
      "metadata": {
        "id": "IvexHUYrBWYk"
      }
    },
    {
      "cell_type": "markdown",
      "source": [
        "### 4. Имплементация алгоритма машинного обучения"
      ],
      "metadata": {
        "id": "e8U-b9Z-Bq1-"
      }
    },
    {
      "cell_type": "markdown",
      "source": [
        "Перейдем теперь к собственной имплементации алгоритма дерева решения для задачи регрессии. Решение я реализовал в виде класса `MyRandomForestClassifier`, который имеет интерфейс, схожий с тем, что используется в библиотеке `sklearn`. присутствуют 2 метода: `fit` - для обучения модели, `predict` - для предсказания классов для уже обученной модели.\n",
        "\n",
        "Так как смешанный лес является ансамблевым методом, то в его работе участвуют другие модели. В нашем случае это дерево решений. В качестве такой вспомогательной модели была взята имплементация алгоритма дерева решений из лабораторной работы №3.\n",
        "\n",
        "Также, так как процесс обучения стал значительно дольше, то была добавлена строка для отслеживания прогресса обучения модели."
      ],
      "metadata": {
        "id": "69W7Xzl_BrWl"
      }
    },
    {
      "cell_type": "code",
      "source": [
        "_PredictedClass = int\n",
        "\n",
        "\n",
        "@dataclass\n",
        "class _SplitInfo:\n",
        "  index: int\n",
        "  threshold: float\n",
        "\n",
        "\n",
        "@dataclass\n",
        "class _TreeNode:\n",
        "  split_info: _SplitInfo\n",
        "  left: Union[\"_TreeNode\", _PredictedClass]\n",
        "  right: Union[\"_TreeNode\", _PredictedClass]\n",
        "\n",
        "\n",
        "class MyDecisionTreeClassifier:\n",
        "  def __init__(self, *, max_depth=float(\"inf\")):\n",
        "    self.__max_depth = max_depth\n",
        "    self.__tree = None\n",
        "\n",
        "  def __build_decision_tree(self, X, y, depth=0):\n",
        "    n, m = X.shape\n",
        "    unique_classes = set(y)\n",
        "\n",
        "    if len(unique_classes) == 1 or n <= 1:\n",
        "      return unique_classes.pop()\n",
        "\n",
        "    if depth >= self.__max_depth:\n",
        "      return collections.Counter(y).most_common(1)[0][0]\n",
        "\n",
        "    best_split = self._best_split(X, y)\n",
        "    if best_split is None:\n",
        "      raise ValueError()\n",
        "\n",
        "    left_part, right_part = self.__split_data(X, y, best_split)\n",
        "\n",
        "    return _TreeNode(\n",
        "      split_info=best_split,\n",
        "      left=self.__build_decision_tree(*left_part, depth + 1),\n",
        "      right=self.__build_decision_tree(*right_part, depth + 1),\n",
        "    )\n",
        "\n",
        "  def __split_data(self, X, y, split_info):\n",
        "    x = X[:, split_info.index]\n",
        "    left_ids = x <= split_info.threshold\n",
        "    right_ids = x > split_info.threshold\n",
        "\n",
        "    return (X[left_ids], y[left_ids]), (X[right_ids], y[right_ids])\n",
        "\n",
        "  def _best_split(self, X, y):\n",
        "    _, m = X.shape\n",
        "    best_split = max(\n",
        "      (\n",
        "        _SplitInfo(index=feature_index, threshold=threshold)\n",
        "        for feature_index in range(m)\n",
        "        for threshold in self.__get_thresholds(X, feature_index)\n",
        "      ),\n",
        "      key=lambda split_info: self.__get_info_gain(X, y, split_info.index, split_info.threshold),\n",
        "      default=None,\n",
        "    )\n",
        "\n",
        "    if self.__get_info_gain(X, y, best_split.index, best_split.threshold) == -float(\"inf\"):\n",
        "      return None\n",
        "    return best_split\n",
        "\n",
        "  def __get_info_gain(self, X, y, feature_index, threshold):\n",
        "    feature_values = X[:, feature_index]\n",
        "    left_indices = feature_values <= threshold\n",
        "    right_indices = feature_values > threshold\n",
        "\n",
        "    if np.sum(left_indices) == 0 or np.sum(right_indices) == 0:\n",
        "      return -float('inf')\n",
        "\n",
        "    left_y = y[left_indices]\n",
        "    right_y = y[right_indices]\n",
        "\n",
        "    l = self.__get_entropy(left_y)\n",
        "    r = self.__get_entropy(right_y)\n",
        "\n",
        "    n = len(y)\n",
        "    return self.__get_entropy(y) - (len(left_y) / n * l + len(right_y) / n * r)\n",
        "\n",
        "  def __get_thresholds(self, X, feature_id):\n",
        "    return np.unique(X[:, feature_id])\n",
        "\n",
        "  def __get_entropy(self, y):\n",
        "    class_counts = np.bincount(y)\n",
        "    probabilities = class_counts / len(y)\n",
        "    return -np.sum(probabilities * np.log2(probabilities + 1e-9))\n",
        "\n",
        "  def __predict(self, x):\n",
        "    cursor = self.__tree\n",
        "\n",
        "    while isinstance(cursor, _TreeNode):\n",
        "      feature_value = x[cursor.split_info.index]\n",
        "      predictor = feature_value <= cursor.split_info.threshold\n",
        "      cursor = [cursor.right, cursor.left][predictor]\n",
        "\n",
        "    return cursor\n",
        "\n",
        "  def fit(self, X, y):\n",
        "    self.__tree = self.__build_decision_tree(X, y)\n",
        "\n",
        "  def predict(self, X):\n",
        "    return np.array(list(map(self.__predict, X)))"
      ],
      "metadata": {
        "id": "_FIXecQ0BtK4"
      },
      "execution_count": 27,
      "outputs": []
    },
    {
      "cell_type": "code",
      "source": [
        "def _get_max_value(param, default):\n",
        "  if param == \"sqrt\":\n",
        "    return int(math.sqrt(default))\n",
        "  if param is None:\n",
        "    return default\n",
        "  return param\n",
        "\n",
        "\n",
        "def _with_retries(func):\n",
        "  while True:\n",
        "    try:\n",
        "      return func()\n",
        "    except:\n",
        "      pass\n",
        "\n",
        "\n",
        "class MyRandomForestClassifier:\n",
        "  def __init__(self, trees_amount=10, max_depth=5, max_features=2):\n",
        "    self.__trees_amount = trees_amount\n",
        "    self.__tree_max_depth = max_depth\n",
        "    self.__max_features = max_features\n",
        "    self.__trees = None\n",
        "\n",
        "  def __create_new_tree(self, X, y):\n",
        "    n, m = X.shape\n",
        "    max_features = _get_max_value(self.__max_features, m)\n",
        "    max_depth = _get_max_value(self.__tree_max_depth, n)\n",
        "\n",
        "    sample_ids = np.random.choice(n, size=n, replace=True)\n",
        "    feature_ids = np.random.choice(m, max_features, replace=False)\n",
        "\n",
        "    selected_x = X[sample_ids][:, feature_ids]\n",
        "    selected_y = y[sample_ids]\n",
        "\n",
        "    tree = MyDecisionTreeClassifier(max_depth=max_depth)\n",
        "    tree.fit(selected_x, selected_y)\n",
        "    return tree, feature_ids\n",
        "\n",
        "  def fit(self, X, y):\n",
        "    self.__trees = [\n",
        "      _with_retries(lambda: self.__create_new_tree(X, y))\n",
        "      for _ in tqdm.tqdm(range(self.__trees_amount))\n",
        "    ]\n",
        "\n",
        "  def predict(self, X):\n",
        "    tree_predictions = np.array([tree.predict(X[:, features]) for tree, features in self.__trees])\n",
        "    return [collections.Counter(pred).most_common(1)[0][0] for pred in tree_predictions.T]"
      ],
      "metadata": {
        "id": "ns3IWGQAB_zt"
      },
      "execution_count": 35,
      "outputs": []
    },
    {
      "cell_type": "markdown",
      "source": [
        "#### Сравнение с бейзлайном"
      ],
      "metadata": {
        "id": "IFEwaip3PWii"
      }
    },
    {
      "cell_type": "markdown",
      "source": [
        "Обучим теперь реализованную модель на датасете, соответствущем бейзлайну. Из-за определенных ранее вспомогательных функций и схожего интерфейса класса модели основной алгоритм обучения не меняется."
      ],
      "metadata": {
        "id": "lsfLWLgPPX30"
      }
    },
    {
      "cell_type": "code",
      "source": [
        "(X_train, y_train), (X_test, y_test) = generate_train_data(baseline_ds)\n",
        "\n",
        "model = MyRandomForestClassifier(max_depth=float(\"inf\"))\n",
        "model.fit(X_train, y_train)\n",
        "\n",
        "print_model_metrics(model, X_test, y_test)"
      ],
      "metadata": {
        "colab": {
          "base_uri": "https://localhost:8080/"
        },
        "id": "-No3A8e6NiIA",
        "outputId": "2f4223a1-eacb-46e2-8c7e-930581cfaed3"
      },
      "execution_count": 38,
      "outputs": [
        {
          "output_type": "stream",
          "name": "stdout",
          "text": [
            "100%|██████████| 10/10 [03:45<00:00, 22.50s/it]\n",
            "Accuracy: 0.7475\n",
            "Precision: 0.2407\n",
            "Recall: 0.1323\n",
            "F1-Score: 0.1708\n",
            "\n",
            "Confusion Matrix:\n",
            "[[1443  164]\n",
            " [ 341   52]]\n"
          ]
        }
      ]
    },
    {
      "cell_type": "markdown",
      "source": [
        "Как видим, по сравнению с моделью из пункта 2, имплементированная модель показывает значительно хуже результаты. Связано это с отсутствием тонкой настройки гиперпараметров и использованием базового алгоритма работы смешанного дерева, который лишен оптимизаций.\n",
        "\n",
        "Отдельное внимание стоит уделить метрике \"F1-Score\", которая оказалась в разы хуже, чем в модели из пункта 2. Это говорит нам о том, что модель не справляется с несбалансированностью классов в датасете."
      ],
      "metadata": {
        "id": "3O6hSqsAPcmL"
      }
    },
    {
      "cell_type": "code",
      "source": [
        "(X_train, y_train), (X_test, y_test) = generate_train_data(optimized_ds)\n",
        "\n",
        "model = MyRandomForestClassifier(\n",
        "    trees_amount=20,\n",
        "    max_depth=\"sqrt\",\n",
        ")\n",
        "model.fit(X_train, y_train)\n",
        "\n",
        "print_model_metrics(model, X_test, y_test)"
      ],
      "metadata": {
        "colab": {
          "base_uri": "https://localhost:8080/"
        },
        "id": "4i3JiH_sP8kC",
        "outputId": "fb407ac7-3240-42d9-e342-5c78de75dd18"
      },
      "execution_count": 42,
      "outputs": [
        {
          "output_type": "stream",
          "name": "stdout",
          "text": [
            "100%|██████████| 20/20 [05:33<00:00, 16.69s/it]\n",
            "Accuracy: 0.7640\n",
            "Precision: 0.2238\n",
            "Recall: 0.0814\n",
            "F1-Score: 0.1194\n",
            "\n",
            "Confusion Matrix:\n",
            "[[1496  111]\n",
            " [ 361   32]]\n"
          ]
        }
      ]
    },
    {
      "cell_type": "markdown",
      "source": [
        "Как видно, даже при улучшенном бейзлайне имплементированная модель показывает хуже результаты, чем модель из пункта 3, что также связано с тем, что она не учитывает несбалансированность классов.\n",
        "\n",
        "По сравнению с моделью, обученной на бейзлайне до оптимизаций, улучшения модели незначительные, что говорит нам о том, что учет несбалансированности классов играл основную роль в росте качества модели."
      ],
      "metadata": {
        "id": "Xg0jbzZmRmgj"
      }
    },
    {
      "cell_type": "markdown",
      "source": [
        "## Регрессия"
      ],
      "metadata": {
        "id": "XNBFuRP0SE4w"
      }
    },
    {
      "cell_type": "markdown",
      "source": [
        "### 2. Создание бейзлайна и оценка качества"
      ],
      "metadata": {
        "id": "nGrxLflZSGMY"
      }
    },
    {
      "cell_type": "markdown",
      "source": [
        "#### Подготовка бейзлайна"
      ],
      "metadata": {
        "id": "bRAka0hJSHgj"
      }
    },
    {
      "cell_type": "markdown",
      "source": [
        "Перед началом обучения модели сформируем бейзлайн, подобно тому, как это было выполнено в рамках лабораторной работы №1"
      ],
      "metadata": {
        "id": "iVAxiOxnSJHi"
      }
    },
    {
      "cell_type": "code",
      "source": [
        "!kaggle datasets download -q -p dataset -d denkuznetz/taxi-price-prediction\n",
        "!unzip dataset/taxi-price-prediction.zip -d dataset/"
      ],
      "metadata": {
        "colab": {
          "base_uri": "https://localhost:8080/"
        },
        "id": "D2tsr44ZSLeO",
        "outputId": "32fa4e89-cc9c-42e5-94f9-bc47122f19d3"
      },
      "execution_count": 43,
      "outputs": [
        {
          "output_type": "stream",
          "name": "stdout",
          "text": [
            "Dataset URL: https://www.kaggle.com/datasets/denkuznetz/taxi-price-prediction\n",
            "License(s): apache-2.0\n",
            "Archive:  dataset/taxi-price-prediction.zip\n",
            "  inflating: dataset/taxi_trip_pricing.csv  \n"
          ]
        }
      ]
    },
    {
      "cell_type": "code",
      "source": [
        "ds = pd.read_csv(\"/content/dataset/taxi_trip_pricing.csv\")\n",
        "baseline_ds = ds.dropna(subset=[\"Trip_Price\"])\n",
        "\n",
        "numeric_features = [\n",
        "  \"Trip_Distance_km\",\n",
        "  \"Passenger_Count\",\n",
        "  \"Base_Fare\",\n",
        "  \"Per_Km_Rate\",\n",
        "  \"Per_Minute_Rate\",\n",
        "  \"Trip_Duration_Minutes\",\n",
        "]\n",
        "baseline_ds[numeric_features] = baseline_ds[numeric_features].apply(lambda col: col.fillna(col.median()))\n",
        "\n",
        "categorical_features = [\n",
        "  \"Time_of_Day\",\n",
        "  \"Day_of_Week\",\n",
        "  \"Traffic_Conditions\",\n",
        "  \"Weather\",\n",
        "]\n",
        "\n",
        "for feature in categorical_features:\n",
        "  encoded_feature = pd.get_dummies(baseline_ds[feature], prefix=feature, dtype=int)\n",
        "  baseline_ds[encoded_feature.columns] = encoded_feature\n",
        "  baseline_ds = baseline_ds.drop(columns=[feature])\n",
        "\n",
        "baseline_ds.head()"
      ],
      "metadata": {
        "colab": {
          "base_uri": "https://localhost:8080/",
          "height": 226
        },
        "id": "5fXwHhYzSNZM",
        "outputId": "cf451852-487c-4bd6-be4b-25992cdb4ae3"
      },
      "execution_count": 45,
      "outputs": [
        {
          "output_type": "execute_result",
          "data": {
            "text/plain": [
              "   Trip_Distance_km  Passenger_Count  Base_Fare  Per_Km_Rate  Per_Minute_Rate  \\\n",
              "0             19.35              3.0       3.56         0.80             0.32   \n",
              "2             36.87              1.0       2.70         1.21             0.15   \n",
              "3             30.33              4.0       3.48         0.51             0.15   \n",
              "4             25.87              3.0       2.93         0.63             0.32   \n",
              "5              8.64              2.0       2.55         1.71             0.48   \n",
              "\n",
              "   Trip_Duration_Minutes  Trip_Price  Time_of_Day_Afternoon  \\\n",
              "0                  53.82     36.2624                      0   \n",
              "2                  37.27     52.9032                      0   \n",
              "3                 116.81     36.4698                      0   \n",
              "4                  22.64     15.6180                      0   \n",
              "5                  89.33     60.2028                      1   \n",
              "\n",
              "   Time_of_Day_Evening  Time_of_Day_Morning  Time_of_Day_Night  \\\n",
              "0                    0                    1                  0   \n",
              "2                    1                    0                  0   \n",
              "3                    1                    0                  0   \n",
              "4                    1                    0                  0   \n",
              "5                    0                    0                  0   \n",
              "\n",
              "   Day_of_Week_Weekday  Day_of_Week_Weekend  Traffic_Conditions_High  \\\n",
              "0                    1                    0                        0   \n",
              "2                    0                    1                        1   \n",
              "3                    1                    0                        0   \n",
              "4                    1                    0                        1   \n",
              "5                    0                    1                        0   \n",
              "\n",
              "   Traffic_Conditions_Low  Traffic_Conditions_Medium  Weather_Clear  \\\n",
              "0                       1                          0              1   \n",
              "2                       0                          0              1   \n",
              "3                       1                          0              0   \n",
              "4                       0                          0              1   \n",
              "5                       0                          1              1   \n",
              "\n",
              "   Weather_Rain  Weather_Snow  \n",
              "0             0             0  \n",
              "2             0             0  \n",
              "3             0             0  \n",
              "4             0             0  \n",
              "5             0             0  "
            ],
            "text/html": [
              "\n",
              "  <div id=\"df-87bad2d8-bb35-4c0c-b395-94147c376245\" class=\"colab-df-container\">\n",
              "    <div>\n",
              "<style scoped>\n",
              "    .dataframe tbody tr th:only-of-type {\n",
              "        vertical-align: middle;\n",
              "    }\n",
              "\n",
              "    .dataframe tbody tr th {\n",
              "        vertical-align: top;\n",
              "    }\n",
              "\n",
              "    .dataframe thead th {\n",
              "        text-align: right;\n",
              "    }\n",
              "</style>\n",
              "<table border=\"1\" class=\"dataframe\">\n",
              "  <thead>\n",
              "    <tr style=\"text-align: right;\">\n",
              "      <th></th>\n",
              "      <th>Trip_Distance_km</th>\n",
              "      <th>Passenger_Count</th>\n",
              "      <th>Base_Fare</th>\n",
              "      <th>Per_Km_Rate</th>\n",
              "      <th>Per_Minute_Rate</th>\n",
              "      <th>Trip_Duration_Minutes</th>\n",
              "      <th>Trip_Price</th>\n",
              "      <th>Time_of_Day_Afternoon</th>\n",
              "      <th>Time_of_Day_Evening</th>\n",
              "      <th>Time_of_Day_Morning</th>\n",
              "      <th>Time_of_Day_Night</th>\n",
              "      <th>Day_of_Week_Weekday</th>\n",
              "      <th>Day_of_Week_Weekend</th>\n",
              "      <th>Traffic_Conditions_High</th>\n",
              "      <th>Traffic_Conditions_Low</th>\n",
              "      <th>Traffic_Conditions_Medium</th>\n",
              "      <th>Weather_Clear</th>\n",
              "      <th>Weather_Rain</th>\n",
              "      <th>Weather_Snow</th>\n",
              "    </tr>\n",
              "  </thead>\n",
              "  <tbody>\n",
              "    <tr>\n",
              "      <th>0</th>\n",
              "      <td>19.35</td>\n",
              "      <td>3.0</td>\n",
              "      <td>3.56</td>\n",
              "      <td>0.80</td>\n",
              "      <td>0.32</td>\n",
              "      <td>53.82</td>\n",
              "      <td>36.2624</td>\n",
              "      <td>0</td>\n",
              "      <td>0</td>\n",
              "      <td>1</td>\n",
              "      <td>0</td>\n",
              "      <td>1</td>\n",
              "      <td>0</td>\n",
              "      <td>0</td>\n",
              "      <td>1</td>\n",
              "      <td>0</td>\n",
              "      <td>1</td>\n",
              "      <td>0</td>\n",
              "      <td>0</td>\n",
              "    </tr>\n",
              "    <tr>\n",
              "      <th>2</th>\n",
              "      <td>36.87</td>\n",
              "      <td>1.0</td>\n",
              "      <td>2.70</td>\n",
              "      <td>1.21</td>\n",
              "      <td>0.15</td>\n",
              "      <td>37.27</td>\n",
              "      <td>52.9032</td>\n",
              "      <td>0</td>\n",
              "      <td>1</td>\n",
              "      <td>0</td>\n",
              "      <td>0</td>\n",
              "      <td>0</td>\n",
              "      <td>1</td>\n",
              "      <td>1</td>\n",
              "      <td>0</td>\n",
              "      <td>0</td>\n",
              "      <td>1</td>\n",
              "      <td>0</td>\n",
              "      <td>0</td>\n",
              "    </tr>\n",
              "    <tr>\n",
              "      <th>3</th>\n",
              "      <td>30.33</td>\n",
              "      <td>4.0</td>\n",
              "      <td>3.48</td>\n",
              "      <td>0.51</td>\n",
              "      <td>0.15</td>\n",
              "      <td>116.81</td>\n",
              "      <td>36.4698</td>\n",
              "      <td>0</td>\n",
              "      <td>1</td>\n",
              "      <td>0</td>\n",
              "      <td>0</td>\n",
              "      <td>1</td>\n",
              "      <td>0</td>\n",
              "      <td>0</td>\n",
              "      <td>1</td>\n",
              "      <td>0</td>\n",
              "      <td>0</td>\n",
              "      <td>0</td>\n",
              "      <td>0</td>\n",
              "    </tr>\n",
              "    <tr>\n",
              "      <th>4</th>\n",
              "      <td>25.87</td>\n",
              "      <td>3.0</td>\n",
              "      <td>2.93</td>\n",
              "      <td>0.63</td>\n",
              "      <td>0.32</td>\n",
              "      <td>22.64</td>\n",
              "      <td>15.6180</td>\n",
              "      <td>0</td>\n",
              "      <td>1</td>\n",
              "      <td>0</td>\n",
              "      <td>0</td>\n",
              "      <td>1</td>\n",
              "      <td>0</td>\n",
              "      <td>1</td>\n",
              "      <td>0</td>\n",
              "      <td>0</td>\n",
              "      <td>1</td>\n",
              "      <td>0</td>\n",
              "      <td>0</td>\n",
              "    </tr>\n",
              "    <tr>\n",
              "      <th>5</th>\n",
              "      <td>8.64</td>\n",
              "      <td>2.0</td>\n",
              "      <td>2.55</td>\n",
              "      <td>1.71</td>\n",
              "      <td>0.48</td>\n",
              "      <td>89.33</td>\n",
              "      <td>60.2028</td>\n",
              "      <td>1</td>\n",
              "      <td>0</td>\n",
              "      <td>0</td>\n",
              "      <td>0</td>\n",
              "      <td>0</td>\n",
              "      <td>1</td>\n",
              "      <td>0</td>\n",
              "      <td>0</td>\n",
              "      <td>1</td>\n",
              "      <td>1</td>\n",
              "      <td>0</td>\n",
              "      <td>0</td>\n",
              "    </tr>\n",
              "  </tbody>\n",
              "</table>\n",
              "</div>\n",
              "    <div class=\"colab-df-buttons\">\n",
              "\n",
              "  <div class=\"colab-df-container\">\n",
              "    <button class=\"colab-df-convert\" onclick=\"convertToInteractive('df-87bad2d8-bb35-4c0c-b395-94147c376245')\"\n",
              "            title=\"Convert this dataframe to an interactive table.\"\n",
              "            style=\"display:none;\">\n",
              "\n",
              "  <svg xmlns=\"http://www.w3.org/2000/svg\" height=\"24px\" viewBox=\"0 -960 960 960\">\n",
              "    <path d=\"M120-120v-720h720v720H120Zm60-500h600v-160H180v160Zm220 220h160v-160H400v160Zm0 220h160v-160H400v160ZM180-400h160v-160H180v160Zm440 0h160v-160H620v160ZM180-180h160v-160H180v160Zm440 0h160v-160H620v160Z\"/>\n",
              "  </svg>\n",
              "    </button>\n",
              "\n",
              "  <style>\n",
              "    .colab-df-container {\n",
              "      display:flex;\n",
              "      gap: 12px;\n",
              "    }\n",
              "\n",
              "    .colab-df-convert {\n",
              "      background-color: #E8F0FE;\n",
              "      border: none;\n",
              "      border-radius: 50%;\n",
              "      cursor: pointer;\n",
              "      display: none;\n",
              "      fill: #1967D2;\n",
              "      height: 32px;\n",
              "      padding: 0 0 0 0;\n",
              "      width: 32px;\n",
              "    }\n",
              "\n",
              "    .colab-df-convert:hover {\n",
              "      background-color: #E2EBFA;\n",
              "      box-shadow: 0px 1px 2px rgba(60, 64, 67, 0.3), 0px 1px 3px 1px rgba(60, 64, 67, 0.15);\n",
              "      fill: #174EA6;\n",
              "    }\n",
              "\n",
              "    .colab-df-buttons div {\n",
              "      margin-bottom: 4px;\n",
              "    }\n",
              "\n",
              "    [theme=dark] .colab-df-convert {\n",
              "      background-color: #3B4455;\n",
              "      fill: #D2E3FC;\n",
              "    }\n",
              "\n",
              "    [theme=dark] .colab-df-convert:hover {\n",
              "      background-color: #434B5C;\n",
              "      box-shadow: 0px 1px 3px 1px rgba(0, 0, 0, 0.15);\n",
              "      filter: drop-shadow(0px 1px 2px rgba(0, 0, 0, 0.3));\n",
              "      fill: #FFFFFF;\n",
              "    }\n",
              "  </style>\n",
              "\n",
              "    <script>\n",
              "      const buttonEl =\n",
              "        document.querySelector('#df-87bad2d8-bb35-4c0c-b395-94147c376245 button.colab-df-convert');\n",
              "      buttonEl.style.display =\n",
              "        google.colab.kernel.accessAllowed ? 'block' : 'none';\n",
              "\n",
              "      async function convertToInteractive(key) {\n",
              "        const element = document.querySelector('#df-87bad2d8-bb35-4c0c-b395-94147c376245');\n",
              "        const dataTable =\n",
              "          await google.colab.kernel.invokeFunction('convertToInteractive',\n",
              "                                                    [key], {});\n",
              "        if (!dataTable) return;\n",
              "\n",
              "        const docLinkHtml = 'Like what you see? Visit the ' +\n",
              "          '<a target=\"_blank\" href=https://colab.research.google.com/notebooks/data_table.ipynb>data table notebook</a>'\n",
              "          + ' to learn more about interactive tables.';\n",
              "        element.innerHTML = '';\n",
              "        dataTable['output_type'] = 'display_data';\n",
              "        await google.colab.output.renderOutput(dataTable, element);\n",
              "        const docLink = document.createElement('div');\n",
              "        docLink.innerHTML = docLinkHtml;\n",
              "        element.appendChild(docLink);\n",
              "      }\n",
              "    </script>\n",
              "  </div>\n",
              "\n",
              "\n",
              "<div id=\"df-c958f788-e76d-4769-9ed7-f8f698982da9\">\n",
              "  <button class=\"colab-df-quickchart\" onclick=\"quickchart('df-c958f788-e76d-4769-9ed7-f8f698982da9')\"\n",
              "            title=\"Suggest charts\"\n",
              "            style=\"display:none;\">\n",
              "\n",
              "<svg xmlns=\"http://www.w3.org/2000/svg\" height=\"24px\"viewBox=\"0 0 24 24\"\n",
              "     width=\"24px\">\n",
              "    <g>\n",
              "        <path d=\"M19 3H5c-1.1 0-2 .9-2 2v14c0 1.1.9 2 2 2h14c1.1 0 2-.9 2-2V5c0-1.1-.9-2-2-2zM9 17H7v-7h2v7zm4 0h-2V7h2v10zm4 0h-2v-4h2v4z\"/>\n",
              "    </g>\n",
              "</svg>\n",
              "  </button>\n",
              "\n",
              "<style>\n",
              "  .colab-df-quickchart {\n",
              "      --bg-color: #E8F0FE;\n",
              "      --fill-color: #1967D2;\n",
              "      --hover-bg-color: #E2EBFA;\n",
              "      --hover-fill-color: #174EA6;\n",
              "      --disabled-fill-color: #AAA;\n",
              "      --disabled-bg-color: #DDD;\n",
              "  }\n",
              "\n",
              "  [theme=dark] .colab-df-quickchart {\n",
              "      --bg-color: #3B4455;\n",
              "      --fill-color: #D2E3FC;\n",
              "      --hover-bg-color: #434B5C;\n",
              "      --hover-fill-color: #FFFFFF;\n",
              "      --disabled-bg-color: #3B4455;\n",
              "      --disabled-fill-color: #666;\n",
              "  }\n",
              "\n",
              "  .colab-df-quickchart {\n",
              "    background-color: var(--bg-color);\n",
              "    border: none;\n",
              "    border-radius: 50%;\n",
              "    cursor: pointer;\n",
              "    display: none;\n",
              "    fill: var(--fill-color);\n",
              "    height: 32px;\n",
              "    padding: 0;\n",
              "    width: 32px;\n",
              "  }\n",
              "\n",
              "  .colab-df-quickchart:hover {\n",
              "    background-color: var(--hover-bg-color);\n",
              "    box-shadow: 0 1px 2px rgba(60, 64, 67, 0.3), 0 1px 3px 1px rgba(60, 64, 67, 0.15);\n",
              "    fill: var(--button-hover-fill-color);\n",
              "  }\n",
              "\n",
              "  .colab-df-quickchart-complete:disabled,\n",
              "  .colab-df-quickchart-complete:disabled:hover {\n",
              "    background-color: var(--disabled-bg-color);\n",
              "    fill: var(--disabled-fill-color);\n",
              "    box-shadow: none;\n",
              "  }\n",
              "\n",
              "  .colab-df-spinner {\n",
              "    border: 2px solid var(--fill-color);\n",
              "    border-color: transparent;\n",
              "    border-bottom-color: var(--fill-color);\n",
              "    animation:\n",
              "      spin 1s steps(1) infinite;\n",
              "  }\n",
              "\n",
              "  @keyframes spin {\n",
              "    0% {\n",
              "      border-color: transparent;\n",
              "      border-bottom-color: var(--fill-color);\n",
              "      border-left-color: var(--fill-color);\n",
              "    }\n",
              "    20% {\n",
              "      border-color: transparent;\n",
              "      border-left-color: var(--fill-color);\n",
              "      border-top-color: var(--fill-color);\n",
              "    }\n",
              "    30% {\n",
              "      border-color: transparent;\n",
              "      border-left-color: var(--fill-color);\n",
              "      border-top-color: var(--fill-color);\n",
              "      border-right-color: var(--fill-color);\n",
              "    }\n",
              "    40% {\n",
              "      border-color: transparent;\n",
              "      border-right-color: var(--fill-color);\n",
              "      border-top-color: var(--fill-color);\n",
              "    }\n",
              "    60% {\n",
              "      border-color: transparent;\n",
              "      border-right-color: var(--fill-color);\n",
              "    }\n",
              "    80% {\n",
              "      border-color: transparent;\n",
              "      border-right-color: var(--fill-color);\n",
              "      border-bottom-color: var(--fill-color);\n",
              "    }\n",
              "    90% {\n",
              "      border-color: transparent;\n",
              "      border-bottom-color: var(--fill-color);\n",
              "    }\n",
              "  }\n",
              "</style>\n",
              "\n",
              "  <script>\n",
              "    async function quickchart(key) {\n",
              "      const quickchartButtonEl =\n",
              "        document.querySelector('#' + key + ' button');\n",
              "      quickchartButtonEl.disabled = true;  // To prevent multiple clicks.\n",
              "      quickchartButtonEl.classList.add('colab-df-spinner');\n",
              "      try {\n",
              "        const charts = await google.colab.kernel.invokeFunction(\n",
              "            'suggestCharts', [key], {});\n",
              "      } catch (error) {\n",
              "        console.error('Error during call to suggestCharts:', error);\n",
              "      }\n",
              "      quickchartButtonEl.classList.remove('colab-df-spinner');\n",
              "      quickchartButtonEl.classList.add('colab-df-quickchart-complete');\n",
              "    }\n",
              "    (() => {\n",
              "      let quickchartButtonEl =\n",
              "        document.querySelector('#df-c958f788-e76d-4769-9ed7-f8f698982da9 button');\n",
              "      quickchartButtonEl.style.display =\n",
              "        google.colab.kernel.accessAllowed ? 'block' : 'none';\n",
              "    })();\n",
              "  </script>\n",
              "</div>\n",
              "    </div>\n",
              "  </div>\n"
            ],
            "application/vnd.google.colaboratory.intrinsic+json": {
              "type": "dataframe",
              "variable_name": "baseline_ds",
              "summary": "{\n  \"name\": \"baseline_ds\",\n  \"rows\": 951,\n  \"fields\": [\n    {\n      \"column\": \"Trip_Distance_km\",\n      \"properties\": {\n        \"dtype\": \"number\",\n        \"std\": 19.61978451961453,\n        \"min\": 1.23,\n        \"max\": 146.0670471598387,\n        \"num_unique_values\": 827,\n        \"samples\": [\n          130.80900130744172,\n          38.42,\n          39.96\n        ],\n        \"semantic_type\": \"\",\n        \"description\": \"\"\n      }\n    },\n    {\n      \"column\": \"Passenger_Count\",\n      \"properties\": {\n        \"dtype\": \"number\",\n        \"std\": 1.077936959142477,\n        \"min\": 1.0,\n        \"max\": 4.0,\n        \"num_unique_values\": 4,\n        \"samples\": [\n          1.0,\n          2.0,\n          3.0\n        ],\n        \"semantic_type\": \"\",\n        \"description\": \"\"\n      }\n    },\n    {\n      \"column\": \"Base_Fare\",\n      \"properties\": {\n        \"dtype\": \"number\",\n        \"std\": 0.8464238435493024,\n        \"min\": 2.01,\n        \"max\": 5.0,\n        \"num_unique_values\": 286,\n        \"samples\": [\n          4.6,\n          2.37,\n          3.61\n        ],\n        \"semantic_type\": \"\",\n        \"description\": \"\"\n      }\n    },\n    {\n      \"column\": \"Per_Km_Rate\",\n      \"properties\": {\n        \"dtype\": \"number\",\n        \"std\": 0.4198881268533853,\n        \"min\": 0.5,\n        \"max\": 2.0,\n        \"num_unique_values\": 150,\n        \"samples\": [\n          1.65,\n          1.69,\n          0.5\n        ],\n        \"semantic_type\": \"\",\n        \"description\": \"\"\n      }\n    },\n    {\n      \"column\": \"Per_Minute_Rate\",\n      \"properties\": {\n        \"dtype\": \"number\",\n        \"std\": 0.11239203562447667,\n        \"min\": 0.1,\n        \"max\": 0.5,\n        \"num_unique_values\": 41,\n        \"samples\": [\n          0.26,\n          0.25,\n          0.34\n        ],\n        \"semantic_type\": \"\",\n        \"description\": \"\"\n      }\n    },\n    {\n      \"column\": \"Trip_Duration_Minutes\",\n      \"properties\": {\n        \"dtype\": \"number\",\n        \"std\": 31.529511153660437,\n        \"min\": 5.01,\n        \"max\": 119.84,\n        \"num_unique_values\": 873,\n        \"samples\": [\n          82.16,\n          76.53,\n          81.77\n        ],\n        \"semantic_type\": \"\",\n        \"description\": \"\"\n      }\n    },\n    {\n      \"column\": \"Trip_Price\",\n      \"properties\": {\n        \"dtype\": \"number\",\n        \"std\": 40.46979055020966,\n        \"min\": 6.1269,\n        \"max\": 332.0436886774302,\n        \"num_unique_values\": 951,\n        \"samples\": [\n          31.3844,\n          97.4848,\n          19.1069\n        ],\n        \"semantic_type\": \"\",\n        \"description\": \"\"\n      }\n    },\n    {\n      \"column\": \"Time_of_Day_Afternoon\",\n      \"properties\": {\n        \"dtype\": \"number\",\n        \"std\": 0,\n        \"min\": 0,\n        \"max\": 1,\n        \"num_unique_values\": 2,\n        \"samples\": [\n          1,\n          0\n        ],\n        \"semantic_type\": \"\",\n        \"description\": \"\"\n      }\n    },\n    {\n      \"column\": \"Time_of_Day_Evening\",\n      \"properties\": {\n        \"dtype\": \"number\",\n        \"std\": 0,\n        \"min\": 0,\n        \"max\": 1,\n        \"num_unique_values\": 2,\n        \"samples\": [\n          1,\n          0\n        ],\n        \"semantic_type\": \"\",\n        \"description\": \"\"\n      }\n    },\n    {\n      \"column\": \"Time_of_Day_Morning\",\n      \"properties\": {\n        \"dtype\": \"number\",\n        \"std\": 0,\n        \"min\": 0,\n        \"max\": 1,\n        \"num_unique_values\": 2,\n        \"samples\": [\n          0,\n          1\n        ],\n        \"semantic_type\": \"\",\n        \"description\": \"\"\n      }\n    },\n    {\n      \"column\": \"Time_of_Day_Night\",\n      \"properties\": {\n        \"dtype\": \"number\",\n        \"std\": 0,\n        \"min\": 0,\n        \"max\": 1,\n        \"num_unique_values\": 2,\n        \"samples\": [\n          1,\n          0\n        ],\n        \"semantic_type\": \"\",\n        \"description\": \"\"\n      }\n    },\n    {\n      \"column\": \"Day_of_Week_Weekday\",\n      \"properties\": {\n        \"dtype\": \"number\",\n        \"std\": 0,\n        \"min\": 0,\n        \"max\": 1,\n        \"num_unique_values\": 2,\n        \"samples\": [\n          0,\n          1\n        ],\n        \"semantic_type\": \"\",\n        \"description\": \"\"\n      }\n    },\n    {\n      \"column\": \"Day_of_Week_Weekend\",\n      \"properties\": {\n        \"dtype\": \"number\",\n        \"std\": 0,\n        \"min\": 0,\n        \"max\": 1,\n        \"num_unique_values\": 2,\n        \"samples\": [\n          1,\n          0\n        ],\n        \"semantic_type\": \"\",\n        \"description\": \"\"\n      }\n    },\n    {\n      \"column\": \"Traffic_Conditions_High\",\n      \"properties\": {\n        \"dtype\": \"number\",\n        \"std\": 0,\n        \"min\": 0,\n        \"max\": 1,\n        \"num_unique_values\": 2,\n        \"samples\": [\n          1,\n          0\n        ],\n        \"semantic_type\": \"\",\n        \"description\": \"\"\n      }\n    },\n    {\n      \"column\": \"Traffic_Conditions_Low\",\n      \"properties\": {\n        \"dtype\": \"number\",\n        \"std\": 0,\n        \"min\": 0,\n        \"max\": 1,\n        \"num_unique_values\": 2,\n        \"samples\": [\n          0,\n          1\n        ],\n        \"semantic_type\": \"\",\n        \"description\": \"\"\n      }\n    },\n    {\n      \"column\": \"Traffic_Conditions_Medium\",\n      \"properties\": {\n        \"dtype\": \"number\",\n        \"std\": 0,\n        \"min\": 0,\n        \"max\": 1,\n        \"num_unique_values\": 2,\n        \"samples\": [\n          1,\n          0\n        ],\n        \"semantic_type\": \"\",\n        \"description\": \"\"\n      }\n    },\n    {\n      \"column\": \"Weather_Clear\",\n      \"properties\": {\n        \"dtype\": \"number\",\n        \"std\": 0,\n        \"min\": 0,\n        \"max\": 1,\n        \"num_unique_values\": 2,\n        \"samples\": [\n          0,\n          1\n        ],\n        \"semantic_type\": \"\",\n        \"description\": \"\"\n      }\n    },\n    {\n      \"column\": \"Weather_Rain\",\n      \"properties\": {\n        \"dtype\": \"number\",\n        \"std\": 0,\n        \"min\": 0,\n        \"max\": 1,\n        \"num_unique_values\": 2,\n        \"samples\": [\n          1,\n          0\n        ],\n        \"semantic_type\": \"\",\n        \"description\": \"\"\n      }\n    },\n    {\n      \"column\": \"Weather_Snow\",\n      \"properties\": {\n        \"dtype\": \"number\",\n        \"std\": 0,\n        \"min\": 0,\n        \"max\": 1,\n        \"num_unique_values\": 2,\n        \"samples\": [\n          1,\n          0\n        ],\n        \"semantic_type\": \"\",\n        \"description\": \"\"\n      }\n    }\n  ]\n}"
            }
          },
          "metadata": {},
          "execution_count": 45
        }
      ]
    },
    {
      "cell_type": "markdown",
      "source": [
        "#### Обучение модели"
      ],
      "metadata": {
        "id": "R5R83QH0SSg0"
      }
    },
    {
      "cell_type": "markdown",
      "source": [
        "Перейдем теперь к этапу обучения модели. По аналогии с лабораторной работой №1, для этого создадим вспомогательные функции:\n",
        "\n",
        "- `generate_train_data` - отвечает за то, чтобы сгенерировать набор данных для тестирования и обучения на основе переданного датасета\n",
        "\n",
        "- `get_model_metrics` - отвечает за рассчет показаний метрик для уже обученной модели на основе тестовых данных\n",
        "\n",
        "- `print_model_metrics` - отвечает за отформатированный вывод показаний метрик"
      ],
      "metadata": {
        "id": "uW8XriZXSUEf"
      }
    },
    {
      "cell_type": "code",
      "source": [
        "def generate_train_data(dataset, *, target_feature=\"Trip_Price\", test_size=0.2, random_state=42):\n",
        "  X = dataset.drop(columns=[target_feature])\n",
        "  y = dataset[target_feature]\n",
        "  X_train, X_test, y_train, y_test = map(\n",
        "    np.array,\n",
        "    sklearn.model_selection.train_test_split(\n",
        "      X, y,\n",
        "      test_size=test_size,\n",
        "      random_state=random_state,\n",
        "    ),\n",
        "  )\n",
        "\n",
        "  return (X_train, y_train), (X_test, y_test)\n",
        "\n",
        "\n",
        "def get_model_metrics(model, X_test, y_test):\n",
        "  y_pred = model.predict(X_test)\n",
        "\n",
        "  mae = sklearn.metrics.mean_absolute_error(y_test, y_pred)\n",
        "  r2 = sklearn.metrics.r2_score(y_test, y_pred)\n",
        "\n",
        "  return { \"mae\": mae, \"r2\": r2 }\n",
        "\n",
        "\n",
        "def print_model_metrics(model, X_test, y_test):\n",
        "  results = get_model_metrics(model, X_test, y_test)\n",
        "\n",
        "  print(f\"Mean Absolute Error (MAE): {results['mae']:.4f}\")\n",
        "  print(f\"R-squared (R2): {results['r2']:.4f}\")"
      ],
      "metadata": {
        "id": "Zana4dzxSW77"
      },
      "execution_count": 46,
      "outputs": []
    },
    {
      "cell_type": "markdown",
      "source": [
        "Обучим теперь модель случайного леса для решения задачи регрессии на бейзлайн-датасете, который мы ранее определили и выведем на экран показатели метрик для итоговой обученной модели."
      ],
      "metadata": {
        "id": "mIlGCMT7SZbD"
      }
    },
    {
      "cell_type": "code",
      "source": [
        "(X_train, y_train), (X_test, y_test) = generate_train_data(baseline_ds)\n",
        "\n",
        "model = sklearn.ensemble.RandomForestRegressor(random_state=42)\n",
        "model.fit(X_train, y_train)\n",
        "\n",
        "print_model_metrics(model, X_test, y_test)"
      ],
      "metadata": {
        "colab": {
          "base_uri": "https://localhost:8080/"
        },
        "id": "Xj-NCw5cShWz",
        "outputId": "e8e90349-6ad0-42b8-8f40-5e7b1d03de11"
      },
      "execution_count": 47,
      "outputs": [
        {
          "output_type": "stream",
          "name": "stdout",
          "text": [
            "Mean Absolute Error (MAE): 6.2614\n",
            "R-squared (R2): 0.9458\n"
          ]
        }
      ]
    },
    {
      "cell_type": "markdown",
      "source": [
        "Как видим, даже на неоптимизированном бейзлайне модель показывает отличные результаты, о чем свидетельствуют высокие значения метрики \"R2\".\n",
        "\n",
        "Попробуем применить к случайному лесу гипотезы, которые мы раньше применяли к дереву решений."
      ],
      "metadata": {
        "id": "LPbp1cXQSnO7"
      }
    },
    {
      "cell_type": "markdown",
      "source": [
        "### 3. Улучшение бейзлайна"
      ],
      "metadata": {
        "id": "Q87AMdkwS4NY"
      }
    },
    {
      "cell_type": "markdown",
      "source": [
        "#### Feature engineering"
      ],
      "metadata": {
        "id": "_fWj6hxLS7Lw"
      }
    },
    {
      "cell_type": "markdown",
      "source": [
        "При решении прошлых лабораторных работ самым эффективным методом оптимизации бейзлайна всегда было добавление новых признаков с использованием нелинейных функций.\n",
        "\n",
        "Попробуем применить ту же гипотезу и к случайному лесу. Для этого расширим датасет новыми признаками `Trip_Distance_km`, `Per_Km_Rate` и `Trip_Duration_Minutes`, `Per_Minute_Rate`, которые мы определили в прошлых лабораторных работах."
      ],
      "metadata": {
        "id": "sYFezDf5S98S"
      }
    },
    {
      "cell_type": "code",
      "source": [
        "optimized_ds = baseline_ds.copy()\n",
        "\n",
        "optimized_ds[\"Per_Km_Rate__Trip_Distance_km\"] = optimized_ds[\"Trip_Distance_km\"] * optimized_ds[\"Per_Km_Rate\"]\n",
        "optimized_ds = optimized_ds.drop(columns=[\"Trip_Distance_km\", \"Per_Km_Rate\"])\n",
        "\n",
        "# обучение модели\n",
        "\n",
        "(X_train, y_train), (X_test, y_test) = generate_train_data(optimized_ds)\n",
        "\n",
        "model = sklearn.ensemble.RandomForestRegressor(random_state=42)\n",
        "model.fit(X_train, y_train)\n",
        "\n",
        "print_model_metrics(model, X_test, y_test)"
      ],
      "metadata": {
        "colab": {
          "base_uri": "https://localhost:8080/"
        },
        "id": "a26XtUXETQ8U",
        "outputId": "25847491-15ef-4fe2-b7c3-97f5ba813c5b"
      },
      "execution_count": 48,
      "outputs": [
        {
          "output_type": "stream",
          "name": "stdout",
          "text": [
            "Mean Absolute Error (MAE): 5.4902\n",
            "R-squared (R2): 0.9291\n"
          ]
        }
      ]
    },
    {
      "cell_type": "code",
      "source": [
        "optimized_ds_2 = optimized_ds.copy()\n",
        "\n",
        "optimized_ds_2[\"Per_Minute_Rate__Trip_Duration_Minutes\"] = optimized_ds_2[\"Trip_Duration_Minutes\"] * optimized_ds_2[\"Per_Minute_Rate\"]\n",
        "optimized_ds_2 = optimized_ds_2.drop(columns=[\"Trip_Duration_Minutes\", \"Per_Minute_Rate\"])\n",
        "\n",
        "# обучение модели\n",
        "\n",
        "(X_train, y_train), (X_test, y_test) = generate_train_data(optimized_ds_2)\n",
        "\n",
        "model = sklearn.ensemble.RandomForestRegressor(random_state=42)\n",
        "model.fit(X_train, y_train)\n",
        "\n",
        "print_model_metrics(model, X_test, y_test)"
      ],
      "metadata": {
        "colab": {
          "base_uri": "https://localhost:8080/"
        },
        "id": "U5EIKfpFTX0L",
        "outputId": "24d9419e-0db7-45e2-af1b-f8a372dc62ba"
      },
      "execution_count": 49,
      "outputs": [
        {
          "output_type": "stream",
          "name": "stdout",
          "text": [
            "Mean Absolute Error (MAE): 4.9117\n",
            "R-squared (R2): 0.9353\n"
          ]
        }
      ]
    },
    {
      "cell_type": "markdown",
      "source": [
        "Как видим, после внедрения новых признаков, показатель метрики \"MAE\" значительно уменьшился. Однако, с другой стороны, хоть и незначительно, но уменьшился показатель метрики \"R2\". Итого, можно сказать, что гипотеза оказалась верной и дала положительный результат при оптимизации бейзлайна."
      ],
      "metadata": {
        "id": "kH1zpQpETf3b"
      }
    },
    {
      "cell_type": "markdown",
      "source": [
        "#### Избавление от выбросов"
      ],
      "metadata": {
        "id": "HjtrEmRzTvqj"
      }
    },
    {
      "cell_type": "markdown",
      "source": [
        "Вторым по эффективности методом по оптимизации бейзлайна была фильтрация значений признаков в датасете. Попробуем применить ту же гипотезу и для случайного леса.\n",
        "\n",
        "Однако, в этот раз в качестве целового признака возьмем ранее добавленный `Per_Km_Rate__Trip_Distance_km`. Для начала проанлизируем значения признака на наличие выбросов. Для этого выведем графики, которые бы нам дали больше информации о распределении значений и зависимости целевой переменной от них."
      ],
      "metadata": {
        "id": "TirgZUfDTy4P"
      }
    },
    {
      "cell_type": "code",
      "source": [
        "fig, axes = plt.subplots(1, 3, figsize=(20, 6), constrained_layout=True)\n",
        "\n",
        "sns.scatterplot(\n",
        "    x=\"Per_Km_Rate__Trip_Distance_km\",\n",
        "    y=\"Trip_Price\",\n",
        "    data=optimized_ds_2,\n",
        "    ax=axes[0]\n",
        ")\n",
        "axes[0].set_title(\"Price estimate by distance vs Trip Price\")\n",
        "axes[0].set_xlabel(\"Price estimate by distance\")\n",
        "axes[0].set_ylabel(\"Trip Price\")\n",
        "axes[0].grid(True)\n",
        "\n",
        "axes[1].hist(optimized_ds_2[\"Per_Km_Rate__Trip_Distance_km\"], bins=30, color=\"skyblue\", edgecolor=\"black\")\n",
        "axes[1].set_title(\"Распределение значений\")\n",
        "axes[1].set_xlabel(\"Price estimate by distance\")\n",
        "axes[1].set_ylabel(\"Frequency\")\n",
        "\n",
        "sns.boxplot(\n",
        "    y=\"Per_Km_Rate__Trip_Distance_km\",\n",
        "    data=optimized_ds_2,\n",
        "    ax=axes[2]\n",
        ")\n",
        "axes[2].set_title(\"Boxplot of Price estimate by distance\")\n",
        "axes[2].set_ylabel(\"Value\")\n",
        "\n",
        "plt.show()"
      ],
      "metadata": {
        "colab": {
          "base_uri": "https://localhost:8080/",
          "height": 407
        },
        "id": "moUALpbEUfMy",
        "outputId": "f693913a-6e73-48bb-ebb4-d22828ae4ab0"
      },
      "execution_count": 51,
      "outputs": [
        {
          "output_type": "display_data",
          "data": {
            "text/plain": [
              "<Figure size 2000x600 with 3 Axes>"
            ],
            "image/png": "[encoded data removed]"
          },
          "metadata": {}
        }
      ]
    },
    {
      "cell_type": "markdown",
      "source": [
        "Как видно по графикам:\n",
        "\n",
        "1. Целевая переменная действительно сильно зависит от значений рассматриваемого признака\n",
        "\n",
        "2. Распределение значений для целевого признака слишком смещенное и имеет длинный \"хвост\"\n",
        "\n",
        "Попробуем избавиться от выбросов, используя метод интерквартильного размаха."
      ],
      "metadata": {
        "id": "tgOlcIkJVAxt"
      }
    },
    {
      "cell_type": "code",
      "source": [
        "Q1 = optimized_ds_2[\"Per_Km_Rate__Trip_Distance_km\"].quantile(0.25)\n",
        "Q3 = optimized_ds_2[\"Per_Km_Rate__Trip_Distance_km\"].quantile(0.75)\n",
        "IQR = Q3 - Q1\n",
        "\n",
        "lower_bound = Q1 - 1.5 * IQR\n",
        "upper_bound = Q3 + 1.5 * IQR\n",
        "\n",
        "optimized_ds_3 = optimized_ds_2[(lower_bound <= optimized_ds[\"Per_Km_Rate__Trip_Distance_km\"]) & (optimized_ds[\"Per_Km_Rate__Trip_Distance_km\"] <= upper_bound)]\n",
        "\n",
        "# обучение модели\n",
        "\n",
        "(X_train, y_train), (X_test, y_test) = generate_train_data(optimized_ds_3)\n",
        "\n",
        "model = sklearn.ensemble.RandomForestRegressor(random_state=42)\n",
        "model.fit(X_train, y_train)\n",
        "\n",
        "print_model_metrics(model, X_test, y_test)"
      ],
      "metadata": {
        "colab": {
          "base_uri": "https://localhost:8080/"
        },
        "id": "K4VLCsU3Vbyx",
        "outputId": "8192a04f-f3de-4f6e-e9e8-b142346e60e2"
      },
      "execution_count": 52,
      "outputs": [
        {
          "output_type": "stream",
          "name": "stdout",
          "text": [
            "Mean Absolute Error (MAE): 3.2798\n",
            "R-squared (R2): 0.9451\n"
          ]
        }
      ]
    },
    {
      "cell_type": "markdown",
      "source": [
        "Как видно, удаление выбросов из данных дало крайне положительный результат на итоговое значение метрики \"MAE\", и немного улучшего показатели метрики \"R2\". А следовательно, гипотеза оказалась верной!"
      ],
      "metadata": {
        "id": "MItJOvyNVln5"
      }
    },
    {
      "cell_type": "markdown",
      "source": [
        "### 4. Имплементация алгоритма машинного обучения"
      ],
      "metadata": {
        "id": "CNJsx7jvV0cY"
      }
    },
    {
      "cell_type": "markdown",
      "source": [
        "Перейдем теперь к собственной имплементации алгоритма смешанного леса для задачи регрессии. Решение я реализовал в виде класса `MyRandomForestRegressor`, который имеет интерфейс, схожий с тем, что используется в библиотеке `sklearn`. присутствуют 2 метода: `fit` - для обучения модели, `predict` - для предсказания классов для уже обученной модели.\n",
        "\n",
        "Так как смешанный лес является ансамблевым методом, то в его работе участвуют другие модели. В нашем случае это дерево решений. В качестве такой вспомогательной модели была взята имплементация алгоритма дерева решений из лабораторной работы №3 для решения задачи регрессии.\n",
        "\n",
        "Также, так как процесс обучения стал значительно дольше, то была добавлена строка для отслеживания прогресса обучения модели."
      ],
      "metadata": {
        "id": "901U67a4WERw"
      }
    },
    {
      "cell_type": "code",
      "source": [
        "_PredictedClass = int\n",
        "\n",
        "\n",
        "@dataclass\n",
        "class _SplitInfo:\n",
        "  index: int\n",
        "  threshold: float\n",
        "\n",
        "\n",
        "@dataclass\n",
        "class _TreeNode:\n",
        "  split_info: _SplitInfo\n",
        "  left: Union[\"_TreeNode\", _PredictedClass]\n",
        "  right: Union[\"_TreeNode\", _PredictedClass]\n",
        "\n",
        "\n",
        "\n",
        "# TODO: make a base class for regressor & classifier\n",
        "class MyDecisionTreeRegressor:\n",
        "  def __init__(self, *, max_depth=float(\"inf\")):\n",
        "    self.__max_depth = max_depth\n",
        "    self.__tree = None\n",
        "\n",
        "  def __build_decision_tree(self, X, y, depth=0):\n",
        "    n, _ = X.shape\n",
        "    unique_classes = set(y)\n",
        "\n",
        "    if len(unique_classes) == 1 or n <= 1:\n",
        "      return unique_classes.pop()\n",
        "\n",
        "    if depth >= self.__max_depth:\n",
        "      return collections.Counter(y).most_common(1)[0][0]\n",
        "\n",
        "    best_split = self.__get_best_split(X, y)\n",
        "    left_part, right_part = self.__split_data(X, y, best_split)\n",
        "\n",
        "    return _TreeNode(\n",
        "      split_info=best_split,\n",
        "      left=self.__build_decision_tree(*left_part, depth + 1),\n",
        "      right=self.__build_decision_tree(*right_part, depth + 1),\n",
        "    )\n",
        "\n",
        "  def __split_data(self, X, y, split_info):\n",
        "    x = X[:, split_info.index]\n",
        "    left_ids = x <= split_info.threshold\n",
        "    right_ids = x > split_info.threshold\n",
        "\n",
        "    return (X[left_ids], y[left_ids]), (X[right_ids], y[right_ids])\n",
        "\n",
        "  def __get_best_split(self, X, y):\n",
        "    _, m = X.shape\n",
        "    return max(\n",
        "      (\n",
        "        _SplitInfo(index=feature_index, threshold=threshold)\n",
        "        for feature_index in range(m)\n",
        "        for threshold in self.__get_thresholds(X, feature_index)\n",
        "      ),\n",
        "      key=lambda split_info: self.__get_variance_reduction(X, y, split_info.index, split_info.threshold),\n",
        "      default=-float('inf'),\n",
        "    )\n",
        "\n",
        "  def __get_variance_reduction(self, X, y, feature_index, threshold):\n",
        "    feature_values = X[:, feature_index]\n",
        "    left_indices = feature_values <= threshold\n",
        "    right_indices = feature_values > threshold\n",
        "\n",
        "    if np.sum(left_indices) == 0 or np.sum(right_indices) == 0:\n",
        "      return -float('inf')\n",
        "\n",
        "    left_y = y[left_indices]\n",
        "    right_y = y[right_indices]\n",
        "\n",
        "    n = len(y)\n",
        "    left_var = np.var(left_y) * len(left_y) / n\n",
        "    right_var = np.var(right_y) * len(right_y) / n\n",
        "\n",
        "    return np.var(y) - (left_var + right_var)\n",
        "\n",
        "  def __get_thresholds(self, X, feature_id):\n",
        "    return np.unique(X[:, feature_id])\n",
        "\n",
        "  def __predict(self, x):\n",
        "    cursor = self.__tree\n",
        "\n",
        "    while isinstance(cursor, _TreeNode):\n",
        "      feature_value = x[cursor.split_info.index]\n",
        "      cursor = cursor.left if feature_value <= cursor.split_info.threshold else cursor.right\n",
        "\n",
        "    return cursor\n",
        "\n",
        "  def fit(self, X, y):\n",
        "    self.__tree = self.__build_decision_tree(X, y)\n",
        "\n",
        "  def predict(self, X):\n",
        "    return np.array(list(map(self.__predict, X)))"
      ],
      "metadata": {
        "id": "2Mk8bY9IWLrJ"
      },
      "execution_count": 85,
      "outputs": []
    },
    {
      "cell_type": "code",
      "source": [
        "class MyRandomForestRegressor:\n",
        "    def __init__(self, trees_amount=100, max_depth=None):\n",
        "        self.__trees_amount = trees_amount\n",
        "        self.__tree_max_depth = max_depth\n",
        "        self.__trees = None\n",
        "\n",
        "    def __create_new_tree(self, X, y):\n",
        "        n, _ = X.shape\n",
        "        max_depth = _get_max_value(self.__tree_max_depth, n)\n",
        "        sample_ids = np.random.choice(n, size=n, replace=True)\n",
        "\n",
        "        selected_x = X[sample_ids]\n",
        "        selected_y = y[sample_ids]\n",
        "\n",
        "        tree = MyDecisionTreeRegressor(max_depth=max_depth)\n",
        "        tree.fit(selected_x, selected_y)\n",
        "        return tree\n",
        "\n",
        "    def fit(self, X, y):\n",
        "        self.__trees = [\n",
        "            _with_retries(lambda: self.__create_new_tree(X, y))\n",
        "            for _ in tqdm.tqdm(range(self.__trees_amount))\n",
        "        ]\n",
        "        print()\n",
        "\n",
        "    def predict(self, X):\n",
        "        y_pred = np.array([ tree.predict(X) for tree in self.__trees ])\n",
        "        return np.mean(y_pred, axis=0)"
      ],
      "metadata": {
        "id": "tXzJAwnOWNh_"
      },
      "execution_count": 86,
      "outputs": []
    },
    {
      "cell_type": "markdown",
      "source": [
        "#### Сравнение с бейзлайном"
      ],
      "metadata": {
        "id": "Ylrpf1RdaWmS"
      }
    },
    {
      "cell_type": "markdown",
      "source": [
        "Обучим теперь реализованную модель на датасете, соответствущем бейзлайну. Из-за определенных ранее вспомогательных функций и схожего интерфейса класса модели основной алгоритм обучения не меняется."
      ],
      "metadata": {
        "id": "INxgqSeOaY-d"
      }
    },
    {
      "cell_type": "code",
      "source": [
        "(X_train, y_train), (X_test, y_test) = generate_train_data(baseline_ds)\n",
        "\n",
        "model = MyRandomForestRegressor(trees_amount=10, max_depth=float(\"inf\"))\n",
        "model.fit(X_train, y_train)\n",
        "\n",
        "print_model_metrics(model, X_test, y_test)"
      ],
      "metadata": {
        "colab": {
          "base_uri": "https://localhost:8080/"
        },
        "id": "wL6VxnZqWYVf",
        "outputId": "c0dcd9d4-cc57-4c0c-cecb-7ff0ce65f77d"
      },
      "execution_count": 87,
      "outputs": [
        {
          "output_type": "stream",
          "name": "stderr",
          "text": [
            "100%|██████████| 10/10 [00:27<00:00,  2.76s/it]"
          ]
        },
        {
          "output_type": "stream",
          "name": "stdout",
          "text": [
            "\n",
            "Mean Absolute Error (MAE): 6.3680\n",
            "R-squared (R2): 0.9625\n"
          ]
        },
        {
          "output_type": "stream",
          "name": "stderr",
          "text": [
            "\n"
          ]
        }
      ]
    },
    {
      "cell_type": "markdown",
      "source": [
        "Как видим, итоговые значения полученных метрик оказались очень близкими к тем, которые были у модели из пункта 2, что говорит нам о схожести алгоритмов имплементации с реализацией из `sklearn`.\n",
        "\n",
        "Однако, значения хоть незначительно, но отличаются, что может быть обосновано наличие случайности в некоторых этапах алгоритма."
      ],
      "metadata": {
        "id": "7pu3RF6caas_"
      }
    },
    {
      "cell_type": "code",
      "source": [
        "(X_train, y_train), (X_test, y_test) = generate_train_data(optimized_ds_3)\n",
        "\n",
        "model = MyRandomForestRegressor(trees_amount=10, max_depth=float(\"inf\"))\n",
        "model.fit(X_train, y_train)\n",
        "\n",
        "print_model_metrics(model, X_test, y_test)"
      ],
      "metadata": {
        "colab": {
          "base_uri": "https://localhost:8080/"
        },
        "id": "QGQSomSca14t",
        "outputId": "6eb45f1e-0e9c-411f-8332-2d1b89d767e4"
      },
      "execution_count": 89,
      "outputs": [
        {
          "output_type": "stream",
          "name": "stderr",
          "text": [
            "100%|██████████| 10/10 [00:19<00:00,  1.98s/it]"
          ]
        },
        {
          "output_type": "stream",
          "name": "stdout",
          "text": [
            "\n",
            "Mean Absolute Error (MAE): 4.2440\n",
            "R-squared (R2): 0.9190\n"
          ]
        },
        {
          "output_type": "stream",
          "name": "stderr",
          "text": [
            "\n"
          ]
        }
      ]
    },
    {
      "cell_type": "markdown",
      "source": [
        "Как видно, улучшения, которые были проделаны по отношению к бейзлайну, оказали положительное влияние на итоговое качество имплементированной модели.\n",
        "\n",
        "В сравнении с моделью из пункта 3, имплементированная модель имеет хуже показатели метрик, что также связано с элементами случайности при работе алгоритма и, возможно, выбором базового алгоритма работы случайного дерева, которые лишен оптимизаций."
      ],
      "metadata": {
        "id": "TfV-xNNhbHqN"
      }
    }
  ]
}